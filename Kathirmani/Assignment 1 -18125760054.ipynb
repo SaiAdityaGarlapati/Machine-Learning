{
 "cells": [
  {
   "cell_type": "markdown",
   "metadata": {},
   "source": [
    "# Machine Learning Assignment-1"
   ]
  },
  {
   "cell_type": "markdown",
   "metadata": {},
   "source": [
    "## Name: Sai Aditya Garlapati   \n",
    "## Student-ID: 18125760054"
   ]
  },
  {
   "cell_type": "code",
   "execution_count": 1,
   "metadata": {},
   "outputs": [
    {
     "name": "stderr",
     "output_type": "stream",
     "text": [
      "C:\\Users\\Aditya\\Anaconda3\\lib\\site-packages\\sklearn\\ensemble\\weight_boosting.py:29: DeprecationWarning: numpy.core.umath_tests is an internal NumPy module and should not be imported. It will be removed in a future NumPy release.\n",
      "  from numpy.core.umath_tests import inner1d\n"
     ]
    }
   ],
   "source": [
    "import numpy as np\n",
    "import pandas as pd\n",
    "import matplotlib\n",
    "matplotlib.use('Agg')\n",
    "import matplotlib.pyplot as plt\n",
    "from sklearn.tree import DecisionTreeClassifier\n",
    "from sklearn.ensemble import AdaBoostClassifier,RandomForestClassifier\n",
    "from sklearn.model_selection import train_test_split\n",
    "from sklearn.metrics import accuracy_score,confusion_matrix,classification_report\n",
    "from sklearn.neighbors import KNeighborsClassifier"
   ]
  },
  {
   "cell_type": "markdown",
   "metadata": {},
   "source": [
    "## Question-1"
   ]
  },
  {
   "cell_type": "code",
   "execution_count": 2,
   "metadata": {},
   "outputs": [],
   "source": [
    "bank= pd.read_csv(\"C:/Users/Aditya/Documents/Manipal Sem 2/Machine Learning/Kathirmani/bank-full.csv\",sep=';')"
   ]
  },
  {
   "cell_type": "code",
   "execution_count": 3,
   "metadata": {},
   "outputs": [
    {
     "data": {
      "text/html": [
       "<div>\n",
       "<style scoped>\n",
       "    .dataframe tbody tr th:only-of-type {\n",
       "        vertical-align: middle;\n",
       "    }\n",
       "\n",
       "    .dataframe tbody tr th {\n",
       "        vertical-align: top;\n",
       "    }\n",
       "\n",
       "    .dataframe thead th {\n",
       "        text-align: right;\n",
       "    }\n",
       "</style>\n",
       "<table border=\"1\" class=\"dataframe\">\n",
       "  <thead>\n",
       "    <tr style=\"text-align: right;\">\n",
       "      <th></th>\n",
       "      <th>age</th>\n",
       "      <th>job</th>\n",
       "      <th>marital</th>\n",
       "      <th>education</th>\n",
       "      <th>default</th>\n",
       "      <th>balance</th>\n",
       "      <th>housing</th>\n",
       "      <th>loan</th>\n",
       "      <th>contact</th>\n",
       "      <th>day</th>\n",
       "      <th>month</th>\n",
       "      <th>duration</th>\n",
       "      <th>campaign</th>\n",
       "      <th>pdays</th>\n",
       "      <th>previous</th>\n",
       "      <th>poutcome</th>\n",
       "      <th>y</th>\n",
       "    </tr>\n",
       "  </thead>\n",
       "  <tbody>\n",
       "    <tr>\n",
       "      <th>0</th>\n",
       "      <td>58</td>\n",
       "      <td>management</td>\n",
       "      <td>married</td>\n",
       "      <td>tertiary</td>\n",
       "      <td>no</td>\n",
       "      <td>2143</td>\n",
       "      <td>yes</td>\n",
       "      <td>no</td>\n",
       "      <td>unknown</td>\n",
       "      <td>5</td>\n",
       "      <td>may</td>\n",
       "      <td>261</td>\n",
       "      <td>1</td>\n",
       "      <td>-1</td>\n",
       "      <td>0</td>\n",
       "      <td>unknown</td>\n",
       "      <td>no</td>\n",
       "    </tr>\n",
       "    <tr>\n",
       "      <th>1</th>\n",
       "      <td>44</td>\n",
       "      <td>technician</td>\n",
       "      <td>single</td>\n",
       "      <td>secondary</td>\n",
       "      <td>no</td>\n",
       "      <td>29</td>\n",
       "      <td>yes</td>\n",
       "      <td>no</td>\n",
       "      <td>unknown</td>\n",
       "      <td>5</td>\n",
       "      <td>may</td>\n",
       "      <td>151</td>\n",
       "      <td>1</td>\n",
       "      <td>-1</td>\n",
       "      <td>0</td>\n",
       "      <td>unknown</td>\n",
       "      <td>no</td>\n",
       "    </tr>\n",
       "    <tr>\n",
       "      <th>2</th>\n",
       "      <td>33</td>\n",
       "      <td>entrepreneur</td>\n",
       "      <td>married</td>\n",
       "      <td>secondary</td>\n",
       "      <td>no</td>\n",
       "      <td>2</td>\n",
       "      <td>yes</td>\n",
       "      <td>yes</td>\n",
       "      <td>unknown</td>\n",
       "      <td>5</td>\n",
       "      <td>may</td>\n",
       "      <td>76</td>\n",
       "      <td>1</td>\n",
       "      <td>-1</td>\n",
       "      <td>0</td>\n",
       "      <td>unknown</td>\n",
       "      <td>no</td>\n",
       "    </tr>\n",
       "    <tr>\n",
       "      <th>3</th>\n",
       "      <td>47</td>\n",
       "      <td>blue-collar</td>\n",
       "      <td>married</td>\n",
       "      <td>unknown</td>\n",
       "      <td>no</td>\n",
       "      <td>1506</td>\n",
       "      <td>yes</td>\n",
       "      <td>no</td>\n",
       "      <td>unknown</td>\n",
       "      <td>5</td>\n",
       "      <td>may</td>\n",
       "      <td>92</td>\n",
       "      <td>1</td>\n",
       "      <td>-1</td>\n",
       "      <td>0</td>\n",
       "      <td>unknown</td>\n",
       "      <td>no</td>\n",
       "    </tr>\n",
       "    <tr>\n",
       "      <th>4</th>\n",
       "      <td>33</td>\n",
       "      <td>unknown</td>\n",
       "      <td>single</td>\n",
       "      <td>unknown</td>\n",
       "      <td>no</td>\n",
       "      <td>1</td>\n",
       "      <td>no</td>\n",
       "      <td>no</td>\n",
       "      <td>unknown</td>\n",
       "      <td>5</td>\n",
       "      <td>may</td>\n",
       "      <td>198</td>\n",
       "      <td>1</td>\n",
       "      <td>-1</td>\n",
       "      <td>0</td>\n",
       "      <td>unknown</td>\n",
       "      <td>no</td>\n",
       "    </tr>\n",
       "  </tbody>\n",
       "</table>\n",
       "</div>"
      ],
      "text/plain": [
       "   age           job  marital  education default  balance housing loan  \\\n",
       "0   58    management  married   tertiary      no     2143     yes   no   \n",
       "1   44    technician   single  secondary      no       29     yes   no   \n",
       "2   33  entrepreneur  married  secondary      no        2     yes  yes   \n",
       "3   47   blue-collar  married    unknown      no     1506     yes   no   \n",
       "4   33       unknown   single    unknown      no        1      no   no   \n",
       "\n",
       "   contact  day month  duration  campaign  pdays  previous poutcome   y  \n",
       "0  unknown    5   may       261         1     -1         0  unknown  no  \n",
       "1  unknown    5   may       151         1     -1         0  unknown  no  \n",
       "2  unknown    5   may        76         1     -1         0  unknown  no  \n",
       "3  unknown    5   may        92         1     -1         0  unknown  no  \n",
       "4  unknown    5   may       198         1     -1         0  unknown  no  "
      ]
     },
     "execution_count": 3,
     "metadata": {},
     "output_type": "execute_result"
    }
   ],
   "source": [
    "bank.head()"
   ]
  },
  {
   "cell_type": "code",
   "execution_count": 4,
   "metadata": {},
   "outputs": [
    {
     "data": {
      "text/plain": [
       "age          0\n",
       "job          0\n",
       "marital      0\n",
       "education    0\n",
       "default      0\n",
       "balance      0\n",
       "housing      0\n",
       "loan         0\n",
       "contact      0\n",
       "day          0\n",
       "month        0\n",
       "duration     0\n",
       "campaign     0\n",
       "pdays        0\n",
       "previous     0\n",
       "poutcome     0\n",
       "y            0\n",
       "dtype: int64"
      ]
     },
     "execution_count": 4,
     "metadata": {},
     "output_type": "execute_result"
    }
   ],
   "source": [
    "bank.isnull().sum()"
   ]
  },
  {
   "cell_type": "markdown",
   "metadata": {},
   "source": [
    "### Creating Dummies to Bank Dataset"
   ]
  },
  {
   "cell_type": "code",
   "execution_count": 5,
   "metadata": {},
   "outputs": [
    {
     "data": {
      "text/plain": [
       "(45211, 52)"
      ]
     },
     "execution_count": 5,
     "metadata": {},
     "output_type": "execute_result"
    }
   ],
   "source": [
    "bank_dummy = pd.get_dummies(bank.drop('y',axis=1))\n",
    "bank_dummy['y']=bank['y']\n",
    "bank_dummy.shape\n"
   ]
  },
  {
   "cell_type": "markdown",
   "metadata": {},
   "source": [
    "## Decision Tree Classifier on Bank Dataset"
   ]
  },
  {
   "cell_type": "code",
   "execution_count": 6,
   "metadata": {},
   "outputs": [
    {
     "data": {
      "text/plain": [
       "87.72485992332645"
      ]
     },
     "execution_count": 6,
     "metadata": {},
     "output_type": "execute_result"
    }
   ],
   "source": [
    "train,test =train_test_split(bank_dummy,test_size=0.3,random_state=100)\n",
    "\n",
    "train_y =train['y']\n",
    "test_y =test['y']\n",
    "\n",
    "train_x=train.drop('y',axis=1)\n",
    "test_x=test.drop('y',axis=1)\n",
    "\n",
    "model =DecisionTreeClassifier(random_state=100)\n",
    "model.fit(train_x,train_y)\n",
    "\n",
    "test_pred =model.predict(test_x)\n",
    "bank_pred =pd.DataFrame({'actual':test_y,'predicted':test_pred})\n",
    "bank_pred['pred_status']=bank_pred['actual'] == bank_pred['predicted']\n",
    "bank_pred[bank_pred['pred_status']==True].shape[0]/bank_pred.shape[0] *100"
   ]
  },
  {
   "cell_type": "code",
   "execution_count": 7,
   "metadata": {},
   "outputs": [],
   "source": [
    "# True Negative\n",
    "tn_d=bank_pred[(bank_pred['predicted']=='no') & (bank_pred['actual']=='no')].shape[0]\n",
    "\n",
    "# False Positive\n",
    "fp_d=bank_pred[(bank_pred['predicted']=='yes') & (bank_pred['actual']=='no')].shape[0]\n",
    "# False Negative\n",
    "fn_d=bank_pred[(bank_pred['predicted']=='no') & (bank_pred['actual']=='yes')].shape[0]\n",
    "\n",
    "# Ture positive\n",
    "tp_d=bank_pred[(bank_pred['predicted']=='yes') & (bank_pred['actual']=='yes')].shape[0]\n",
    "\n",
    "accuracy = (tp_d + tn_d) / (tn_d + fp_d + fn_d + tp_d)\n",
    "sensitivity = tp_d / (tp_d + fn_d)\n",
    "specificity = tn_d / (tn_d + fp_d)\n",
    "\n",
    "metrics = pd.DataFrame({'Decision Tree':[tp_d, tn_d, fp_d, fn_d, accuracy, sensitivity, specificity]}, \n",
    "           index = ['True Negative', 'True Negative', 'False Positive', 'False Negative', 'Accuracy', 'Sensitivity', 'Specificity'])"
   ]
  },
  {
   "cell_type": "code",
   "execution_count": 8,
   "metadata": {},
   "outputs": [],
   "source": [
    "confusion_matrix(bank_pred['actual'],bank_pred['predicted'])\n",
    "\n",
    "tn_d,fp_d,fn_d,tp_d=confusion_matrix(bank_pred['actual'],\n",
    "                            bank_pred['predicted']).ravel()"
   ]
  },
  {
   "cell_type": "markdown",
   "metadata": {},
   "source": [
    "## Random Forest Classifier on Bank Dataset"
   ]
  },
  {
   "cell_type": "code",
   "execution_count": 9,
   "metadata": {},
   "outputs": [
    {
     "data": {
      "text/plain": [
       "89.97345915659098"
      ]
     },
     "execution_count": 9,
     "metadata": {},
     "output_type": "execute_result"
    }
   ],
   "source": [
    "train,test =train_test_split(bank_dummy,test_size=0.3,random_state=100)\n",
    "\n",
    "train_y =train['y']\n",
    "test_y =test['y']\n",
    "\n",
    "train_x=train.drop('y',axis=1)\n",
    "test_x=test.drop('y',axis=1)\n",
    "\n",
    "model =RandomForestClassifier(random_state=100)\n",
    "model.fit(train_x,train_y)\n",
    "\n",
    "test_pred =model.predict(test_x)\n",
    "bank_pred =pd.DataFrame({'actual':test_y,'predicted':test_pred})\n",
    "bank_pred['pred_status']=bank_pred['actual'] == bank_pred['predicted']\n",
    "bank_pred[bank_pred['pred_status']==True].shape[0]/bank_pred.shape[0] *100"
   ]
  },
  {
   "cell_type": "code",
   "execution_count": 10,
   "metadata": {},
   "outputs": [],
   "source": [
    "# True Negative\n",
    "tn_d=bank_pred[(bank_pred['predicted']=='no') & (bank_pred['actual']=='no')].shape[0]\n",
    "\n",
    "# False Positive\n",
    "fp_d=bank_pred[(bank_pred['predicted']=='yes') & (bank_pred['actual']=='no')].shape[0]\n",
    "# False Negative\n",
    "fn_d=bank_pred[(bank_pred['predicted']=='no') & (bank_pred['actual']=='yes')].shape[0]\n",
    "\n",
    "# Ture positive\n",
    "tp_d=bank_pred[(bank_pred['predicted']=='yes') & (bank_pred['actual']=='yes')].shape[0]\n",
    "\n",
    "\n",
    "accuracy = (tp_d + tn_d) / (tn_d + fp_d + fn_d + tp_d)\n",
    "sensitivity = tp_d / (tp_d + fn_d)\n",
    "specificity = tn_d / (tn_d + fp_d)\n",
    "\n",
    "metrics['Random Forest'] = [tp_d, tn_d, fp_d, fn_d, accuracy, sensitivity, specificity]"
   ]
  },
  {
   "cell_type": "markdown",
   "metadata": {},
   "source": [
    "## Ada Boost on Bank Dataset"
   ]
  },
  {
   "cell_type": "code",
   "execution_count": 11,
   "metadata": {},
   "outputs": [
    {
     "data": {
      "text/plain": [
       "89.72279563550575"
      ]
     },
     "execution_count": 11,
     "metadata": {},
     "output_type": "execute_result"
    }
   ],
   "source": [
    "train,test =train_test_split(bank_dummy,test_size=0.3,random_state=100)\n",
    "\n",
    "train_y =train['y']\n",
    "test_y =test['y']\n",
    "\n",
    "train_x=train.drop('y',axis=1)\n",
    "test_x=test.drop('y',axis=1)\n",
    "\n",
    "model =AdaBoostClassifier(random_state=100)\n",
    "model.fit(train_x,train_y)\n",
    "\n",
    "test_pred =model.predict(test_x)\n",
    "bank_pred =pd.DataFrame({'actual':test_y,'predicted':test_pred})\n",
    "bank_pred['pred_status']=bank_pred['actual'] == bank_pred['predicted']\n",
    "bank_pred[bank_pred['pred_status']==True].shape[0]/bank_pred.shape[0] *100"
   ]
  },
  {
   "cell_type": "code",
   "execution_count": 12,
   "metadata": {},
   "outputs": [],
   "source": [
    "# True Negative\n",
    "tn_d=bank_pred[(bank_pred['predicted']=='no') & (bank_pred['actual']=='no')].shape[0]\n",
    "\n",
    "# False Positive\n",
    "fp_d=bank_pred[(bank_pred['predicted']=='yes') & (bank_pred['actual']=='no')].shape[0]\n",
    "# False Negative\n",
    "fn_d=bank_pred[(bank_pred['predicted']=='no') & (bank_pred['actual']=='yes')].shape[0]\n",
    "\n",
    "# Ture positive\n",
    "tp_d=bank_pred[(bank_pred['predicted']=='yes') & (bank_pred['actual']=='yes')].shape[0]\n",
    "\n",
    "\n",
    "accuracy = (tp_d + tn_d) / (tn_d + fp_d + fn_d + tp_d)\n",
    "sensitivity = tp_d / (tp_d + fn_d)\n",
    "specificity = tn_d / (tn_d + fp_d)\n",
    "\n",
    "metrics['Ada Boost'] = [tp_d, tn_d, fp_d, fn_d, accuracy, sensitivity, specificity]"
   ]
  },
  {
   "cell_type": "markdown",
   "metadata": {},
   "source": [
    "## K Neighbour Classifier on Bank Data"
   ]
  },
  {
   "cell_type": "code",
   "execution_count": 13,
   "metadata": {},
   "outputs": [
    {
     "data": {
      "text/plain": [
       "88.05662046593925"
      ]
     },
     "execution_count": 13,
     "metadata": {},
     "output_type": "execute_result"
    }
   ],
   "source": [
    "train,test =train_test_split(bank_dummy,test_size=0.3,random_state=100)\n",
    "\n",
    "train_y =train['y']\n",
    "test_y =test['y']\n",
    "\n",
    "train_x=train.drop('y',axis=1)\n",
    "test_x=test.drop('y',axis=1)\n",
    "\n",
    "model =KNeighborsClassifier()\n",
    "model.fit(train_x,train_y)\n",
    "\n",
    "test_pred =model.predict(test_x)\n",
    "bank_pred =pd.DataFrame({'actual':test_y,'predicted':test_pred})\n",
    "bank_pred['pred_status']=bank_pred['actual'] == bank_pred['predicted']\n",
    "bank_pred[bank_pred['pred_status']==True].shape[0]/bank_pred.shape[0] *100"
   ]
  },
  {
   "cell_type": "code",
   "execution_count": 14,
   "metadata": {},
   "outputs": [],
   "source": [
    "# True Negative\n",
    "tn_d=bank_pred[(bank_pred['predicted']=='no') & (bank_pred['actual']=='no')].shape[0]\n",
    "\n",
    "# False Positive\n",
    "fp_d=bank_pred[(bank_pred['predicted']=='yes') & (bank_pred['actual']=='no')].shape[0]\n",
    "# False Negative\n",
    "fn_d=bank_pred[(bank_pred['predicted']=='no') & (bank_pred['actual']=='yes')].shape[0]\n",
    "\n",
    "# Ture positive\n",
    "tp_d=bank_pred[(bank_pred['predicted']=='yes') & (bank_pred['actual']=='yes')].shape[0]\n",
    "\n",
    "\n",
    "accuracy = (tp_d + tn_d) / (tn_d + fp_d + fn_d + tp_d)\n",
    "sensitivity = tp_d / (tp_d + fn_d)\n",
    "specificity = tn_d / (tn_d + fp_d)\n",
    "\n",
    "metrics['K Neighbors'] = [tp_d, tn_d, fp_d, fn_d, accuracy, sensitivity, specificity]"
   ]
  },
  {
   "cell_type": "code",
   "execution_count": 15,
   "metadata": {},
   "outputs": [
    {
     "data": {
      "text/html": [
       "<div>\n",
       "<style scoped>\n",
       "    .dataframe tbody tr th:only-of-type {\n",
       "        vertical-align: middle;\n",
       "    }\n",
       "\n",
       "    .dataframe tbody tr th {\n",
       "        vertical-align: top;\n",
       "    }\n",
       "\n",
       "    .dataframe thead th {\n",
       "        text-align: right;\n",
       "    }\n",
       "</style>\n",
       "<table border=\"1\" class=\"dataframe\">\n",
       "  <thead>\n",
       "    <tr style=\"text-align: right;\">\n",
       "      <th></th>\n",
       "      <th>Decision Tree</th>\n",
       "      <th>Random Forest</th>\n",
       "      <th>Ada Boost</th>\n",
       "      <th>K Neighbors</th>\n",
       "    </tr>\n",
       "  </thead>\n",
       "  <tbody>\n",
       "    <tr>\n",
       "      <th>True Negative</th>\n",
       "      <td>775.000000</td>\n",
       "      <td>561.000000</td>\n",
       "      <td>585.000000</td>\n",
       "      <td>434.000000</td>\n",
       "    </tr>\n",
       "    <tr>\n",
       "      <th>True Negative</th>\n",
       "      <td>11124.000000</td>\n",
       "      <td>11643.000000</td>\n",
       "      <td>11585.000000</td>\n",
       "      <td>11510.000000</td>\n",
       "    </tr>\n",
       "    <tr>\n",
       "      <th>False Positive</th>\n",
       "      <td>861.000000</td>\n",
       "      <td>342.000000</td>\n",
       "      <td>400.000000</td>\n",
       "      <td>475.000000</td>\n",
       "    </tr>\n",
       "    <tr>\n",
       "      <th>False Negative</th>\n",
       "      <td>804.000000</td>\n",
       "      <td>1018.000000</td>\n",
       "      <td>994.000000</td>\n",
       "      <td>1145.000000</td>\n",
       "    </tr>\n",
       "    <tr>\n",
       "      <th>Accuracy</th>\n",
       "      <td>0.877249</td>\n",
       "      <td>0.899735</td>\n",
       "      <td>0.897228</td>\n",
       "      <td>0.880566</td>\n",
       "    </tr>\n",
       "    <tr>\n",
       "      <th>Sensitivity</th>\n",
       "      <td>0.490817</td>\n",
       "      <td>0.355288</td>\n",
       "      <td>0.370488</td>\n",
       "      <td>0.274858</td>\n",
       "    </tr>\n",
       "    <tr>\n",
       "      <th>Specificity</th>\n",
       "      <td>0.928160</td>\n",
       "      <td>0.971464</td>\n",
       "      <td>0.966625</td>\n",
       "      <td>0.960367</td>\n",
       "    </tr>\n",
       "  </tbody>\n",
       "</table>\n",
       "</div>"
      ],
      "text/plain": [
       "                Decision Tree  Random Forest     Ada Boost   K Neighbors\n",
       "True Negative      775.000000     561.000000    585.000000    434.000000\n",
       "True Negative    11124.000000   11643.000000  11585.000000  11510.000000\n",
       "False Positive     861.000000     342.000000    400.000000    475.000000\n",
       "False Negative     804.000000    1018.000000    994.000000   1145.000000\n",
       "Accuracy             0.877249       0.899735      0.897228      0.880566\n",
       "Sensitivity          0.490817       0.355288      0.370488      0.274858\n",
       "Specificity          0.928160       0.971464      0.966625      0.960367"
      ]
     },
     "execution_count": 15,
     "metadata": {},
     "output_type": "execute_result"
    }
   ],
   "source": [
    "metrics"
   ]
  },
  {
   "cell_type": "markdown",
   "metadata": {},
   "source": [
    "## Question - 2"
   ]
  },
  {
   "cell_type": "markdown",
   "metadata": {},
   "source": [
    "## Classifing KNN without using KNN library import"
   ]
  },
  {
   "cell_type": "code",
   "execution_count": 16,
   "metadata": {},
   "outputs": [],
   "source": [
    "from sklearn.metrics.pairwise import euclidean_distances\n"
   ]
  },
  {
   "cell_type": "code",
   "execution_count": 17,
   "metadata": {},
   "outputs": [],
   "source": [
    "iris =pd.read_csv(\"iris.csv\")"
   ]
  },
  {
   "cell_type": "code",
   "execution_count": 18,
   "metadata": {},
   "outputs": [],
   "source": [
    "iris = iris.drop(['Unnamed: 5', 'Unnamed: 6', 'Unnamed: 7', 'Unnamed: 8'],axis=1)"
   ]
  },
  {
   "cell_type": "code",
   "execution_count": 21,
   "metadata": {},
   "outputs": [
    {
     "name": "stderr",
     "output_type": "stream",
     "text": [
      "C:\\Users\\Aditya\\Anaconda3\\lib\\site-packages\\sklearn\\model_selection\\_split.py:2026: FutureWarning: From version 0.21, test_size will always complement train_size unless both are specified.\n",
      "  FutureWarning)\n"
     ]
    },
    {
     "data": {
      "text/plain": [
       "'setosa'"
      ]
     },
     "execution_count": 21,
     "metadata": {},
     "output_type": "execute_result"
    }
   ],
   "source": [
    "train,test = train_test_split(iris, train_size = 0.7, random_state = 100)\n",
    "\n",
    "train_y = train['species']\n",
    "test_y = test['species']\n",
    "\n",
    "train_x = train.drop('species' , axis=1)\n",
    "test_x = test.drop('species', axis = 1)\n",
    "\n",
    "\n",
    "dist = pd.Series(euclidean_distances(test_x.tail(1), train_x).flatten())\n",
    "dist.index = train_y.index\n",
    "neighbors = dist.sort_values().head().index.tolist()\n",
    "\n",
    "train_y.loc[neighbors].value_counts().index.tolist()[0]"
   ]
  },
  {
   "cell_type": "markdown",
   "metadata": {},
   "source": [
    "Setosa is the species with the highest count"
   ]
  },
  {
   "cell_type": "markdown",
   "metadata": {},
   "source": [
    "## Question - 3"
   ]
  },
  {
   "cell_type": "markdown",
   "metadata": {},
   "source": [
    "## Digit Recogniser Challenge - MNIST Dataset"
   ]
  },
  {
   "cell_type": "markdown",
   "metadata": {},
   "source": [
    "### Kernal link for the challenge\n",
    "### https://www.kaggle.com/saiadityag/digit-recogniser-knn-demon9996"
   ]
  },
  {
   "cell_type": "markdown",
   "metadata": {},
   "source": [
    "#### Screenshot:"
   ]
  },
  {
   "attachments": {
    "Screenshot%20%2812%29.png": {
     "image/png": "[encoded data removed]"
    }
   },
   "cell_type": "markdown",
   "metadata": {},
   "source": [
    "![Screenshot%20%2812%29.png](attachment:Screenshot%20%2812%29.png)"
   ]
  },
  {
   "cell_type": "code",
   "execution_count": null,
   "metadata": {},
   "outputs": [],
   "source": []
  },
  {
   "cell_type": "code",
   "execution_count": null,
   "metadata": {},
   "outputs": [],
   "source": []
  }
 ],
 "metadata": {
  "kernelspec": {
   "display_name": "Python 3",
   "language": "python",
   "name": "python3"
  },
  "language_info": {
   "codemirror_mode": {
    "name": "ipython",
    "version": 3
   },
   "file_extension": ".py",
   "mimetype": "text/x-python",
   "name": "python",
   "nbconvert_exporter": "python",
   "pygments_lexer": "ipython3",
   "version": "3.7.0"
  }
 },
 "nbformat": 4,
 "nbformat_minor": 2
}
