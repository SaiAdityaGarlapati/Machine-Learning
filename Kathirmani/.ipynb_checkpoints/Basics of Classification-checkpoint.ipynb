{
 "cells": [
  {
   "cell_type": "markdown",
   "metadata": {},
   "source": [
    "## Machine Learning Classification"
   ]
  },
  {
   "cell_type": "code",
   "execution_count": 1,
   "metadata": {},
   "outputs": [],
   "source": [
    "import pandas as pd\n",
    "import numpy as np"
   ]
  },
  {
   "cell_type": "code",
   "execution_count": 2,
   "metadata": {},
   "outputs": [
    {
     "data": {
      "text/html": [
       "<div>\n",
       "<style scoped>\n",
       "    .dataframe tbody tr th:only-of-type {\n",
       "        vertical-align: middle;\n",
       "    }\n",
       "\n",
       "    .dataframe tbody tr th {\n",
       "        vertical-align: top;\n",
       "    }\n",
       "\n",
       "    .dataframe thead th {\n",
       "        text-align: right;\n",
       "    }\n",
       "</style>\n",
       "<table border=\"1\" class=\"dataframe\">\n",
       "  <thead>\n",
       "    <tr style=\"text-align: right;\">\n",
       "      <th></th>\n",
       "      <th>Age</th>\n",
       "      <th>Attrition</th>\n",
       "      <th>BusinessTravel</th>\n",
       "      <th>DailyRate</th>\n",
       "      <th>Department</th>\n",
       "      <th>DistanceFromHome</th>\n",
       "      <th>Education</th>\n",
       "      <th>EducationField</th>\n",
       "      <th>EmployeeCount</th>\n",
       "      <th>EmployeeNumber</th>\n",
       "      <th>...</th>\n",
       "      <th>RelationshipSatisfaction</th>\n",
       "      <th>StandardHours</th>\n",
       "      <th>StockOptionLevel</th>\n",
       "      <th>TotalWorkingYears</th>\n",
       "      <th>TrainingTimesLastYear</th>\n",
       "      <th>WorkLifeBalance</th>\n",
       "      <th>YearsAtCompany</th>\n",
       "      <th>YearsInCurrentRole</th>\n",
       "      <th>YearsSinceLastPromotion</th>\n",
       "      <th>YearsWithCurrManager</th>\n",
       "    </tr>\n",
       "  </thead>\n",
       "  <tbody>\n",
       "    <tr>\n",
       "      <th>0</th>\n",
       "      <td>41</td>\n",
       "      <td>1</td>\n",
       "      <td>Travel_Rarely</td>\n",
       "      <td>1102</td>\n",
       "      <td>Sales</td>\n",
       "      <td>1</td>\n",
       "      <td>2</td>\n",
       "      <td>Life Sciences</td>\n",
       "      <td>1</td>\n",
       "      <td>1</td>\n",
       "      <td>...</td>\n",
       "      <td>1</td>\n",
       "      <td>80</td>\n",
       "      <td>0</td>\n",
       "      <td>8</td>\n",
       "      <td>0</td>\n",
       "      <td>1</td>\n",
       "      <td>6</td>\n",
       "      <td>4</td>\n",
       "      <td>0</td>\n",
       "      <td>5</td>\n",
       "    </tr>\n",
       "    <tr>\n",
       "      <th>1</th>\n",
       "      <td>49</td>\n",
       "      <td>0</td>\n",
       "      <td>Travel_Frequently</td>\n",
       "      <td>279</td>\n",
       "      <td>Research &amp; Development</td>\n",
       "      <td>8</td>\n",
       "      <td>1</td>\n",
       "      <td>Life Sciences</td>\n",
       "      <td>1</td>\n",
       "      <td>2</td>\n",
       "      <td>...</td>\n",
       "      <td>4</td>\n",
       "      <td>80</td>\n",
       "      <td>1</td>\n",
       "      <td>10</td>\n",
       "      <td>3</td>\n",
       "      <td>3</td>\n",
       "      <td>10</td>\n",
       "      <td>7</td>\n",
       "      <td>1</td>\n",
       "      <td>7</td>\n",
       "    </tr>\n",
       "    <tr>\n",
       "      <th>2</th>\n",
       "      <td>37</td>\n",
       "      <td>1</td>\n",
       "      <td>Travel_Rarely</td>\n",
       "      <td>1373</td>\n",
       "      <td>Research &amp; Development</td>\n",
       "      <td>2</td>\n",
       "      <td>2</td>\n",
       "      <td>Other</td>\n",
       "      <td>1</td>\n",
       "      <td>4</td>\n",
       "      <td>...</td>\n",
       "      <td>2</td>\n",
       "      <td>80</td>\n",
       "      <td>0</td>\n",
       "      <td>7</td>\n",
       "      <td>3</td>\n",
       "      <td>3</td>\n",
       "      <td>0</td>\n",
       "      <td>0</td>\n",
       "      <td>0</td>\n",
       "      <td>0</td>\n",
       "    </tr>\n",
       "    <tr>\n",
       "      <th>3</th>\n",
       "      <td>33</td>\n",
       "      <td>0</td>\n",
       "      <td>Travel_Frequently</td>\n",
       "      <td>1392</td>\n",
       "      <td>Research &amp; Development</td>\n",
       "      <td>3</td>\n",
       "      <td>4</td>\n",
       "      <td>Life Sciences</td>\n",
       "      <td>1</td>\n",
       "      <td>5</td>\n",
       "      <td>...</td>\n",
       "      <td>3</td>\n",
       "      <td>80</td>\n",
       "      <td>0</td>\n",
       "      <td>8</td>\n",
       "      <td>3</td>\n",
       "      <td>3</td>\n",
       "      <td>8</td>\n",
       "      <td>7</td>\n",
       "      <td>3</td>\n",
       "      <td>0</td>\n",
       "    </tr>\n",
       "    <tr>\n",
       "      <th>4</th>\n",
       "      <td>27</td>\n",
       "      <td>0</td>\n",
       "      <td>Travel_Rarely</td>\n",
       "      <td>591</td>\n",
       "      <td>Research &amp; Development</td>\n",
       "      <td>2</td>\n",
       "      <td>1</td>\n",
       "      <td>Medical</td>\n",
       "      <td>1</td>\n",
       "      <td>7</td>\n",
       "      <td>...</td>\n",
       "      <td>4</td>\n",
       "      <td>80</td>\n",
       "      <td>1</td>\n",
       "      <td>6</td>\n",
       "      <td>3</td>\n",
       "      <td>3</td>\n",
       "      <td>2</td>\n",
       "      <td>2</td>\n",
       "      <td>2</td>\n",
       "      <td>2</td>\n",
       "    </tr>\n",
       "  </tbody>\n",
       "</table>\n",
       "<p>5 rows × 35 columns</p>\n",
       "</div>"
      ],
      "text/plain": [
       "   Age  Attrition     BusinessTravel  DailyRate              Department  \\\n",
       "0   41          1      Travel_Rarely       1102                   Sales   \n",
       "1   49          0  Travel_Frequently        279  Research & Development   \n",
       "2   37          1      Travel_Rarely       1373  Research & Development   \n",
       "3   33          0  Travel_Frequently       1392  Research & Development   \n",
       "4   27          0      Travel_Rarely        591  Research & Development   \n",
       "\n",
       "   DistanceFromHome  Education EducationField  EmployeeCount  EmployeeNumber  \\\n",
       "0                 1          2  Life Sciences              1               1   \n",
       "1                 8          1  Life Sciences              1               2   \n",
       "2                 2          2          Other              1               4   \n",
       "3                 3          4  Life Sciences              1               5   \n",
       "4                 2          1        Medical              1               7   \n",
       "\n",
       "           ...           RelationshipSatisfaction StandardHours  \\\n",
       "0          ...                                  1            80   \n",
       "1          ...                                  4            80   \n",
       "2          ...                                  2            80   \n",
       "3          ...                                  3            80   \n",
       "4          ...                                  4            80   \n",
       "\n",
       "   StockOptionLevel  TotalWorkingYears  TrainingTimesLastYear WorkLifeBalance  \\\n",
       "0                 0                  8                      0               1   \n",
       "1                 1                 10                      3               3   \n",
       "2                 0                  7                      3               3   \n",
       "3                 0                  8                      3               3   \n",
       "4                 1                  6                      3               3   \n",
       "\n",
       "   YearsAtCompany YearsInCurrentRole  YearsSinceLastPromotion  \\\n",
       "0               6                  4                        0   \n",
       "1              10                  7                        1   \n",
       "2               0                  0                        0   \n",
       "3               8                  7                        3   \n",
       "4               2                  2                        2   \n",
       "\n",
       "   YearsWithCurrManager  \n",
       "0                     5  \n",
       "1                     7  \n",
       "2                     0  \n",
       "3                     0  \n",
       "4                     2  \n",
       "\n",
       "[5 rows x 35 columns]"
      ]
     },
     "execution_count": 2,
     "metadata": {},
     "output_type": "execute_result"
    }
   ],
   "source": [
    "hr = pd.read_csv(\"HR Analytics.csv\")\n",
    "hr.head()"
   ]
  },
  {
   "cell_type": "markdown",
   "metadata": {},
   "source": [
    "## Attrition Column is what we need to predict"
   ]
  },
  {
   "cell_type": "code",
   "execution_count": 3,
   "metadata": {},
   "outputs": [
    {
     "data": {
      "text/plain": [
       "array([1, 0], dtype=int64)"
      ]
     },
     "execution_count": 3,
     "metadata": {},
     "output_type": "execute_result"
    }
   ],
   "source": [
    "hr[\"Attrition\"].unique()"
   ]
  },
  {
   "cell_type": "code",
   "execution_count": 4,
   "metadata": {},
   "outputs": [
    {
     "data": {
      "text/plain": [
       "0    83.877551\n",
       "1    16.122449\n",
       "Name: Attrition, dtype: float64"
      ]
     },
     "execution_count": 4,
     "metadata": {},
     "output_type": "execute_result"
    }
   ],
   "source": [
    " hr[\"Attrition\"].value_counts()/hr.shape[0] * 100"
   ]
  },
  {
   "cell_type": "markdown",
   "metadata": {},
   "source": [
    "### converting categorical columns to numerical columns"
   ]
  },
  {
   "cell_type": "code",
   "execution_count": 5,
   "metadata": {},
   "outputs": [
    {
     "data": {
      "text/plain": [
       "array(['Female', 'Male'], dtype=object)"
      ]
     },
     "execution_count": 5,
     "metadata": {},
     "output_type": "execute_result"
    }
   ],
   "source": [
    "hr['Gender'].unique()"
   ]
  },
  {
   "cell_type": "code",
   "execution_count": 6,
   "metadata": {},
   "outputs": [
    {
     "data": {
      "text/html": [
       "<div>\n",
       "<style scoped>\n",
       "    .dataframe tbody tr th:only-of-type {\n",
       "        vertical-align: middle;\n",
       "    }\n",
       "\n",
       "    .dataframe tbody tr th {\n",
       "        vertical-align: top;\n",
       "    }\n",
       "\n",
       "    .dataframe thead th {\n",
       "        text-align: right;\n",
       "    }\n",
       "</style>\n",
       "<table border=\"1\" class=\"dataframe\">\n",
       "  <thead>\n",
       "    <tr style=\"text-align: right;\">\n",
       "      <th></th>\n",
       "      <th>Divorced</th>\n",
       "      <th>Married</th>\n",
       "      <th>Single</th>\n",
       "    </tr>\n",
       "  </thead>\n",
       "  <tbody>\n",
       "    <tr>\n",
       "      <th>0</th>\n",
       "      <td>0</td>\n",
       "      <td>0</td>\n",
       "      <td>1</td>\n",
       "    </tr>\n",
       "    <tr>\n",
       "      <th>1</th>\n",
       "      <td>0</td>\n",
       "      <td>1</td>\n",
       "      <td>0</td>\n",
       "    </tr>\n",
       "    <tr>\n",
       "      <th>2</th>\n",
       "      <td>0</td>\n",
       "      <td>0</td>\n",
       "      <td>1</td>\n",
       "    </tr>\n",
       "    <tr>\n",
       "      <th>3</th>\n",
       "      <td>0</td>\n",
       "      <td>1</td>\n",
       "      <td>0</td>\n",
       "    </tr>\n",
       "    <tr>\n",
       "      <th>4</th>\n",
       "      <td>0</td>\n",
       "      <td>1</td>\n",
       "      <td>0</td>\n",
       "    </tr>\n",
       "  </tbody>\n",
       "</table>\n",
       "</div>"
      ],
      "text/plain": [
       "   Divorced  Married  Single\n",
       "0         0        0       1\n",
       "1         0        1       0\n",
       "2         0        0       1\n",
       "3         0        1       0\n",
       "4         0        1       0"
      ]
     },
     "execution_count": 6,
     "metadata": {},
     "output_type": "execute_result"
    }
   ],
   "source": [
    "pd.get_dummies(hr['MaritalStatus']).head()"
   ]
  },
  {
   "cell_type": "code",
   "execution_count": 7,
   "metadata": {},
   "outputs": [],
   "source": [
    "hr_dummies= pd.get_dummies(hr)"
   ]
  },
  {
   "cell_type": "code",
   "execution_count": 8,
   "metadata": {},
   "outputs": [
    {
     "data": {
      "text/html": [
       "<div>\n",
       "<style scoped>\n",
       "    .dataframe tbody tr th:only-of-type {\n",
       "        vertical-align: middle;\n",
       "    }\n",
       "\n",
       "    .dataframe tbody tr th {\n",
       "        vertical-align: top;\n",
       "    }\n",
       "\n",
       "    .dataframe thead th {\n",
       "        text-align: right;\n",
       "    }\n",
       "</style>\n",
       "<table border=\"1\" class=\"dataframe\">\n",
       "  <thead>\n",
       "    <tr style=\"text-align: right;\">\n",
       "      <th></th>\n",
       "      <th>Age</th>\n",
       "      <th>Attrition</th>\n",
       "      <th>DailyRate</th>\n",
       "      <th>DistanceFromHome</th>\n",
       "      <th>Education</th>\n",
       "      <th>EmployeeCount</th>\n",
       "      <th>EmployeeNumber</th>\n",
       "      <th>EnvironmentSatisfaction</th>\n",
       "      <th>HourlyRate</th>\n",
       "      <th>JobInvolvement</th>\n",
       "      <th>...</th>\n",
       "      <th>JobRole_Research Director</th>\n",
       "      <th>JobRole_Research Scientist</th>\n",
       "      <th>JobRole_Sales Executive</th>\n",
       "      <th>JobRole_Sales Representative</th>\n",
       "      <th>MaritalStatus_Divorced</th>\n",
       "      <th>MaritalStatus_Married</th>\n",
       "      <th>MaritalStatus_Single</th>\n",
       "      <th>Over18_Y</th>\n",
       "      <th>OverTime_No</th>\n",
       "      <th>OverTime_Yes</th>\n",
       "    </tr>\n",
       "  </thead>\n",
       "  <tbody>\n",
       "    <tr>\n",
       "      <th>0</th>\n",
       "      <td>41</td>\n",
       "      <td>1</td>\n",
       "      <td>1102</td>\n",
       "      <td>1</td>\n",
       "      <td>2</td>\n",
       "      <td>1</td>\n",
       "      <td>1</td>\n",
       "      <td>2</td>\n",
       "      <td>94</td>\n",
       "      <td>3</td>\n",
       "      <td>...</td>\n",
       "      <td>0</td>\n",
       "      <td>0</td>\n",
       "      <td>1</td>\n",
       "      <td>0</td>\n",
       "      <td>0</td>\n",
       "      <td>0</td>\n",
       "      <td>1</td>\n",
       "      <td>1</td>\n",
       "      <td>0</td>\n",
       "      <td>1</td>\n",
       "    </tr>\n",
       "    <tr>\n",
       "      <th>1</th>\n",
       "      <td>49</td>\n",
       "      <td>0</td>\n",
       "      <td>279</td>\n",
       "      <td>8</td>\n",
       "      <td>1</td>\n",
       "      <td>1</td>\n",
       "      <td>2</td>\n",
       "      <td>3</td>\n",
       "      <td>61</td>\n",
       "      <td>2</td>\n",
       "      <td>...</td>\n",
       "      <td>0</td>\n",
       "      <td>1</td>\n",
       "      <td>0</td>\n",
       "      <td>0</td>\n",
       "      <td>0</td>\n",
       "      <td>1</td>\n",
       "      <td>0</td>\n",
       "      <td>1</td>\n",
       "      <td>1</td>\n",
       "      <td>0</td>\n",
       "    </tr>\n",
       "    <tr>\n",
       "      <th>2</th>\n",
       "      <td>37</td>\n",
       "      <td>1</td>\n",
       "      <td>1373</td>\n",
       "      <td>2</td>\n",
       "      <td>2</td>\n",
       "      <td>1</td>\n",
       "      <td>4</td>\n",
       "      <td>4</td>\n",
       "      <td>92</td>\n",
       "      <td>2</td>\n",
       "      <td>...</td>\n",
       "      <td>0</td>\n",
       "      <td>0</td>\n",
       "      <td>0</td>\n",
       "      <td>0</td>\n",
       "      <td>0</td>\n",
       "      <td>0</td>\n",
       "      <td>1</td>\n",
       "      <td>1</td>\n",
       "      <td>0</td>\n",
       "      <td>1</td>\n",
       "    </tr>\n",
       "    <tr>\n",
       "      <th>3</th>\n",
       "      <td>33</td>\n",
       "      <td>0</td>\n",
       "      <td>1392</td>\n",
       "      <td>3</td>\n",
       "      <td>4</td>\n",
       "      <td>1</td>\n",
       "      <td>5</td>\n",
       "      <td>4</td>\n",
       "      <td>56</td>\n",
       "      <td>3</td>\n",
       "      <td>...</td>\n",
       "      <td>0</td>\n",
       "      <td>1</td>\n",
       "      <td>0</td>\n",
       "      <td>0</td>\n",
       "      <td>0</td>\n",
       "      <td>1</td>\n",
       "      <td>0</td>\n",
       "      <td>1</td>\n",
       "      <td>0</td>\n",
       "      <td>1</td>\n",
       "    </tr>\n",
       "    <tr>\n",
       "      <th>4</th>\n",
       "      <td>27</td>\n",
       "      <td>0</td>\n",
       "      <td>591</td>\n",
       "      <td>2</td>\n",
       "      <td>1</td>\n",
       "      <td>1</td>\n",
       "      <td>7</td>\n",
       "      <td>1</td>\n",
       "      <td>40</td>\n",
       "      <td>3</td>\n",
       "      <td>...</td>\n",
       "      <td>0</td>\n",
       "      <td>0</td>\n",
       "      <td>0</td>\n",
       "      <td>0</td>\n",
       "      <td>0</td>\n",
       "      <td>1</td>\n",
       "      <td>0</td>\n",
       "      <td>1</td>\n",
       "      <td>1</td>\n",
       "      <td>0</td>\n",
       "    </tr>\n",
       "  </tbody>\n",
       "</table>\n",
       "<p>5 rows × 56 columns</p>\n",
       "</div>"
      ],
      "text/plain": [
       "   Age  Attrition  DailyRate  DistanceFromHome  Education  EmployeeCount  \\\n",
       "0   41          1       1102                 1          2              1   \n",
       "1   49          0        279                 8          1              1   \n",
       "2   37          1       1373                 2          2              1   \n",
       "3   33          0       1392                 3          4              1   \n",
       "4   27          0        591                 2          1              1   \n",
       "\n",
       "   EmployeeNumber  EnvironmentSatisfaction  HourlyRate  JobInvolvement  \\\n",
       "0               1                        2          94               3   \n",
       "1               2                        3          61               2   \n",
       "2               4                        4          92               2   \n",
       "3               5                        4          56               3   \n",
       "4               7                        1          40               3   \n",
       "\n",
       "       ...       JobRole_Research Director  JobRole_Research Scientist  \\\n",
       "0      ...                               0                           0   \n",
       "1      ...                               0                           1   \n",
       "2      ...                               0                           0   \n",
       "3      ...                               0                           1   \n",
       "4      ...                               0                           0   \n",
       "\n",
       "   JobRole_Sales Executive  JobRole_Sales Representative  \\\n",
       "0                        1                             0   \n",
       "1                        0                             0   \n",
       "2                        0                             0   \n",
       "3                        0                             0   \n",
       "4                        0                             0   \n",
       "\n",
       "   MaritalStatus_Divorced  MaritalStatus_Married  MaritalStatus_Single  \\\n",
       "0                       0                      0                     1   \n",
       "1                       0                      1                     0   \n",
       "2                       0                      0                     1   \n",
       "3                       0                      1                     0   \n",
       "4                       0                      1                     0   \n",
       "\n",
       "   Over18_Y  OverTime_No  OverTime_Yes  \n",
       "0         1            0             1  \n",
       "1         1            1             0  \n",
       "2         1            0             1  \n",
       "3         1            0             1  \n",
       "4         1            1             0  \n",
       "\n",
       "[5 rows x 56 columns]"
      ]
     },
     "execution_count": 8,
     "metadata": {},
     "output_type": "execute_result"
    }
   ],
   "source": [
    "hr_dummies.head()"
   ]
  },
  {
   "cell_type": "markdown",
   "metadata": {},
   "source": [
    "## Gini Impurity"
   ]
  },
  {
   "cell_type": "markdown",
   "metadata": {},
   "source": [
    "- formula =1 - probability(0)^2 - probability(1)^2\n",
    "- if you have more classes in target variable, include probablity of all the classes"
   ]
  },
  {
   "cell_type": "code",
   "execution_count": 9,
   "metadata": {},
   "outputs": [],
   "source": [
    "from sklearn.model_selection import train_test_split\n",
    "\n",
    "train,test = train_test_split(hr_dummies,test_size=0.3,random_state=100)"
   ]
  },
  {
   "cell_type": "code",
   "execution_count": 10,
   "metadata": {},
   "outputs": [
    {
     "data": {
      "text/plain": [
       "0.27190862461880494"
      ]
     },
     "execution_count": 10,
     "metadata": {},
     "output_type": "execute_result"
    }
   ],
   "source": [
    "n_s=train.shape[0]\n",
    "\n",
    "p_0=train[train['Attrition']==0].shape[0]/n_s\n",
    "p_1=train[train['Attrition']==1].shape[0]/n_s\n",
    "\n",
    "gi_train = 1 - np.square(p_0) -np.square(p_1)\n",
    "gi_train"
   ]
  },
  {
   "cell_type": "markdown",
   "metadata": {},
   "source": [
    "## Gini Impurity on binary categorical columns"
   ]
  },
  {
   "cell_type": "code",
   "execution_count": 11,
   "metadata": {},
   "outputs": [
    {
     "name": "stdout",
     "output_type": "stream",
     "text": [
      "---------male-----------\n",
      "(505, 56)\n",
      "(105, 56)\n",
      "---------female-----------\n",
      "(357, 56)\n",
      "(62, 56)\n"
     ]
    }
   ],
   "source": [
    "samples_left= train[train['Gender_Female']==0]\n",
    "#print(samples_left.shape)\n",
    "\n",
    "samples_right= train[train['Gender_Female']==1]\n",
    "#print(samples_right.shape)\n",
    "\n",
    "print(\"---------male-----------\")\n",
    "print(samples_left[samples_left['Attrition'] == 0].shape)\n",
    "print(samples_left[samples_left['Attrition'] == 1].shape)\n",
    "print(\"---------female-----------\")\n",
    "print(samples_right[samples_right['Attrition'] == 0].shape)\n",
    "print(samples_right[samples_right['Attrition'] == 1].shape)"
   ]
  },
  {
   "cell_type": "code",
   "execution_count": 12,
   "metadata": {},
   "outputs": [
    {
     "data": {
      "text/plain": [
       "0.2850040311744155"
      ]
     },
     "execution_count": 12,
     "metadata": {},
     "output_type": "execute_result"
    }
   ],
   "source": [
    "n_s=samples_left.shape[0]\n",
    "\n",
    "left_0=samples_left[samples_left['Attrition']==0].shape[0]/n_s\n",
    "left_1=samples_left[samples_left['Attrition']==1].shape[0]/n_s\n",
    "\n",
    "gi_left = 1 - np.square(left_0) -np.square(left_1)\n",
    "gi_left"
   ]
  },
  {
   "cell_type": "code",
   "execution_count": 13,
   "metadata": {},
   "outputs": [
    {
     "data": {
      "text/plain": [
       "0.2521516737772056"
      ]
     },
     "execution_count": 13,
     "metadata": {},
     "output_type": "execute_result"
    }
   ],
   "source": [
    "n_s=samples_right.shape[0]\n",
    "\n",
    "right_0=samples_right[samples_right['Attrition']==0].shape[0]/n_s\n",
    "right_1=samples_right[samples_right['Attrition']==1].shape[0]/n_s\n",
    "\n",
    "gi_right = 1 - np.square(right_0) -np.square(right_1)\n",
    "gi_right"
   ]
  },
  {
   "cell_type": "code",
   "execution_count": 14,
   "metadata": {},
   "outputs": [
    {
     "data": {
      "text/plain": [
       "0.27162683219537664"
      ]
     },
     "execution_count": 14,
     "metadata": {},
     "output_type": "execute_result"
    }
   ],
   "source": [
    "gi_overall = (samples_left.shape[0]/train.shape[0]*gi_left) + \\\n",
    "             (samples_right.shape[0]/train.shape[0]*gi_right)\n",
    "gi_overall"
   ]
  },
  {
   "cell_type": "markdown",
   "metadata": {},
   "source": [
    "## Overtime Gini Impurity Calculation Categorical"
   ]
  },
  {
   "cell_type": "code",
   "execution_count": 15,
   "metadata": {},
   "outputs": [
    {
     "name": "stdout",
     "output_type": "stream",
     "text": [
      "---------male-----------\n",
      "(197, 56)\n",
      "(92, 56)\n",
      "---------female-----------\n",
      "(665, 56)\n",
      "(75, 56)\n"
     ]
    }
   ],
   "source": [
    "samples_left= train[train['OverTime_No']==0]\n",
    "#print(samples_left.shape)\n",
    "\n",
    "samples_right= train[train['OverTime_No']==1]\n",
    "#print(samples_right.shape)\n",
    "\n",
    "print(\"---------male-----------\")\n",
    "print(samples_left[samples_left['Attrition'] == 0].shape)\n",
    "print(samples_left[samples_left['Attrition'] == 1].shape)\n",
    "print(\"---------female-----------\")\n",
    "print(samples_right[samples_right['Attrition'] == 0].shape)\n",
    "print(samples_right[samples_right['Attrition'] == 1].shape)"
   ]
  },
  {
   "cell_type": "code",
   "execution_count": 16,
   "metadata": {},
   "outputs": [
    {
     "data": {
      "text/plain": [
       "0.4339986350738138"
      ]
     },
     "execution_count": 16,
     "metadata": {},
     "output_type": "execute_result"
    }
   ],
   "source": [
    "n_s=samples_left.shape[0]\n",
    "\n",
    "left_0=samples_left[samples_left['Attrition']==0].shape[0]/n_s\n",
    "left_1=samples_left[samples_left['Attrition']==1].shape[0]/n_s\n",
    "\n",
    "gi_left = 1 - np.square(left_0) - np.square(left_1)\n",
    "gi_left"
   ]
  },
  {
   "cell_type": "code",
   "execution_count": 17,
   "metadata": {},
   "outputs": [
    {
     "data": {
      "text/plain": [
       "0.18215850986121246"
      ]
     },
     "execution_count": 17,
     "metadata": {},
     "output_type": "execute_result"
    }
   ],
   "source": [
    "n_s=samples_right.shape[0]\n",
    "\n",
    "right_0=samples_right[samples_right['Attrition']==0].shape[0]/n_s\n",
    "right_1=samples_right[samples_right['Attrition']==1].shape[0]/n_s\n",
    "\n",
    "gi_right = 1 - np.square(right_0) -np.square(right_1)\n",
    "gi_right"
   ]
  },
  {
   "cell_type": "code",
   "execution_count": 18,
   "metadata": {},
   "outputs": [
    {
     "data": {
      "text/plain": [
       "0.2528891184000286"
      ]
     },
     "execution_count": 18,
     "metadata": {},
     "output_type": "execute_result"
    }
   ],
   "source": [
    "gi_overall = (samples_left.shape[0]/train.shape[0]*gi_left) + \\\n",
    "             (samples_right.shape[0]/train.shape[0]*gi_right)\n",
    "gi_overall"
   ]
  },
  {
   "cell_type": "markdown",
   "metadata": {},
   "source": [
    "## Gini Impurity Numerical Column"
   ]
  },
  {
   "cell_type": "code",
   "execution_count": 19,
   "metadata": {},
   "outputs": [
    {
     "name": "stdout",
     "output_type": "stream",
     "text": [
      "1009\n",
      "19973\n"
     ]
    }
   ],
   "source": [
    "print(train['MonthlyIncome'].min())\n",
    "print(train['MonthlyIncome'].max())"
   ]
  },
  {
   "cell_type": "code",
   "execution_count": 20,
   "metadata": {},
   "outputs": [
    {
     "data": {
      "text/plain": [
       "array([ 1009,  1051,  1081,  1091,  1102,  1118,  1129,  1274,  1359,\n",
       "        1393,  1420,  1483,  1514,  1555,  1563,  1569,  1601,  1675,\n",
       "        1706,  1790,  1859,  1878,  1904,  2001,  2007,  2014,  2018,\n",
       "        2024,  2028,  2029,  2033,  2042,  2044,  2045,  2058,  2061,\n",
       "        2062,  2064,  2070,  2073,  2074,  2075,  2080,  2083,  2086,\n",
       "        2088,  2089,  2090,  2093,  2096,  2097,  2099,  2105,  2107,\n",
       "        2109,  2127,  2132,  2133,  2143,  2148,  2154,  2157,  2168,\n",
       "        2174,  2176,  2177,  2180,  2187,  2194,  2201,  2206,  2207,\n",
       "        2210,  2216,  2218,  2220,  2226,  2231,  2232,  2235,  2238,\n",
       "        2244,  2258,  2259,  2269,  2272,  2274,  2275,  2277,  2285,\n",
       "        2288,  2289,  2290,  2293,  2302,  2307,  2308,  2311,  2313,\n",
       "        2319,  2322,  2323,  2325,  2326,  2328,  2335,  2339,  2340,\n",
       "        2342,  2345,  2348,  2351,  2362,  2367,  2368,  2370,  2372,\n",
       "        2376,  2377,  2379,  2380,  2387,  2389,  2394,  2400,  2404,\n",
       "        2406,  2408,  2422,  2426,  2430,  2432,  2436,  2437,  2438,\n",
       "        2439,  2450,  2451,  2461,  2468,  2472,  2476,  2478,  2479,\n",
       "        2500,  2501,  2506,  2514,  2519,  2523,  2532,  2534,  2539,\n",
       "        2543,  2546,  2552,  2559,  2561,  2564,  2570,  2571,  2572,\n",
       "        2576,  2579,  2580,  2585,  2587,  2592,  2596,  2600,  2610,\n",
       "        2613,  2625,  2642,  2645,  2647,  2654,  2655,  2657,  2659,\n",
       "        2660,  2661,  2670,  2683,  2684,  2693,  2694,  2695,  2696,\n",
       "        2700,  2703,  2705,  2706,  2707,  2713,  2718,  2720,  2741,\n",
       "        2743,  2759,  2773,  2774,  2778,  2781,  2782,  2783,  2789,\n",
       "        2791,  2793,  2794,  2799,  2804,  2810,  2821,  2838,  2844,\n",
       "        2851,  2853,  2856,  2859,  2863,  2867,  2871,  2875,  2886,\n",
       "        2897,  2909,  2911,  2926,  2932,  2935,  2936,  2950,  2972,\n",
       "        2973,  2974,  2977,  2979,  2983,  2994,  2996,  3022,  3033,\n",
       "        3034,  3038,  3041,  3055,  3065,  3067,  3068,  3069,  3072,\n",
       "        3131,  3140,  3143,  3149,  3161,  3162,  3195,  3196,  3202,\n",
       "        3204,  3211,  3212,  3221,  3229,  3230,  3280,  3291,  3294,\n",
       "        3295,  3306,  3312,  3319,  3339,  3348,  3376,  3377,  3407,\n",
       "        3408,  3419,  3420,  3423,  3424,  3433,  3441,  3447,  3448,\n",
       "        3452,  3464,  3482,  3485,  3491,  3500,  3505,  3506,  3517,\n",
       "        3537,  3539,  3540,  3578,  3580,  3591,  3597,  3617,  3622,\n",
       "        3629,  3646,  3660,  3673,  3681,  3690,  3691,  3692,  3697,\n",
       "        3708,  3722,  3730,  3737,  3743,  3748,  3755,  3760,  3761,\n",
       "        3785,  3812,  3815,  3816,  3833,  3838,  3875,  3886,  3894,\n",
       "        3902,  3904,  3907,  3917,  3919,  3920,  3929,  3936,  3955,\n",
       "        3968,  3975,  3977,  3978,  3983,  3986,  4001,  4011,  4014,\n",
       "        4025,  4028,  4031,  4033,  4037,  4051,  4066,  4069,  4071,\n",
       "        4084,  4089,  4103,  4105,  4107,  4108,  4127,  4148,  4152,\n",
       "        4171,  4189,  4193,  4194,  4197,  4198,  4200,  4227,  4230,\n",
       "        4233,  4240,  4244,  4249,  4257,  4258,  4262,  4284,  4285,\n",
       "        4286,  4302,  4306,  4312,  4319,  4320,  4323,  4325,  4327,\n",
       "        4332,  4335,  4342,  4345,  4373,  4374,  4377,  4381,  4382,\n",
       "        4385,  4401,  4420,  4424,  4425,  4434,  4440,  4444,  4447,\n",
       "        4450,  4477,  4485,  4487,  4490,  4502,  4505,  4507,  4508,\n",
       "        4522,  4523,  4537,  4539,  4541,  4554,  4556,  4558,  4559,\n",
       "        4568,  4581,  4601,  4614,  4615,  4617,  4627,  4639,  4648,\n",
       "        4649,  4661,  4663,  4668,  4680,  4684,  4695,  4707,  4721,\n",
       "        4723,  4724,  4728,  4735,  4739,  4741,  4759,  4774,  4775,\n",
       "        4777,  4779,  4787,  4788,  4789,  4805,  4810,  4821,  4834,\n",
       "        4841,  4850,  4859,  4869,  4876,  4878,  4898,  4900,  4907,\n",
       "        4908,  4930,  4936,  4941,  4950,  4963,  4968,  4969,  4998,\n",
       "        5003,  5010,  5021,  5042,  5055,  5063,  5067,  5070,  5071,\n",
       "        5079,  5087,  5093,  5094,  5098,  5126,  5130,  5131,  5147,\n",
       "        5151,  5154,  5155,  5160,  5171,  5204,  5206,  5207,  5208,\n",
       "        5210,  5220,  5228,  5231,  5237,  5238,  5258,  5265,  5294,\n",
       "        5301,  5304,  5321,  5324,  5329,  5337,  5343,  5346,  5347,\n",
       "        5368,  5373,  5376,  5380,  5381,  5390,  5405,  5406,  5410,\n",
       "        5415,  5454,  5460,  5467,  5468,  5470,  5473,  5476,  5484,\n",
       "        5485,  5486,  5488,  5505,  5538,  5561,  5562,  5577,  5582,\n",
       "        5605,  5647,  5660,  5661,  5666,  5673,  5674,  5675,  5679,\n",
       "        5689,  5715,  5731,  5743,  5745,  5747,  5762,  5765,  5768,\n",
       "        5769,  5770,  5775,  5810,  5811,  5813,  5828,  5855,  5869,\n",
       "        5878,  5914,  5915,  5916,  5933,  5940,  5968,  5980,  5993,\n",
       "        6029,  6032,  6062,  6074,  6077,  6091,  6118,  6120,  6132,\n",
       "        6134,  6142,  6146,  6151,  6162,  6179,  6180,  6201,  6209,\n",
       "        6214,  6220,  6230,  6244,  6261,  6272,  6274,  6288,  6322,\n",
       "        6323,  6334,  6347,  6349,  6377,  6384,  6385,  6388,  6397,\n",
       "        6410,  6430,  6439,  6447,  6474,  6500,  6502,  6516,  6538,\n",
       "        6545,  6549,  6567,  6578,  6583,  6586,  6632,  6644,  6651,\n",
       "        6652,  6653,  6674,  6687,  6694,  6735,  6796,  6799,  6804,\n",
       "        6811,  6825,  6833,  6834,  6852,  6854,  6861,  6870,  6877,\n",
       "        6883,  6893,  6929,  6931,  6949,  6962,  7005,  7082,  7094,\n",
       "        7140,  7143,  7260,  7295,  7351,  7403,  7406,  7428,  7457,\n",
       "        7491,  7510,  7525,  7587,  7596,  7625,  7637,  7642,  7644,\n",
       "        7654,  7655,  7756,  7779,  7879,  7880,  7918,  7945,  7969,\n",
       "        7991,  8008,  8020,  8103,  8224,  8237,  8268,  8346,  8376,\n",
       "        8380,  8381,  8392,  8396,  8446,  8474,  8500,  8578,  8606,\n",
       "        8620,  8621,  8639,  8686,  8740,  8834,  8837,  8853,  8865,\n",
       "        8926,  8943,  8966,  9071,  9204,  9208,  9241,  9250,  9278,\n",
       "        9355,  9362,  9380,  9396,  9419,  9434,  9439,  9525,  9526,\n",
       "        9602,  9613,  9619,  9679,  9699,  9705,  9713,  9714,  9715,\n",
       "        9725,  9738,  9824,  9854,  9884,  9888,  9907,  9924,  9950,\n",
       "        9957,  9980,  9981,  9985,  9998, 10124, 10169, 10209, 10221,\n",
       "       10231, 10239, 10274, 10306, 10312, 10322, 10325, 10333, 10368,\n",
       "       10377, 10388, 10400, 10422, 10435, 10445, 10447, 10448, 10453,\n",
       "       10466, 10496, 10502, 10512, 10527, 10552, 10650, 10673, 10685,\n",
       "       10686, 10725, 10739, 10748, 10761, 10793, 10820, 10854, 10855,\n",
       "       10883, 10903, 10920, 10932, 10934, 10938, 10965, 10976, 10999,\n",
       "       11031, 11244, 11416, 11557, 11691, 11713, 11849, 11878, 11904,\n",
       "       11935, 11957, 11996, 12031, 12061, 12169, 12504, 12742, 12936,\n",
       "       12965, 13120, 13142, 13191, 13194, 13206, 13225, 13237, 13245,\n",
       "       13247, 13320, 13348, 13402, 13458, 13464, 13503, 13525, 13549,\n",
       "       13570, 13577, 13582, 13591, 13610, 13664, 13675, 13726, 13734,\n",
       "       13744, 13757, 13758, 13770, 13826, 13872, 13964, 13973, 14118,\n",
       "       14275, 14336, 14732, 14756, 15202, 15379, 15427, 15972, 15992,\n",
       "       16015, 16032, 16064, 16124, 16184, 16307, 16328, 16413, 16422,\n",
       "       16437, 16595, 16627, 16659, 16704, 16792, 16799, 16823, 16835,\n",
       "       16872, 16885, 16959, 17068, 17099, 17123, 17159, 17169, 17174,\n",
       "       17181, 17328, 17426, 17465, 17567, 17584, 17650, 17665, 17779,\n",
       "       17856, 17861, 17924, 18041, 18061, 18172, 18200, 18213, 18300,\n",
       "       18303, 18430, 18606, 18711, 18722, 18740, 19033, 19068, 19081,\n",
       "       19094, 19141, 19144, 19161, 19190, 19197, 19232, 19272, 19328,\n",
       "       19331, 19392, 19406, 19419, 19431, 19436, 19502, 19513, 19517,\n",
       "       19537, 19545, 19613, 19626, 19627, 19636, 19658, 19701, 19740,\n",
       "       19833, 19845, 19847, 19943, 19973], dtype=int64)"
      ]
     },
     "execution_count": 20,
     "metadata": {},
     "output_type": "execute_result"
    }
   ],
   "source": [
    "np.sort(train['MonthlyIncome'].unique())"
   ]
  },
  {
   "cell_type": "code",
   "execution_count": 21,
   "metadata": {},
   "outputs": [
    {
     "data": {
      "text/plain": [
       "968"
      ]
     },
     "execution_count": 21,
     "metadata": {},
     "output_type": "execute_result"
    }
   ],
   "source": [
    "np.sort(train['MonthlyIncome'].unique()).shape[0]"
   ]
  },
  {
   "cell_type": "code",
   "execution_count": 22,
   "metadata": {},
   "outputs": [],
   "source": [
    "unique_mi= np.unique(train['MonthlyIncome'])\n",
    "\n",
    "sort_mi = pd.Series(np.sort(unique_mi))\n",
    "\n",
    "midpoints_mi =sort_mi.rolling(2).mean().dropna()\n",
    "\n",
    "cuts=midpoints_mi"
   ]
  },
  {
   "cell_type": "code",
   "execution_count": 23,
   "metadata": {},
   "outputs": [
    {
     "data": {
      "text/html": [
       "<div>\n",
       "<style scoped>\n",
       "    .dataframe tbody tr th:only-of-type {\n",
       "        vertical-align: middle;\n",
       "    }\n",
       "\n",
       "    .dataframe tbody tr th {\n",
       "        vertical-align: top;\n",
       "    }\n",
       "\n",
       "    .dataframe thead th {\n",
       "        text-align: right;\n",
       "    }\n",
       "</style>\n",
       "<table border=\"1\" class=\"dataframe\">\n",
       "  <thead>\n",
       "    <tr style=\"text-align: right;\">\n",
       "      <th></th>\n",
       "      <th>cut</th>\n",
       "      <th>gi</th>\n",
       "    </tr>\n",
       "  </thead>\n",
       "  <tbody>\n",
       "    <tr>\n",
       "      <th>202</th>\n",
       "      <td>2779.5</td>\n",
       "      <td>0.254494</td>\n",
       "    </tr>\n",
       "    <tr>\n",
       "      <th>203</th>\n",
       "      <td>2781.5</td>\n",
       "      <td>0.254687</td>\n",
       "    </tr>\n",
       "    <tr>\n",
       "      <th>185</th>\n",
       "      <td>2693.5</td>\n",
       "      <td>0.254709</td>\n",
       "    </tr>\n",
       "    <tr>\n",
       "      <th>143</th>\n",
       "      <td>2489.5</td>\n",
       "      <td>0.254749</td>\n",
       "    </tr>\n",
       "    <tr>\n",
       "      <th>199</th>\n",
       "      <td>2766.0</td>\n",
       "      <td>0.254780</td>\n",
       "    </tr>\n",
       "  </tbody>\n",
       "</table>\n",
       "</div>"
      ],
      "text/plain": [
       "        cut        gi\n",
       "202  2779.5  0.254494\n",
       "203  2781.5  0.254687\n",
       "185  2693.5  0.254709\n",
       "143  2489.5  0.254749\n",
       "199  2766.0  0.254780"
      ]
     },
     "execution_count": 23,
     "metadata": {},
     "output_type": "execute_result"
    }
   ],
   "source": [
    "df_gi_cuts =pd.DataFrame(columns=['cut','gi'])\n",
    "for cut in cuts:\n",
    "    #cut =1030\n",
    "    col='MonthlyIncome'\n",
    "    Ns=train.shape[0]\n",
    "\n",
    "    s_left= train[train[col]<cut]\n",
    "    s_right= train[train[col]>cut]\n",
    "\n",
    "    left_0=s_left[s_left['Attrition']==0].shape[0]/s_left.shape[0]\n",
    "    left_1=s_left[s_left['Attrition']==1].shape[0]/s_left.shape[0]\n",
    "\n",
    "    gi_left = 1 - np.square(left_0) - np.square(left_1)\n",
    "    gi_left\n",
    "\n",
    "    right_0=s_right[s_right['Attrition']==0].shape[0]/s_right.shape[0]\n",
    "    right_1=s_right[s_right['Attrition']==1].shape[0]/s_right.shape[0]\n",
    "\n",
    "    gi_right = 1 - np.square(right_0) -np.square(right_1)\n",
    "    gi_right\n",
    "    \n",
    "    gi_cut = (s_left.shape[0]/Ns*gi_left) + \\\n",
    "            (s_right.shape[0]/Ns*gi_right)\n",
    "    gi_cut\n",
    "    \n",
    "    df_gi_cuts = df_gi_cuts.append({'cut':cut,'gi':gi_cut},ignore_index=True)\n",
    "    \n",
    "df_gi_cuts.sort_values(by='gi',ascending=True).head(5)"
   ]
  },
  {
   "cell_type": "code",
   "execution_count": 24,
   "metadata": {},
   "outputs": [
    {
     "data": {
      "text/plain": [
       "DecisionTreeClassifier(class_weight=None, criterion='gini', max_depth=2,\n",
       "            max_features=None, max_leaf_nodes=None,\n",
       "            min_impurity_decrease=0.0, min_impurity_split=None,\n",
       "            min_samples_leaf=1, min_samples_split=2,\n",
       "            min_weight_fraction_leaf=0.0, presort=False, random_state=100,\n",
       "            splitter='best')"
      ]
     },
     "execution_count": 24,
     "metadata": {},
     "output_type": "execute_result"
    }
   ],
   "source": [
    "from sklearn.tree  import DecisionTreeClassifier\n",
    "\n",
    "model = DecisionTreeClassifier(random_state=100,max_depth=2)\n",
    "model.fit(train[['MonthlyIncome']],train['Attrition'])"
   ]
  },
  {
   "cell_type": "code",
   "execution_count": 25,
   "metadata": {},
   "outputs": [],
   "source": [
    "def draw_tree(model,columns):\n",
    "    import os\n",
    "    from sklearn import tree\n",
    "    import pydotplus\n",
    "    from sklearn.externals.six import StringIO\n",
    "    from IPython.display import Image\n",
    "\n",
    "    graphviz_path ='C:\\Program Files (x86)\\Graphviz2.38/bin/'\n",
    "    os.environ['PATH'] += os.pathsep + graphviz_path\n",
    "\n",
    "\n",
    "    dot_data = StringIO()\n",
    "    tree.export_graphviz(model,out_file=dot_data,feature_names=columns)\n",
    "    graph = pydotplus.graph_from_dot_data(dot_data.getvalue())\n",
    "    return Image(graph.create_png())"
   ]
  },
  {
   "cell_type": "code",
   "execution_count": 26,
   "metadata": {},
   "outputs": [
    {
     "name": "stdout",
     "output_type": "stream",
     "text": [
      "Requirement already satisfied: pydotplus in c:\\users\\aditya\\anaconda3\\lib\\site-packages (2.0.2)\n",
      "Requirement already satisfied: pyparsing>=2.0.1 in c:\\users\\aditya\\anaconda3\\lib\\site-packages (from pydotplus) (2.2.0)\n"
     ]
    }
   ],
   "source": [
    "!pip install pydotplus"
   ]
  },
  {
   "cell_type": "code",
   "execution_count": 27,
   "metadata": {},
   "outputs": [
    {
     "data": {
      "image/png": "[encoded data removed]",
      "text/plain": [
       "<IPython.core.display.Image object>"
      ]
     },
     "execution_count": 27,
     "metadata": {},
     "output_type": "execute_result"
    }
   ],
   "source": [
    "draw_tree(model,['MonthlyIncome'])"
   ]
  },
  {
   "cell_type": "code",
   "execution_count": 28,
   "metadata": {},
   "outputs": [
    {
     "data": {
      "image/png": "[encoded data removed]",
      "text/plain": [
       "<IPython.core.display.Image object>"
      ]
     },
     "execution_count": 28,
     "metadata": {},
     "output_type": "execute_result"
    }
   ],
   "source": [
    "from sklearn.tree import DecisionTreeClassifier\n",
    "\n",
    "model =DecisionTreeClassifier(random_state=100,max_depth=3)\n",
    "input_columns= ['MonthlyIncome','OverTime_No','Gender_Female']\n",
    "model.fit(train[input_columns],train['Attrition'])\n",
    "draw_tree(model,input_columns)"
   ]
  },
  {
   "cell_type": "code",
   "execution_count": 29,
   "metadata": {},
   "outputs": [
    {
     "data": {
      "text/html": [
       "<div>\n",
       "<style scoped>\n",
       "    .dataframe tbody tr th:only-of-type {\n",
       "        vertical-align: middle;\n",
       "    }\n",
       "\n",
       "    .dataframe tbody tr th {\n",
       "        vertical-align: top;\n",
       "    }\n",
       "\n",
       "    .dataframe thead th {\n",
       "        text-align: right;\n",
       "    }\n",
       "</style>\n",
       "<table border=\"1\" class=\"dataframe\">\n",
       "  <thead>\n",
       "    <tr style=\"text-align: right;\">\n",
       "      <th></th>\n",
       "      <th>Prob_0</th>\n",
       "      <th>Prob_1</th>\n",
       "    </tr>\n",
       "  </thead>\n",
       "  <tbody>\n",
       "    <tr>\n",
       "      <th>0</th>\n",
       "      <td>0.839695</td>\n",
       "      <td>0.160305</td>\n",
       "    </tr>\n",
       "    <tr>\n",
       "      <th>1</th>\n",
       "      <td>0.301887</td>\n",
       "      <td>0.698113</td>\n",
       "    </tr>\n",
       "    <tr>\n",
       "      <th>2</th>\n",
       "      <td>0.929432</td>\n",
       "      <td>0.070568</td>\n",
       "    </tr>\n",
       "    <tr>\n",
       "      <th>3</th>\n",
       "      <td>0.800000</td>\n",
       "      <td>0.200000</td>\n",
       "    </tr>\n",
       "    <tr>\n",
       "      <th>4</th>\n",
       "      <td>1.000000</td>\n",
       "      <td>0.000000</td>\n",
       "    </tr>\n",
       "    <tr>\n",
       "      <th>5</th>\n",
       "      <td>0.800000</td>\n",
       "      <td>0.200000</td>\n",
       "    </tr>\n",
       "    <tr>\n",
       "      <th>6</th>\n",
       "      <td>0.800000</td>\n",
       "      <td>0.200000</td>\n",
       "    </tr>\n",
       "    <tr>\n",
       "      <th>7</th>\n",
       "      <td>0.929432</td>\n",
       "      <td>0.070568</td>\n",
       "    </tr>\n",
       "    <tr>\n",
       "      <th>8</th>\n",
       "      <td>0.549020</td>\n",
       "      <td>0.450980</td>\n",
       "    </tr>\n",
       "    <tr>\n",
       "      <th>9</th>\n",
       "      <td>0.929432</td>\n",
       "      <td>0.070568</td>\n",
       "    </tr>\n",
       "    <tr>\n",
       "      <th>10</th>\n",
       "      <td>0.929432</td>\n",
       "      <td>0.070568</td>\n",
       "    </tr>\n",
       "    <tr>\n",
       "      <th>11</th>\n",
       "      <td>0.929432</td>\n",
       "      <td>0.070568</td>\n",
       "    </tr>\n",
       "    <tr>\n",
       "      <th>12</th>\n",
       "      <td>0.839695</td>\n",
       "      <td>0.160305</td>\n",
       "    </tr>\n",
       "    <tr>\n",
       "      <th>13</th>\n",
       "      <td>0.929432</td>\n",
       "      <td>0.070568</td>\n",
       "    </tr>\n",
       "    <tr>\n",
       "      <th>14</th>\n",
       "      <td>0.301887</td>\n",
       "      <td>0.698113</td>\n",
       "    </tr>\n",
       "    <tr>\n",
       "      <th>15</th>\n",
       "      <td>0.250000</td>\n",
       "      <td>0.750000</td>\n",
       "    </tr>\n",
       "    <tr>\n",
       "      <th>16</th>\n",
       "      <td>1.000000</td>\n",
       "      <td>0.000000</td>\n",
       "    </tr>\n",
       "    <tr>\n",
       "      <th>17</th>\n",
       "      <td>0.929432</td>\n",
       "      <td>0.070568</td>\n",
       "    </tr>\n",
       "    <tr>\n",
       "      <th>18</th>\n",
       "      <td>0.929432</td>\n",
       "      <td>0.070568</td>\n",
       "    </tr>\n",
       "    <tr>\n",
       "      <th>19</th>\n",
       "      <td>0.839695</td>\n",
       "      <td>0.160305</td>\n",
       "    </tr>\n",
       "    <tr>\n",
       "      <th>20</th>\n",
       "      <td>0.549020</td>\n",
       "      <td>0.450980</td>\n",
       "    </tr>\n",
       "    <tr>\n",
       "      <th>21</th>\n",
       "      <td>0.650000</td>\n",
       "      <td>0.350000</td>\n",
       "    </tr>\n",
       "    <tr>\n",
       "      <th>22</th>\n",
       "      <td>0.929432</td>\n",
       "      <td>0.070568</td>\n",
       "    </tr>\n",
       "    <tr>\n",
       "      <th>23</th>\n",
       "      <td>0.839695</td>\n",
       "      <td>0.160305</td>\n",
       "    </tr>\n",
       "    <tr>\n",
       "      <th>24</th>\n",
       "      <td>0.929432</td>\n",
       "      <td>0.070568</td>\n",
       "    </tr>\n",
       "    <tr>\n",
       "      <th>25</th>\n",
       "      <td>0.929432</td>\n",
       "      <td>0.070568</td>\n",
       "    </tr>\n",
       "    <tr>\n",
       "      <th>26</th>\n",
       "      <td>0.929432</td>\n",
       "      <td>0.070568</td>\n",
       "    </tr>\n",
       "    <tr>\n",
       "      <th>27</th>\n",
       "      <td>0.929432</td>\n",
       "      <td>0.070568</td>\n",
       "    </tr>\n",
       "    <tr>\n",
       "      <th>28</th>\n",
       "      <td>0.929432</td>\n",
       "      <td>0.070568</td>\n",
       "    </tr>\n",
       "    <tr>\n",
       "      <th>29</th>\n",
       "      <td>0.929432</td>\n",
       "      <td>0.070568</td>\n",
       "    </tr>\n",
       "    <tr>\n",
       "      <th>...</th>\n",
       "      <td>...</td>\n",
       "      <td>...</td>\n",
       "    </tr>\n",
       "    <tr>\n",
       "      <th>411</th>\n",
       "      <td>0.301887</td>\n",
       "      <td>0.698113</td>\n",
       "    </tr>\n",
       "    <tr>\n",
       "      <th>412</th>\n",
       "      <td>0.929432</td>\n",
       "      <td>0.070568</td>\n",
       "    </tr>\n",
       "    <tr>\n",
       "      <th>413</th>\n",
       "      <td>0.839695</td>\n",
       "      <td>0.160305</td>\n",
       "    </tr>\n",
       "    <tr>\n",
       "      <th>414</th>\n",
       "      <td>0.929432</td>\n",
       "      <td>0.070568</td>\n",
       "    </tr>\n",
       "    <tr>\n",
       "      <th>415</th>\n",
       "      <td>0.650000</td>\n",
       "      <td>0.350000</td>\n",
       "    </tr>\n",
       "    <tr>\n",
       "      <th>416</th>\n",
       "      <td>0.839695</td>\n",
       "      <td>0.160305</td>\n",
       "    </tr>\n",
       "    <tr>\n",
       "      <th>417</th>\n",
       "      <td>0.929432</td>\n",
       "      <td>0.070568</td>\n",
       "    </tr>\n",
       "    <tr>\n",
       "      <th>418</th>\n",
       "      <td>0.800000</td>\n",
       "      <td>0.200000</td>\n",
       "    </tr>\n",
       "    <tr>\n",
       "      <th>419</th>\n",
       "      <td>0.929432</td>\n",
       "      <td>0.070568</td>\n",
       "    </tr>\n",
       "    <tr>\n",
       "      <th>420</th>\n",
       "      <td>0.800000</td>\n",
       "      <td>0.200000</td>\n",
       "    </tr>\n",
       "    <tr>\n",
       "      <th>421</th>\n",
       "      <td>0.929432</td>\n",
       "      <td>0.070568</td>\n",
       "    </tr>\n",
       "    <tr>\n",
       "      <th>422</th>\n",
       "      <td>0.929432</td>\n",
       "      <td>0.070568</td>\n",
       "    </tr>\n",
       "    <tr>\n",
       "      <th>423</th>\n",
       "      <td>0.929432</td>\n",
       "      <td>0.070568</td>\n",
       "    </tr>\n",
       "    <tr>\n",
       "      <th>424</th>\n",
       "      <td>0.650000</td>\n",
       "      <td>0.350000</td>\n",
       "    </tr>\n",
       "    <tr>\n",
       "      <th>425</th>\n",
       "      <td>0.929432</td>\n",
       "      <td>0.070568</td>\n",
       "    </tr>\n",
       "    <tr>\n",
       "      <th>426</th>\n",
       "      <td>0.549020</td>\n",
       "      <td>0.450980</td>\n",
       "    </tr>\n",
       "    <tr>\n",
       "      <th>427</th>\n",
       "      <td>0.839695</td>\n",
       "      <td>0.160305</td>\n",
       "    </tr>\n",
       "    <tr>\n",
       "      <th>428</th>\n",
       "      <td>0.929432</td>\n",
       "      <td>0.070568</td>\n",
       "    </tr>\n",
       "    <tr>\n",
       "      <th>429</th>\n",
       "      <td>0.929432</td>\n",
       "      <td>0.070568</td>\n",
       "    </tr>\n",
       "    <tr>\n",
       "      <th>430</th>\n",
       "      <td>0.929432</td>\n",
       "      <td>0.070568</td>\n",
       "    </tr>\n",
       "    <tr>\n",
       "      <th>431</th>\n",
       "      <td>0.929432</td>\n",
       "      <td>0.070568</td>\n",
       "    </tr>\n",
       "    <tr>\n",
       "      <th>432</th>\n",
       "      <td>0.929432</td>\n",
       "      <td>0.070568</td>\n",
       "    </tr>\n",
       "    <tr>\n",
       "      <th>433</th>\n",
       "      <td>0.301887</td>\n",
       "      <td>0.698113</td>\n",
       "    </tr>\n",
       "    <tr>\n",
       "      <th>434</th>\n",
       "      <td>0.929432</td>\n",
       "      <td>0.070568</td>\n",
       "    </tr>\n",
       "    <tr>\n",
       "      <th>435</th>\n",
       "      <td>0.549020</td>\n",
       "      <td>0.450980</td>\n",
       "    </tr>\n",
       "    <tr>\n",
       "      <th>436</th>\n",
       "      <td>0.800000</td>\n",
       "      <td>0.200000</td>\n",
       "    </tr>\n",
       "    <tr>\n",
       "      <th>437</th>\n",
       "      <td>0.929432</td>\n",
       "      <td>0.070568</td>\n",
       "    </tr>\n",
       "    <tr>\n",
       "      <th>438</th>\n",
       "      <td>0.800000</td>\n",
       "      <td>0.200000</td>\n",
       "    </tr>\n",
       "    <tr>\n",
       "      <th>439</th>\n",
       "      <td>0.929432</td>\n",
       "      <td>0.070568</td>\n",
       "    </tr>\n",
       "    <tr>\n",
       "      <th>440</th>\n",
       "      <td>0.839695</td>\n",
       "      <td>0.160305</td>\n",
       "    </tr>\n",
       "  </tbody>\n",
       "</table>\n",
       "<p>441 rows × 2 columns</p>\n",
       "</div>"
      ],
      "text/plain": [
       "       Prob_0    Prob_1\n",
       "0    0.839695  0.160305\n",
       "1    0.301887  0.698113\n",
       "2    0.929432  0.070568\n",
       "3    0.800000  0.200000\n",
       "4    1.000000  0.000000\n",
       "5    0.800000  0.200000\n",
       "6    0.800000  0.200000\n",
       "7    0.929432  0.070568\n",
       "8    0.549020  0.450980\n",
       "9    0.929432  0.070568\n",
       "10   0.929432  0.070568\n",
       "11   0.929432  0.070568\n",
       "12   0.839695  0.160305\n",
       "13   0.929432  0.070568\n",
       "14   0.301887  0.698113\n",
       "15   0.250000  0.750000\n",
       "16   1.000000  0.000000\n",
       "17   0.929432  0.070568\n",
       "18   0.929432  0.070568\n",
       "19   0.839695  0.160305\n",
       "20   0.549020  0.450980\n",
       "21   0.650000  0.350000\n",
       "22   0.929432  0.070568\n",
       "23   0.839695  0.160305\n",
       "24   0.929432  0.070568\n",
       "25   0.929432  0.070568\n",
       "26   0.929432  0.070568\n",
       "27   0.929432  0.070568\n",
       "28   0.929432  0.070568\n",
       "29   0.929432  0.070568\n",
       "..        ...       ...\n",
       "411  0.301887  0.698113\n",
       "412  0.929432  0.070568\n",
       "413  0.839695  0.160305\n",
       "414  0.929432  0.070568\n",
       "415  0.650000  0.350000\n",
       "416  0.839695  0.160305\n",
       "417  0.929432  0.070568\n",
       "418  0.800000  0.200000\n",
       "419  0.929432  0.070568\n",
       "420  0.800000  0.200000\n",
       "421  0.929432  0.070568\n",
       "422  0.929432  0.070568\n",
       "423  0.929432  0.070568\n",
       "424  0.650000  0.350000\n",
       "425  0.929432  0.070568\n",
       "426  0.549020  0.450980\n",
       "427  0.839695  0.160305\n",
       "428  0.929432  0.070568\n",
       "429  0.929432  0.070568\n",
       "430  0.929432  0.070568\n",
       "431  0.929432  0.070568\n",
       "432  0.929432  0.070568\n",
       "433  0.301887  0.698113\n",
       "434  0.929432  0.070568\n",
       "435  0.549020  0.450980\n",
       "436  0.800000  0.200000\n",
       "437  0.929432  0.070568\n",
       "438  0.800000  0.200000\n",
       "439  0.929432  0.070568\n",
       "440  0.839695  0.160305\n",
       "\n",
       "[441 rows x 2 columns]"
      ]
     },
     "execution_count": 29,
     "metadata": {},
     "output_type": "execute_result"
    }
   ],
   "source": [
    "pred = model.predict(test[input_columns])\n",
    "pred_prob = pd.DataFrame(model.predict_proba(test[input_columns]),columns=['Prob_0','Prob_1'])\n",
    "pred_prob"
   ]
  },
  {
   "cell_type": "code",
   "execution_count": 30,
   "metadata": {},
   "outputs": [
    {
     "data": {
      "text/plain": [
       "0.8480725623582767"
      ]
     },
     "execution_count": 30,
     "metadata": {},
     "output_type": "execute_result"
    }
   ],
   "source": [
    "from sklearn.metrics import accuracy_score\n",
    "accuracy_score(test['Attrition'],pred)"
   ]
  },
  {
   "cell_type": "code",
   "execution_count": null,
   "metadata": {},
   "outputs": [],
   "source": []
  },
  {
   "cell_type": "code",
   "execution_count": null,
   "metadata": {},
   "outputs": [],
   "source": []
  },
  {
   "cell_type": "code",
   "execution_count": null,
   "metadata": {},
   "outputs": [],
   "source": []
  }
 ],
 "metadata": {
  "kernelspec": {
   "display_name": "Python 3",
   "language": "python",
   "name": "python3"
  },
  "language_info": {
   "codemirror_mode": {
    "name": "ipython",
    "version": 3
   },
   "file_extension": ".py",
   "mimetype": "text/x-python",
   "name": "python",
   "nbconvert_exporter": "python",
   "pygments_lexer": "ipython3",
   "version": "3.7.0"
  }
 },
 "nbformat": 4,
 "nbformat_minor": 2
}
