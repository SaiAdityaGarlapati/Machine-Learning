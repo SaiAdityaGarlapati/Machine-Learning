{
 "cells": [
  {
   "cell_type": "code",
   "execution_count": 1,
   "metadata": {},
   "outputs": [],
   "source": [
    "import pandas as pd\n",
    "from sklearn.model_selection import train_test_split\n",
    "from sklearn.metrics import confusion_matrix,accuracy_score\n",
    "from sklearn.tree import DecisionTreeClassifier\n",
    "from sklearn.ensemble import RandomForestClassifier, AdaBoostClassifier\n",
    "from sklearn.neighbors import KNeighborsClassifier"
   ]
  },
  {
   "cell_type": "code",
   "execution_count": 2,
   "metadata": {},
   "outputs": [],
   "source": [
    "bank_df = pd.DataFrame(columns=['Decision Tree', 'Random Forest', 'AdaBoost', 'KNN'], \n",
    "                       index=['True Positive', 'True Negative', 'False Positive', 'False Negative', 'Accuracy', 'Sensitivity', 'Specificity'])"
   ]
  },
  {
   "cell_type": "code",
   "execution_count": 3,
   "metadata": {},
   "outputs": [],
   "source": [
    "bank = pd.read_csv('bank-full.csv',sep=';')\n",
    "bank['y'] = bank['y'].apply(lambda x: 1 if x=='yes' else 0)\n",
    "bank_dummies = pd.get_dummies(bank)"
   ]
  },
  {
   "cell_type": "code",
   "execution_count": 4,
   "metadata": {},
   "outputs": [],
   "source": [
    "train, test = train_test_split(bank_dummies,\n",
    "                              test_size = 0.3,\n",
    "                              random_state = 100)\n",
    "train_x = train.drop('y', axis = 1)\n",
    "train_y = train['y']\n",
    "\n",
    "test_x = test.drop('y', axis = 1)\n",
    "test_y = test['y']"
   ]
  },
  {
   "cell_type": "code",
   "execution_count": 5,
   "metadata": {},
   "outputs": [
    {
     "data": {
      "text/html": [
       "<div>\n",
       "<style scoped>\n",
       "    .dataframe tbody tr th:only-of-type {\n",
       "        vertical-align: middle;\n",
       "    }\n",
       "\n",
       "    .dataframe tbody tr th {\n",
       "        vertical-align: top;\n",
       "    }\n",
       "\n",
       "    .dataframe thead th {\n",
       "        text-align: right;\n",
       "    }\n",
       "</style>\n",
       "<table border=\"1\" class=\"dataframe\">\n",
       "  <thead>\n",
       "    <tr style=\"text-align: right;\">\n",
       "      <th></th>\n",
       "      <th>Decision Tree</th>\n",
       "      <th>Random Forest</th>\n",
       "      <th>AdaBoost</th>\n",
       "      <th>KNN</th>\n",
       "    </tr>\n",
       "  </thead>\n",
       "  <tbody>\n",
       "    <tr>\n",
       "      <th>True Positive</th>\n",
       "      <td>522.000000</td>\n",
       "      <td>645.000000</td>\n",
       "      <td>618.000000</td>\n",
       "      <td>434.000000</td>\n",
       "    </tr>\n",
       "    <tr>\n",
       "      <th>True Negative</th>\n",
       "      <td>11676.000000</td>\n",
       "      <td>11636.000000</td>\n",
       "      <td>11597.000000</td>\n",
       "      <td>11510.000000</td>\n",
       "    </tr>\n",
       "    <tr>\n",
       "      <th>False Positive</th>\n",
       "      <td>309.000000</td>\n",
       "      <td>349.000000</td>\n",
       "      <td>388.000000</td>\n",
       "      <td>475.000000</td>\n",
       "    </tr>\n",
       "    <tr>\n",
       "      <th>False Negative</th>\n",
       "      <td>1057.000000</td>\n",
       "      <td>934.000000</td>\n",
       "      <td>961.000000</td>\n",
       "      <td>1145.000000</td>\n",
       "    </tr>\n",
       "    <tr>\n",
       "      <th>Accuracy</th>\n",
       "      <td>89.929224</td>\n",
       "      <td>90.541138</td>\n",
       "      <td>90.054556</td>\n",
       "      <td>88.056620</td>\n",
       "    </tr>\n",
       "    <tr>\n",
       "      <th>Sensitivity</th>\n",
       "      <td>33.058898</td>\n",
       "      <td>40.848638</td>\n",
       "      <td>39.138695</td>\n",
       "      <td>27.485750</td>\n",
       "    </tr>\n",
       "    <tr>\n",
       "      <th>Specificity</th>\n",
       "      <td>97.421777</td>\n",
       "      <td>97.088027</td>\n",
       "      <td>96.762620</td>\n",
       "      <td>96.036713</td>\n",
       "    </tr>\n",
       "  </tbody>\n",
       "</table>\n",
       "</div>"
      ],
      "text/plain": [
       "                Decision Tree  Random Forest      AdaBoost           KNN\n",
       "True Positive      522.000000     645.000000    618.000000    434.000000\n",
       "True Negative    11676.000000   11636.000000  11597.000000  11510.000000\n",
       "False Positive     309.000000     349.000000    388.000000    475.000000\n",
       "False Negative    1057.000000     934.000000    961.000000   1145.000000\n",
       "Accuracy            89.929224      90.541138     90.054556     88.056620\n",
       "Sensitivity         33.058898      40.848638     39.138695     27.485750\n",
       "Specificity         97.421777      97.088027     96.762620     96.036713"
      ]
     },
     "execution_count": 5,
     "metadata": {},
     "output_type": "execute_result"
    }
   ],
   "source": [
    "count = 0\n",
    "while count<4:\n",
    "    if count == 0:\n",
    "        model = DecisionTreeClassifier(random_state = 100, max_depth = 5)\n",
    "    elif count == 1:\n",
    "        model = RandomForestClassifier(random_state=100, n_estimators=300)\n",
    "    elif count == 2:\n",
    "        model = AdaBoostClassifier(random_state=100,n_estimators=300)\n",
    "    else:\n",
    "        model = KNeighborsClassifier(n_neighbors = 5)  \n",
    "    model.fit(train_x, train_y)\n",
    "    pred_test = model.predict(test_x)\n",
    "    tn, fp, fn, tp = confusion_matrix(test_y, pred_test).ravel()\n",
    "    accuracy = accuracy_score(test_y, pred_test) * 100\n",
    "    sensitivity = tp / (tp + fn) * 100\n",
    "    specificity = tn / (tn + fp) * 100\n",
    "    bank_df.iloc[:,count] = [tp,tn,fp,fn,accuracy,sensitivity,specificity]\n",
    "    count = count + 1\n",
    "bank_df"
   ]
  }
 ],
 "metadata": {
  "kernelspec": {
   "display_name": "Python 3",
   "language": "python",
   "name": "python3"
  },
  "language_info": {
   "codemirror_mode": {
    "name": "ipython",
    "version": 3
   },
   "file_extension": ".py",
   "mimetype": "text/x-python",
   "name": "python",
   "nbconvert_exporter": "python",
   "pygments_lexer": "ipython3",
   "version": "3.7.0"
  }
 },
 "nbformat": 4,
 "nbformat_minor": 2
}
