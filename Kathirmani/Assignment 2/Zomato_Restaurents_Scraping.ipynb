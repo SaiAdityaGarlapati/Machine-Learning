{
 "cells": [
  {
   "cell_type": "code",
   "execution_count": 1,
   "metadata": {},
   "outputs": [],
   "source": [
    "import pandas as pd\n",
    "from selenium import webdriver"
   ]
  },
  {
   "cell_type": "code",
   "execution_count": 2,
   "metadata": {},
   "outputs": [
    {
     "data": {
      "text/plain": [
       "<selenium.webdriver.chrome.webdriver.WebDriver (session=\"070c47974e13ab55ca86b7547b76477c\")>"
      ]
     },
     "execution_count": 2,
     "metadata": {},
     "output_type": "execute_result"
    }
   ],
   "source": [
    "browser = webdriver.Chrome('C:/Users/Amarnath/chromedriver.exe')\n",
    "browser"
   ]
  },
  {
   "cell_type": "code",
   "execution_count": 5,
   "metadata": {},
   "outputs": [],
   "source": [
    "url = 'https://www.zomato.com/bangalore/great-food-no-bull'\n",
    "browser.get(url)"
   ]
  },
  {
   "cell_type": "markdown",
   "metadata": {},
   "source": [
    "# Collecting Restaurents Information"
   ]
  },
  {
   "cell_type": "code",
   "execution_count": 6,
   "metadata": {},
   "outputs": [
    {
     "data": {
      "text/html": [
       "<div>\n",
       "<style scoped>\n",
       "    .dataframe tbody tr th:only-of-type {\n",
       "        vertical-align: middle;\n",
       "    }\n",
       "\n",
       "    .dataframe tbody tr th {\n",
       "        vertical-align: top;\n",
       "    }\n",
       "\n",
       "    .dataframe thead th {\n",
       "        text-align: right;\n",
       "    }\n",
       "</style>\n",
       "<table border=\"1\" class=\"dataframe\">\n",
       "  <thead>\n",
       "    <tr style=\"text-align: right;\">\n",
       "      <th></th>\n",
       "      <th>Name</th>\n",
       "      <th>ID</th>\n",
       "      <th>URL</th>\n",
       "    </tr>\n",
       "  </thead>\n",
       "  <tbody>\n",
       "    <tr>\n",
       "      <th>0</th>\n",
       "      <td>Brewklyn Microbrewery</td>\n",
       "      <td>18426381</td>\n",
       "      <td>https://www.zomato.com/bangalore/brewklyn-micr...</td>\n",
       "    </tr>\n",
       "    <tr>\n",
       "      <th>1</th>\n",
       "      <td>Chinita Real Mexican Food</td>\n",
       "      <td>18608992</td>\n",
       "      <td>https://www.zomato.com/bangalore/chinita-real-...</td>\n",
       "    </tr>\n",
       "    <tr>\n",
       "      <th>2</th>\n",
       "      <td>Burma Burma</td>\n",
       "      <td>18625420</td>\n",
       "      <td>https://www.zomato.com/bangalore/burma-burma-i...</td>\n",
       "    </tr>\n",
       "    <tr>\n",
       "      <th>3</th>\n",
       "      <td>Hunger Camp</td>\n",
       "      <td>18783527</td>\n",
       "      <td>https://www.zomato.com/bangalore/hunger-camp-j...</td>\n",
       "    </tr>\n",
       "    <tr>\n",
       "      <th>4</th>\n",
       "      <td>The Old Fashioned Bar</td>\n",
       "      <td>18744326</td>\n",
       "      <td>https://www.zomato.com/bangalore/the-old-fashi...</td>\n",
       "    </tr>\n",
       "  </tbody>\n",
       "</table>\n",
       "</div>"
      ],
      "text/plain": [
       "                        Name        ID  \\\n",
       "0      Brewklyn Microbrewery  18426381   \n",
       "1  Chinita Real Mexican Food  18608992   \n",
       "2                Burma Burma  18625420   \n",
       "3                Hunger Camp  18783527   \n",
       "4      The Old Fashioned Bar  18744326   \n",
       "\n",
       "                                                 URL  \n",
       "0  https://www.zomato.com/bangalore/brewklyn-micr...  \n",
       "1  https://www.zomato.com/bangalore/chinita-real-...  \n",
       "2  https://www.zomato.com/bangalore/burma-burma-i...  \n",
       "3  https://www.zomato.com/bangalore/hunger-camp-j...  \n",
       "4  https://www.zomato.com/bangalore/the-old-fashi...  "
      ]
     },
     "execution_count": 6,
     "metadata": {},
     "output_type": "execute_result"
    }
   ],
   "source": [
    "restaurents = pd.DataFrame(columns = ['Name', 'ID', 'URL'])\n",
    "restaurent_names = browser.find_elements_by_css_selector('div.relative.top-res-box.entity-ads-snippet-track')\n",
    "for restaurent in restaurent_names:\n",
    "    name = restaurent.find_element_by_css_selector('div.res_title').text\n",
    "    id = int(restaurent.get_attribute('data-entity-id'))\n",
    "    url = restaurent.find_element_by_css_selector('div.ptop0.pbot0.pl10.pr10').find_element_by_tag_name('a').get_attribute('href')\n",
    "    restaurents = restaurents.append({'Name':name, 'ID':id, 'URL':url},\n",
    "                                     ignore_index = True)\n",
    "restaurents.head()"
   ]
  },
  {
   "cell_type": "markdown",
   "metadata": {},
   "source": [
    "# Collecting Reviews for each restaurent"
   ]
  },
  {
   "cell_type": "code",
   "execution_count": 7,
   "metadata": {
    "scrolled": false
   },
   "outputs": [],
   "source": [
    "import time\n",
    "Reviews = pd.DataFrame(columns = ['Restaurent_Name', 'Restaurent_ID', 'User_Name', 'User_ID', 'Rating'])\n",
    "for index, row in restaurents.iterrows():\n",
    "    browser.get(row['URL'])\n",
    "    try:\n",
    "        while True:\n",
    "            browser.find_element_by_css_selector('div.ui.segment.clearfix.zs-load-more.res-page-load-more').click()\n",
    "            time.sleep(2)\n",
    "    except:\n",
    "        users = browser.find_elements_by_css_selector('div.ui.segment.clearfix.brtop')\n",
    "    for user in users:\n",
    "        Reviews = Reviews.append({'Restaurent_Name':row['Name'], 'Restaurent_ID':row['ID'], 'User_Name':user.find_element_by_css_selector('div.header.nowrap.ui.left').find_element_by_css_selector('a').text,\n",
    "                                 'User_ID':int(user.find_element_by_css_selector('div.header.nowrap.ui.left').find_element_by_css_selector('a').get_attribute('data-entity_id')),\n",
    "                                 'Rating':float(user.find_element_by_css_selector('div.ttupper.fs12px.left.bold.zdhl2.tooltip').get_attribute('aria-label').split(' ')[1])},\n",
    "                                ignore_index = True)\n"
   ]
  },
  {
   "cell_type": "code",
   "execution_count": 23,
   "metadata": {},
   "outputs": [
    {
     "data": {
      "text/html": [
       "<div>\n",
       "<style scoped>\n",
       "    .dataframe tbody tr th:only-of-type {\n",
       "        vertical-align: middle;\n",
       "    }\n",
       "\n",
       "    .dataframe tbody tr th {\n",
       "        vertical-align: top;\n",
       "    }\n",
       "\n",
       "    .dataframe thead th {\n",
       "        text-align: right;\n",
       "    }\n",
       "</style>\n",
       "<table border=\"1\" class=\"dataframe\">\n",
       "  <thead>\n",
       "    <tr style=\"text-align: right;\">\n",
       "      <th></th>\n",
       "      <th>Restaurent_Name</th>\n",
       "      <th>Restaurent_ID</th>\n",
       "      <th>User_Name</th>\n",
       "      <th>User_ID</th>\n",
       "      <th>Rating</th>\n",
       "    </tr>\n",
       "  </thead>\n",
       "  <tbody>\n",
       "    <tr>\n",
       "      <th>0</th>\n",
       "      <td>Brewklyn Microbrewery</td>\n",
       "      <td>18426381</td>\n",
       "      <td>Isha Kaur</td>\n",
       "      <td>36363182</td>\n",
       "      <td>4.0</td>\n",
       "    </tr>\n",
       "    <tr>\n",
       "      <th>1</th>\n",
       "      <td>Brewklyn Microbrewery</td>\n",
       "      <td>18426381</td>\n",
       "      <td>Shreyas</td>\n",
       "      <td>27720568</td>\n",
       "      <td>4.0</td>\n",
       "    </tr>\n",
       "    <tr>\n",
       "      <th>2</th>\n",
       "      <td>Brewklyn Microbrewery</td>\n",
       "      <td>18426381</td>\n",
       "      <td>Aaghran Ghosh</td>\n",
       "      <td>245984</td>\n",
       "      <td>4.0</td>\n",
       "    </tr>\n",
       "    <tr>\n",
       "      <th>3</th>\n",
       "      <td>Brewklyn Microbrewery</td>\n",
       "      <td>18426381</td>\n",
       "      <td>Didon Clinton Dsouza</td>\n",
       "      <td>37440297</td>\n",
       "      <td>5.0</td>\n",
       "    </tr>\n",
       "    <tr>\n",
       "      <th>4</th>\n",
       "      <td>Brewklyn Microbrewery</td>\n",
       "      <td>18426381</td>\n",
       "      <td>Anant :)</td>\n",
       "      <td>39373492</td>\n",
       "      <td>4.0</td>\n",
       "    </tr>\n",
       "  </tbody>\n",
       "</table>\n",
       "</div>"
      ],
      "text/plain": [
       "         Restaurent_Name Restaurent_ID             User_Name   User_ID  Rating\n",
       "0  Brewklyn Microbrewery      18426381             Isha Kaur  36363182     4.0\n",
       "1  Brewklyn Microbrewery      18426381               Shreyas  27720568     4.0\n",
       "2  Brewklyn Microbrewery      18426381         Aaghran Ghosh    245984     4.0\n",
       "3  Brewklyn Microbrewery      18426381  Didon Clinton Dsouza  37440297     5.0\n",
       "4  Brewklyn Microbrewery      18426381              Anant :)  39373492     4.0"
      ]
     },
     "execution_count": 23,
     "metadata": {},
     "output_type": "execute_result"
    }
   ],
   "source": [
    "Reviews.head()"
   ]
  },
  {
   "cell_type": "code",
   "execution_count": 19,
   "metadata": {},
   "outputs": [
    {
     "data": {
      "text/plain": [
       "array(['Brewklyn Microbrewery', 'Chinita Real Mexican Food',\n",
       "       'Burma Burma', 'Hunger Camp', 'The Old Fashioned Bar', 'Foxtrot',\n",
       "       'Mugful Of Stories', 'Namma SLN', 'Zamindar', 'Lot Like Crepes',\n",
       "       'Lavonne', 'Avista Cafe Pizzeria', 'Jalsa Gold',\n",
       "       'Olive Bar And Kitchen', 'Stoner', 'Hard Rock Cafe', 'CTR',\n",
       "       'Imperio Restaurant', 'Sea Rock', 'Maziga', 'Milano Ice Cream',\n",
       "       'The Hole in the Wall Cafe', 'Red Rhino', 'Toast & Tonic',\n",
       "       \"Brahmin's Coffee Bar\", 'Sharon Tea Stall',\n",
       "       \"3B's - Buddies, Bar &...\", 'nu.tree', 'Empire Restaurant',\n",
       "       'BITEBOX', 'ANTIGRAVITY', 'Bamboo Hut', 'The Pizza Bakery',\n",
       "       'Café Kaffea', 'Bengaluru Cafe', 'OPUS Club', '99 Pancakes',\n",
       "       'The Asian Curry House', 'Siddiqu Kabab Center',\n",
       "       'Soda Bottle Opener Wala', 'The Globe Grub', 'Brik Oven',\n",
       "       'The Permit Room', 'Chikkanna Tiffin Room', 'Biergarten', 'MISU',\n",
       "       'HOMMS', 'Big Pitcher', 'PurpleBasil.in', 'Dyu Art Cafe',\n",
       "       'Delhi Highway', 'OKI', 'The Reservoire', '1131 Bar + Kitchen',\n",
       "       'Arogya Ahaara', 'Alba - JW Marriott Bengaluru', 'XOOX Brewmill',\n",
       "       \"The Terrace at Gilly's...\", 'Brooks and Bonds Brewery',\n",
       "       'Fabelle Chocolate Boutique...', 'Windmills Craftworks',\n",
       "       'Brew and Barbeque - A...', 'THE RIG', 'Vapour Brewpub and Diner',\n",
       "       'Pin Me Down', 'IceBreakers', 'Rim Naam - The Oberoi',\n",
       "       'Output Bengaluru', 'Bologna', 'Punjab Bistro', 'Yauatcha',\n",
       "       'Thai Chy', 'Sly Granny - The Community...', 'Here & Now',\n",
       "       'Mooch Marod', 'You Mee', 'Mahjong Room - WelcomHotel...',\n",
       "       \"Fenny's Lounge And Kitchen\", 'Shakes Theory',\n",
       "       'Barbecue by Punjab Grill', 'Mudpipe Cafe',\n",
       "       \"Bloomsbury's Global Kitchen...\", 'Caperberry', 'Market Table',\n",
       "       'Arbor Brewing Company', 'Toit', 'Smoor',\n",
       "       'Mavalli Tiffin Room (MTR)', 'Buff Buffet Buff',\n",
       "       'Karavalli - The Gateway Hotel', 'Big Wong XL', 'Prost Brew Pub',\n",
       "       'Roots', 'Once Upon A Flame', 'Veena Stores', 'Float',\n",
       "       'Punjab Grill', 'Drunkling - Sizzlers and Pub', 'Communiti',\n",
       "       'Oota Bangalore', 'Zee5 Loft', 'O.G. Variar & Sons', 'Suryawanshi',\n",
       "       'The Fatty Bao - Asian...', 'Republic Of Noodles - Lemon...',\n",
       "       'HVR Veg', 'Sultans of Spice', 'BelgYum',\n",
       "       'The Blue Wagon - Kitchen'], dtype=object)"
      ]
     },
     "execution_count": 19,
     "metadata": {},
     "output_type": "execute_result"
    }
   ],
   "source": [
    "Reviews['Restaurent_Name'].unique()"
   ]
  },
  {
   "cell_type": "markdown",
   "metadata": {},
   "source": [
    "# Writing Data to Excel File"
   ]
  },
  {
   "cell_type": "code",
   "execution_count": 25,
   "metadata": {},
   "outputs": [],
   "source": [
    "from pandas import ExcelWriter\n",
    "\n",
    "writer = ExcelWriter('zomato_restaurents.xlsx')\n",
    "Reviews.to_excel(writer,'Sheet1')\n",
    "writer.save()\n"
   ]
  },
  {
   "cell_type": "code",
   "execution_count": 7,
   "metadata": {},
   "outputs": [
    {
     "data": {
      "text/html": [
       "<div>\n",
       "<style scoped>\n",
       "    .dataframe tbody tr th:only-of-type {\n",
       "        vertical-align: middle;\n",
       "    }\n",
       "\n",
       "    .dataframe tbody tr th {\n",
       "        vertical-align: top;\n",
       "    }\n",
       "\n",
       "    .dataframe thead th {\n",
       "        text-align: right;\n",
       "    }\n",
       "</style>\n",
       "<table border=\"1\" class=\"dataframe\">\n",
       "  <thead>\n",
       "    <tr style=\"text-align: right;\">\n",
       "      <th></th>\n",
       "      <th>Restaurent_Name</th>\n",
       "      <th>Restaurent_ID</th>\n",
       "      <th>User_Name</th>\n",
       "      <th>User_ID</th>\n",
       "      <th>Rating</th>\n",
       "    </tr>\n",
       "  </thead>\n",
       "  <tbody>\n",
       "    <tr>\n",
       "      <th>0</th>\n",
       "      <td>Brewklyn Microbrewery</td>\n",
       "      <td>18426381</td>\n",
       "      <td>Isha Kaur</td>\n",
       "      <td>36363182</td>\n",
       "      <td>4.0</td>\n",
       "    </tr>\n",
       "    <tr>\n",
       "      <th>1</th>\n",
       "      <td>Brewklyn Microbrewery</td>\n",
       "      <td>18426381</td>\n",
       "      <td>Shreyas</td>\n",
       "      <td>27720568</td>\n",
       "      <td>4.0</td>\n",
       "    </tr>\n",
       "    <tr>\n",
       "      <th>2</th>\n",
       "      <td>Brewklyn Microbrewery</td>\n",
       "      <td>18426381</td>\n",
       "      <td>Aaghran Ghosh</td>\n",
       "      <td>245984</td>\n",
       "      <td>4.0</td>\n",
       "    </tr>\n",
       "    <tr>\n",
       "      <th>3</th>\n",
       "      <td>Brewklyn Microbrewery</td>\n",
       "      <td>18426381</td>\n",
       "      <td>Didon Clinton Dsouza</td>\n",
       "      <td>37440297</td>\n",
       "      <td>5.0</td>\n",
       "    </tr>\n",
       "    <tr>\n",
       "      <th>4</th>\n",
       "      <td>Brewklyn Microbrewery</td>\n",
       "      <td>18426381</td>\n",
       "      <td>Anant :)</td>\n",
       "      <td>39373492</td>\n",
       "      <td>4.0</td>\n",
       "    </tr>\n",
       "  </tbody>\n",
       "</table>\n",
       "</div>"
      ],
      "text/plain": [
       "         Restaurent_Name  Restaurent_ID             User_Name   User_ID  \\\n",
       "0  Brewklyn Microbrewery       18426381             Isha Kaur  36363182   \n",
       "1  Brewklyn Microbrewery       18426381               Shreyas  27720568   \n",
       "2  Brewklyn Microbrewery       18426381         Aaghran Ghosh    245984   \n",
       "3  Brewklyn Microbrewery       18426381  Didon Clinton Dsouza  37440297   \n",
       "4  Brewklyn Microbrewery       18426381              Anant :)  39373492   \n",
       "\n",
       "   Rating  \n",
       "0     4.0  \n",
       "1     4.0  \n",
       "2     4.0  \n",
       "3     5.0  \n",
       "4     4.0  "
      ]
     },
     "execution_count": 7,
     "metadata": {},
     "output_type": "execute_result"
    }
   ],
   "source": [
    "import pandas as pd\n",
    "import numpy as np\n",
    "\n",
    "Ratings = pd.read_excel('D:/My Data/ML/Datasets/zomato_restaurents_reviews.xlsx')\n",
    "Ratings.head()"
   ]
  },
  {
   "cell_type": "markdown",
   "metadata": {},
   "source": [
    "# Number of Unique Restaurents"
   ]
  },
  {
   "cell_type": "code",
   "execution_count": 3,
   "metadata": {},
   "outputs": [
    {
     "data": {
      "text/plain": [
       "109"
      ]
     },
     "execution_count": 3,
     "metadata": {},
     "output_type": "execute_result"
    }
   ],
   "source": [
    "Ratings['Restaurent_Name'].nunique()"
   ]
  },
  {
   "cell_type": "markdown",
   "metadata": {},
   "source": [
    "# Number of Unique Users"
   ]
  },
  {
   "cell_type": "code",
   "execution_count": 4,
   "metadata": {},
   "outputs": [
    {
     "data": {
      "text/plain": [
       "2931"
      ]
     },
     "execution_count": 4,
     "metadata": {},
     "output_type": "execute_result"
    }
   ],
   "source": [
    "Ratings['User_Name'].nunique()"
   ]
  },
  {
   "cell_type": "markdown",
   "metadata": {},
   "source": [
    "# Number of Unique Ratings"
   ]
  },
  {
   "cell_type": "code",
   "execution_count": 5,
   "metadata": {},
   "outputs": [
    {
     "data": {
      "text/plain": [
       "7"
      ]
     },
     "execution_count": 5,
     "metadata": {},
     "output_type": "execute_result"
    }
   ],
   "source": [
    "Ratings['Rating'].nunique()"
   ]
  },
  {
   "cell_type": "markdown",
   "metadata": {},
   "source": [
    "# Average rating for the restaurents"
   ]
  },
  {
   "cell_type": "code",
   "execution_count": 8,
   "metadata": {},
   "outputs": [
    {
     "data": {
      "text/html": [
       "<div>\n",
       "<style scoped>\n",
       "    .dataframe tbody tr th:only-of-type {\n",
       "        vertical-align: middle;\n",
       "    }\n",
       "\n",
       "    .dataframe tbody tr th {\n",
       "        vertical-align: top;\n",
       "    }\n",
       "\n",
       "    .dataframe thead th {\n",
       "        text-align: right;\n",
       "    }\n",
       "</style>\n",
       "<table border=\"1\" class=\"dataframe\">\n",
       "  <thead>\n",
       "    <tr style=\"text-align: right;\">\n",
       "      <th></th>\n",
       "      <th>Restaurent_Name</th>\n",
       "      <th>Rating</th>\n",
       "    </tr>\n",
       "  </thead>\n",
       "  <tbody>\n",
       "    <tr>\n",
       "      <th>0</th>\n",
       "      <td>1131 Bar + Kitchen</td>\n",
       "      <td>4.1</td>\n",
       "    </tr>\n",
       "    <tr>\n",
       "      <th>1</th>\n",
       "      <td>3B's - Buddies, Bar &amp;...</td>\n",
       "      <td>4.2</td>\n",
       "    </tr>\n",
       "    <tr>\n",
       "      <th>2</th>\n",
       "      <td>99 Pancakes</td>\n",
       "      <td>4.7</td>\n",
       "    </tr>\n",
       "    <tr>\n",
       "      <th>3</th>\n",
       "      <td>ANTIGRAVITY</td>\n",
       "      <td>4.2</td>\n",
       "    </tr>\n",
       "    <tr>\n",
       "      <th>4</th>\n",
       "      <td>Alba - JW Marriott Bengaluru</td>\n",
       "      <td>4.3</td>\n",
       "    </tr>\n",
       "  </tbody>\n",
       "</table>\n",
       "</div>"
      ],
      "text/plain": [
       "                Restaurent_Name  Rating\n",
       "0            1131 Bar + Kitchen     4.1\n",
       "1      3B's - Buddies, Bar &...     4.2\n",
       "2                   99 Pancakes     4.7\n",
       "3                   ANTIGRAVITY     4.2\n",
       "4  Alba - JW Marriott Bengaluru     4.3"
      ]
     },
     "execution_count": 8,
     "metadata": {},
     "output_type": "execute_result"
    }
   ],
   "source": [
    "Avg_Rating = Ratings[['Restaurent_Name','Rating']].groupby('Restaurent_Name').agg({'Rating':np.mean}).reset_index()\n",
    "Avg_Rating['Rating'] = round(Avg_Rating['Rating'], 1)\n",
    "Avg_Rating.head()"
   ]
  },
  {
   "cell_type": "markdown",
   "metadata": {},
   "source": [
    "# Histogram showing the distribution of Ratings for the Restaurents"
   ]
  },
  {
   "cell_type": "code",
   "execution_count": 10,
   "metadata": {},
   "outputs": [
    {
     "data": {
      "image/png": "[encoded data removed]",
      "text/plain": [
       "<Figure size 432x288 with 1 Axes>"
      ]
     },
     "metadata": {
      "needs_background": "light"
     },
     "output_type": "display_data"
    }
   ],
   "source": [
    "import matplotlib.pyplot as plt\n",
    "\n",
    "plt.hist(Avg_Rating['Rating'])\n",
    "plt.xlabel('Rating')\n",
    "plt.ylabel('Number of Restaurents')\n",
    "plt.show()"
   ]
  }
 ],
 "metadata": {
  "kernelspec": {
   "display_name": "Python 3",
   "language": "python",
   "name": "python3"
  },
  "language_info": {
   "codemirror_mode": {
    "name": "ipython",
    "version": 3
   },
   "file_extension": ".py",
   "mimetype": "text/x-python",
   "name": "python",
   "nbconvert_exporter": "python",
   "pygments_lexer": "ipython3",
   "version": "3.6.8"
  }
 },
 "nbformat": 4,
 "nbformat_minor": 2
}
