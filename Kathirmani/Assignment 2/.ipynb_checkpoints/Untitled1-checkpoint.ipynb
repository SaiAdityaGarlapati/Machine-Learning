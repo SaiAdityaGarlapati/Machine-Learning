{
 "cells": [
  {
   "cell_type": "code",
   "execution_count": 1,
   "metadata": {
    "colab": {},
    "colab_type": "code",
    "id": "V9I-o-pyUqL7"
   },
   "outputs": [],
   "source": [
    "import surprise\n",
    "from surprise import KNNWithZScore\n",
    "from surprise import Reader, Dataset\n",
    "import pandas as pd\n",
    "import numpy as np"
   ]
  },
  {
   "cell_type": "code",
   "execution_count": 2,
   "metadata": {
    "colab": {
     "base_uri": "https://localhost:8080/",
     "height": 204
    },
    "colab_type": "code",
    "id": "OCIFfmB-XgX2",
    "outputId": "57534242-155f-4307-d94c-31bef12a5aba"
   },
   "outputs": [
    {
     "data": {
      "text/html": [
       "<div>\n",
       "<style scoped>\n",
       "    .dataframe tbody tr th:only-of-type {\n",
       "        vertical-align: middle;\n",
       "    }\n",
       "\n",
       "    .dataframe tbody tr th {\n",
       "        vertical-align: top;\n",
       "    }\n",
       "\n",
       "    .dataframe thead th {\n",
       "        text-align: right;\n",
       "    }\n",
       "</style>\n",
       "<table border=\"1\" class=\"dataframe\">\n",
       "  <thead>\n",
       "    <tr style=\"text-align: right;\">\n",
       "      <th></th>\n",
       "      <th>Restaurent_Name</th>\n",
       "      <th>Restaurent_ID</th>\n",
       "      <th>User_Name</th>\n",
       "      <th>User_ID</th>\n",
       "      <th>Rating</th>\n",
       "    </tr>\n",
       "  </thead>\n",
       "  <tbody>\n",
       "    <tr>\n",
       "      <th>0</th>\n",
       "      <td>Brewklyn Microbrewery</td>\n",
       "      <td>18426381</td>\n",
       "      <td>Isha Kaur</td>\n",
       "      <td>36363182</td>\n",
       "      <td>4.0</td>\n",
       "    </tr>\n",
       "    <tr>\n",
       "      <th>1</th>\n",
       "      <td>Brewklyn Microbrewery</td>\n",
       "      <td>18426381</td>\n",
       "      <td>Shreyas</td>\n",
       "      <td>27720568</td>\n",
       "      <td>4.0</td>\n",
       "    </tr>\n",
       "    <tr>\n",
       "      <th>2</th>\n",
       "      <td>Brewklyn Microbrewery</td>\n",
       "      <td>18426381</td>\n",
       "      <td>Aaghran Ghosh</td>\n",
       "      <td>245984</td>\n",
       "      <td>4.0</td>\n",
       "    </tr>\n",
       "    <tr>\n",
       "      <th>3</th>\n",
       "      <td>Brewklyn Microbrewery</td>\n",
       "      <td>18426381</td>\n",
       "      <td>Didon Clinton Dsouza</td>\n",
       "      <td>37440297</td>\n",
       "      <td>5.0</td>\n",
       "    </tr>\n",
       "    <tr>\n",
       "      <th>4</th>\n",
       "      <td>Brewklyn Microbrewery</td>\n",
       "      <td>18426381</td>\n",
       "      <td>Anant :)</td>\n",
       "      <td>39373492</td>\n",
       "      <td>4.0</td>\n",
       "    </tr>\n",
       "  </tbody>\n",
       "</table>\n",
       "</div>"
      ],
      "text/plain": [
       "         Restaurent_Name  Restaurent_ID             User_Name   User_ID  \\\n",
       "0  Brewklyn Microbrewery       18426381             Isha Kaur  36363182   \n",
       "1  Brewklyn Microbrewery       18426381               Shreyas  27720568   \n",
       "2  Brewklyn Microbrewery       18426381         Aaghran Ghosh    245984   \n",
       "3  Brewklyn Microbrewery       18426381  Didon Clinton Dsouza  37440297   \n",
       "4  Brewklyn Microbrewery       18426381              Anant :)  39373492   \n",
       "\n",
       "   Rating  \n",
       "0     4.0  \n",
       "1     4.0  \n",
       "2     4.0  \n",
       "3     5.0  \n",
       "4     4.0  "
      ]
     },
     "execution_count": 2,
     "metadata": {},
     "output_type": "execute_result"
    }
   ],
   "source": [
    "ratings = pd.read_excel('zomato_restaurents_reviews.xlsx')\n",
    "ratings.head()"
   ]
  },
  {
   "cell_type": "code",
   "execution_count": 3,
   "metadata": {
    "colab": {
     "base_uri": "https://localhost:8080/",
     "height": 235
    },
    "colab_type": "code",
    "id": "_l-JoF3DzJXZ",
    "outputId": "339a8ecf-3891-4021-fbfb-160299fb98d1"
   },
   "outputs": [
    {
     "data": {
      "text/html": [
       "<div>\n",
       "<style scoped>\n",
       "    .dataframe tbody tr th:only-of-type {\n",
       "        vertical-align: middle;\n",
       "    }\n",
       "\n",
       "    .dataframe tbody tr th {\n",
       "        vertical-align: top;\n",
       "    }\n",
       "\n",
       "    .dataframe thead th {\n",
       "        text-align: right;\n",
       "    }\n",
       "</style>\n",
       "<table border=\"1\" class=\"dataframe\">\n",
       "  <thead>\n",
       "    <tr style=\"text-align: right;\">\n",
       "      <th></th>\n",
       "      <th>Restaurent_Name</th>\n",
       "    </tr>\n",
       "    <tr>\n",
       "      <th>Restaurent_ID</th>\n",
       "      <th></th>\n",
       "    </tr>\n",
       "  </thead>\n",
       "  <tbody>\n",
       "    <tr>\n",
       "      <th>18426381</th>\n",
       "      <td>Brewklyn Microbrewery</td>\n",
       "    </tr>\n",
       "    <tr>\n",
       "      <th>18608992</th>\n",
       "      <td>Chinita Real Mexican Food</td>\n",
       "    </tr>\n",
       "    <tr>\n",
       "      <th>18625420</th>\n",
       "      <td>Burma Burma</td>\n",
       "    </tr>\n",
       "    <tr>\n",
       "      <th>18783527</th>\n",
       "      <td>Hunger Camp</td>\n",
       "    </tr>\n",
       "    <tr>\n",
       "      <th>18744326</th>\n",
       "      <td>The Old Fashioned Bar</td>\n",
       "    </tr>\n",
       "  </tbody>\n",
       "</table>\n",
       "</div>"
      ],
      "text/plain": [
       "                         Restaurent_Name\n",
       "Restaurent_ID                           \n",
       "18426381           Brewklyn Microbrewery\n",
       "18608992       Chinita Real Mexican Food\n",
       "18625420                     Burma Burma\n",
       "18783527                     Hunger Camp\n",
       "18744326           The Old Fashioned Bar"
      ]
     },
     "execution_count": 3,
     "metadata": {},
     "output_type": "execute_result"
    }
   ],
   "source": [
    "restaurents = ratings[['Restaurent_ID', 'Restaurent_Name']].drop_duplicates().set_index('Restaurent_ID')\n",
    "restaurents.head()"
   ]
  },
  {
   "cell_type": "code",
   "execution_count": 4,
   "metadata": {
    "colab": {
     "base_uri": "https://localhost:8080/",
     "height": 68
    },
    "colab_type": "code",
    "id": "Tf38l5ceXoNq",
    "outputId": "13ee2482-d5dc-436f-b3bb-db5732a5bd9b"
   },
   "outputs": [
    {
     "name": "stdout",
     "output_type": "stream",
     "text": [
      "Computing the cosine similarity matrix...\n",
      "Done computing similarity matrix.\n"
     ]
    },
    {
     "data": {
      "text/plain": [
       "<surprise.prediction_algorithms.knns.KNNWithZScore at 0x27da54c82e8>"
      ]
     },
     "execution_count": 4,
     "metadata": {},
     "output_type": "execute_result"
    }
   ],
   "source": [
    "reader = Reader(rating_scale = (1,5))\n",
    "data = Dataset.load_from_df(ratings[['User_ID','Restaurent_ID', 'Rating']], reader)\n",
    "sim_options = {\n",
    "    'name': 'cosine',\n",
    "    'user_based': True,\n",
    "    'k':10\n",
    "}\n",
    "\n",
    "knn = KNNWithZScore(sim_options = sim_options)\n",
    "knn.fit(data.build_full_trainset())"
   ]
  },
  {
   "cell_type": "code",
   "execution_count": 5,
   "metadata": {
    "colab": {
     "base_uri": "https://localhost:8080/",
     "height": 51
    },
    "colab_type": "code",
    "id": "nnomXyz3bp9H",
    "outputId": "16de428c-4447-4bc1-f691-a4a120cb0362"
   },
   "outputs": [
    {
     "name": "stdout",
     "output_type": "stream",
     "text": [
      "user: 37440297   item: 18426381   r_ui = None   est = 4.48   {'actual_k': 40, 'was_impossible': False}\n"
     ]
    },
    {
     "data": {
      "text/plain": [
       "Prediction(uid=37440297, iid=18426381, r_ui=None, est=4.477433873130937, details={'actual_k': 40, 'was_impossible': False})"
      ]
     },
     "execution_count": 5,
     "metadata": {},
     "output_type": "execute_result"
    }
   ],
   "source": [
    "knn.predict(uid = 37440297, iid = 18426381, verbose = True)"
   ]
  },
  {
   "cell_type": "code",
   "execution_count": 10,
   "metadata": {
    "colab": {},
    "colab_type": "code",
    "id": "xTiPsZW5iJ9W"
   },
   "outputs": [],
   "source": [
    "def Prediction(userid):\n",
    "    predictions = pd.DataFrame()\n",
    "\n",
    "    for restaurentid in ratings['Restaurent_ID'].unique():\n",
    "      restaurent_row = ratings[(ratings['User_ID'] == userid) & (ratings['Restaurent_ID'] == restaurentid)]\n",
    "      if len(restaurent_row) == 0:\n",
    "        restaurent_pred_rating = knn.predict(uid = userid, iid = restaurentid)[3]\n",
    "        predictions = predictions.append({'Restaurent_Id':restaurentid, 'rating_prediction':restaurent_pred_rating}, ignore_index = True)\n",
    "    ids = predictions.sort_values('rating_prediction', ascending = False).head(3)['Restaurent_Id'].astype('int')\n",
    "    return restaurents.loc[ids]['Restaurent_Name']"
   ]
  },
  {
   "cell_type": "code",
   "execution_count": 11,
   "metadata": {
    "colab": {
     "base_uri": "https://localhost:8080/",
     "height": 1030
    },
    "colab_type": "code",
    "id": "GynF0dLBz1u2",
    "outputId": "f85f69b3-2996-4f30-caed-c129d4fb6c90"
   },
   "outputs": [
    {
     "data": {
      "text/plain": [
       "Restaurent_ID\n",
       "55453       Chikkanna Tiffin Room\n",
       "18628897     Avista Cafe Pizzeria\n",
       "61111            Milano Ice Cream\n",
       "Name: Restaurent_Name, dtype: object"
      ]
     },
     "execution_count": 11,
     "metadata": {},
     "output_type": "execute_result"
    }
   ],
   "source": [
    "Prediction(37440297)"
   ]
  }
 ],
 "metadata": {
  "colab": {
   "collapsed_sections": [],
   "name": "Untitled1.ipynb",
   "provenance": [],
   "version": "0.3.2"
  },
  "kernelspec": {
   "display_name": "Python 3",
   "language": "python",
   "name": "python3"
  },
  "language_info": {
   "codemirror_mode": {
    "name": "ipython",
    "version": 3
   },
   "file_extension": ".py",
   "mimetype": "text/x-python",
   "name": "python",
   "nbconvert_exporter": "python",
   "pygments_lexer": "ipython3",
   "version": "3.7.0"
  }
 },
 "nbformat": 4,
 "nbformat_minor": 1
}
