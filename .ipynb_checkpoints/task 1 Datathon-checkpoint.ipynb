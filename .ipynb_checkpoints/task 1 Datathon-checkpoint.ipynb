{
 "cells": [
  {
   "cell_type": "code",
   "execution_count": 1,
   "metadata": {},
   "outputs": [
    {
     "name": "stderr",
     "output_type": "stream",
     "text": [
      "C:\\Users\\Aditya\\Anaconda3\\lib\\site-packages\\ipykernel\\parentpoller.py:116: UserWarning: Parent poll failed.  If the frontend dies,\n",
      "                the kernel may be left running.  Please let us know\n",
      "                about your system (bitness, Python, etc.) at\n",
      "                ipython-dev@scipy.org\n",
      "  ipython-dev@scipy.org\"\"\")\n"
     ]
    }
   ],
   "source": [
    "import pandas as pd\n",
    "import numpy as np\n",
    "import matplotlib.pyplot as plt\n",
    "%matplotlib inline\n",
    "import seaborn as sns\n",
    "import re\n",
    "\n",
    "import pickle \n",
    "#import mglearn\n",
    "import time\n",
    "\n",
    "\n",
    "from sklearn.feature_extraction.text import CountVectorizer\n",
    "from sklearn.feature_extraction.text import TfidfVectorizer\n",
    "\n",
    "\n",
    "\n",
    "from sklearn.model_selection import cross_val_score\n",
    "from sklearn.model_selection import train_test_split\n",
    "from sklearn import metrics\n",
    "from sklearn.metrics import classification_report\n",
    "from sklearn.metrics import confusion_matrix\n",
    "from sklearn.model_selection import GridSearchCV\n",
    "from sklearn.pipeline import make_pipeline"
   ]
  },
  {
   "cell_type": "code",
   "execution_count": 2,
   "metadata": {},
   "outputs": [
    {
     "name": "stderr",
     "output_type": "stream",
     "text": [
      "C:\\Users\\Aditya\\Anaconda3\\lib\\site-packages\\sklearn\\ensemble\\weight_boosting.py:29: DeprecationWarning: numpy.core.umath_tests is an internal NumPy module and should not be imported. It will be removed in a future NumPy release.\n",
      "  from numpy.core.umath_tests import inner1d\n"
     ]
    }
   ],
   "source": [
    "## importing classifiers \n",
    "from sklearn.metrics import confusion_matrix,accuracy_score\n",
    "from sklearn.tree import DecisionTreeClassifier\n",
    "from sklearn.ensemble import RandomForestClassifier, AdaBoostClassifier\n",
    "from sklearn.neighbors import KNeighborsClassifier\n",
    "from sklearn.svm import SVC\n",
    "from sklearn.neural_network import MLPClassifier\n",
    "from sklearn.linear_model import LogisticRegression \n",
    "from sklearn.naive_bayes import MultinomialNB\n",
    "from sklearn.multiclass import OneVsRestClassifier\n",
    "from sklearn.linear_model import PassiveAggressiveClassifier\n",
    "from xgboost.sklearn import XGBClassifier"
   ]
  },
  {
   "cell_type": "code",
   "execution_count": 3,
   "metadata": {},
   "outputs": [],
   "source": [
    "news = pd.read_csv('E:/Datathon 2019/task-1/task-1.csv',encoding='utf-8')\n"
   ]
  },
  {
   "cell_type": "code",
   "execution_count": 4,
   "metadata": {},
   "outputs": [],
   "source": [
    "#news['news_type'] = news['news_type'].apply(lambda x: 1 if x=='propaganda' else 0)\n",
    "#news_dummies = pd.get_dummies(news)"
   ]
  },
  {
   "cell_type": "code",
   "execution_count": 5,
   "metadata": {},
   "outputs": [],
   "source": [
    "news = news.dropna()"
   ]
  },
  {
   "cell_type": "code",
   "execution_count": 6,
   "metadata": {},
   "outputs": [],
   "source": [
    "news['news_number'] = news['news_number'].astype(int)"
   ]
  },
  {
   "cell_type": "code",
   "execution_count": 7,
   "metadata": {},
   "outputs": [
    {
     "data": {
      "text/plain": [
       "news_text      object\n",
       "news_number     int32\n",
       "news_type      object\n",
       "dtype: object"
      ]
     },
     "execution_count": 7,
     "metadata": {},
     "output_type": "execute_result"
    }
   ],
   "source": [
    "news.dtypes"
   ]
  },
  {
   "cell_type": "code",
   "execution_count": 8,
   "metadata": {},
   "outputs": [
    {
     "data": {
      "text/plain": [
       "news_text      0\n",
       "news_number    0\n",
       "news_type      0\n",
       "dtype: int64"
      ]
     },
     "execution_count": 8,
     "metadata": {},
     "output_type": "execute_result"
    }
   ],
   "source": [
    "news.isnull().sum()"
   ]
  },
  {
   "cell_type": "code",
   "execution_count": 9,
   "metadata": {},
   "outputs": [
    {
     "data": {
      "text/plain": [
       "(35955, 3)"
      ]
     },
     "execution_count": 9,
     "metadata": {},
     "output_type": "execute_result"
    }
   ],
   "source": [
    "news.shape"
   ]
  },
  {
   "cell_type": "code",
   "execution_count": 10,
   "metadata": {},
   "outputs": [
    {
     "name": "stdout",
     "output_type": "stream",
     "text": [
      "news_text      0\n",
      "news_number    0\n",
      "news_type      0\n",
      "dtype: int64\n"
     ]
    }
   ],
   "source": [
    "news.head()\n",
    "print(news.isnull().sum())"
   ]
  },
  {
   "cell_type": "code",
   "execution_count": 11,
   "metadata": {},
   "outputs": [],
   "source": [
    "news=news.set_index([\"news_number\"])"
   ]
  },
  {
   "cell_type": "code",
   "execution_count": 12,
   "metadata": {},
   "outputs": [],
   "source": [
    "train_x,test_x,train_y, test_y = train_test_split(news['news_text'],news['news_type'],\n",
    "                              test_size = 0.3,\n",
    "                              random_state = 100)"
   ]
  },
  {
   "cell_type": "code",
   "execution_count": 13,
   "metadata": {},
   "outputs": [
    {
     "name": "stdout",
     "output_type": "stream",
     "text": [
      "(25168,)\n",
      "(25168,)\n",
      "(10787,)\n",
      "(10787,)\n"
     ]
    }
   ],
   "source": [
    "\n",
    "print(train_x.shape)\n",
    "print(train_y.shape)\n",
    "print(test_x.shape)\n",
    "print(test_y.shape)"
   ]
  },
  {
   "cell_type": "code",
   "execution_count": 14,
   "metadata": {},
   "outputs": [
    {
     "data": {
      "text/plain": [
       "pandas.core.series.Series"
      ]
     },
     "execution_count": 14,
     "metadata": {},
     "output_type": "execute_result"
    }
   ],
   "source": [
    "type(train_x)"
   ]
  },
  {
   "cell_type": "markdown",
   "metadata": {},
   "source": [
    "### Cleaning Test Data"
   ]
  },
  {
   "cell_type": "code",
   "execution_count": 15,
   "metadata": {},
   "outputs": [],
   "source": [
    "test_data =pd.read_csv('test_task1.csv',encoding = 'utf-8')"
   ]
  },
  {
   "cell_type": "code",
   "execution_count": 16,
   "metadata": {},
   "outputs": [
    {
     "data": {
      "text/html": [
       "<div>\n",
       "<style scoped>\n",
       "    .dataframe tbody tr th:only-of-type {\n",
       "        vertical-align: middle;\n",
       "    }\n",
       "\n",
       "    .dataframe tbody tr th {\n",
       "        vertical-align: top;\n",
       "    }\n",
       "\n",
       "    .dataframe thead th {\n",
       "        text-align: right;\n",
       "    }\n",
       "</style>\n",
       "<table border=\"1\" class=\"dataframe\">\n",
       "  <thead>\n",
       "    <tr style=\"text-align: right;\">\n",
       "      <th></th>\n",
       "      <th>news_text</th>\n",
       "      <th>news_number</th>\n",
       "      <th>news_type</th>\n",
       "    </tr>\n",
       "  </thead>\n",
       "  <tbody>\n",
       "    <tr>\n",
       "      <th>0</th>\n",
       "      <td>Chicago police are seeking the publicâ€™s help...</td>\n",
       "      <td>100013.0</td>\n",
       "      <td>?</td>\n",
       "    </tr>\n",
       "    <tr>\n",
       "      <th>1</th>\n",
       "      <td>Moment of silence at Palestine Pavilion during...</td>\n",
       "      <td>100015.0</td>\n",
       "      <td>?</td>\n",
       "    </tr>\n",
       "    <tr>\n",
       "      <th>2</th>\n",
       "      <td>The Organization of Islamic Cooperation (OIC) ...</td>\n",
       "      <td>100024.0</td>\n",
       "      <td>?</td>\n",
       "    </tr>\n",
       "    <tr>\n",
       "      <th>3</th>\n",
       "      <td>The chairman of the House Oversight and Govern...</td>\n",
       "      <td>100031.0</td>\n",
       "      <td>?</td>\n",
       "    </tr>\n",
       "    <tr>\n",
       "      <th>4</th>\n",
       "      <td>A judge in the United Kingdom has sentenced a ...</td>\n",
       "      <td>100040.0</td>\n",
       "      <td>?</td>\n",
       "    </tr>\n",
       "  </tbody>\n",
       "</table>\n",
       "</div>"
      ],
      "text/plain": [
       "                                           news_text  news_number news_type\n",
       "0  Chicago police are seeking the publicâ€™s help...     100013.0         ?\n",
       "1  Moment of silence at Palestine Pavilion during...     100015.0         ?\n",
       "2  The Organization of Islamic Cooperation (OIC) ...     100024.0         ?\n",
       "3  The chairman of the House Oversight and Govern...     100031.0         ?\n",
       "4  A judge in the United Kingdom has sentenced a ...     100040.0         ?"
      ]
     },
     "execution_count": 16,
     "metadata": {},
     "output_type": "execute_result"
    }
   ],
   "source": [
    "test_data.head()"
   ]
  },
  {
   "cell_type": "code",
   "execution_count": 17,
   "metadata": {},
   "outputs": [],
   "source": [
    "test_data = test_data.dropna()\n"
   ]
  },
  {
   "cell_type": "code",
   "execution_count": 18,
   "metadata": {},
   "outputs": [],
   "source": [
    "test_data['news_number']= test_data['news_number'].astype(int)"
   ]
  },
  {
   "cell_type": "code",
   "execution_count": 19,
   "metadata": {},
   "outputs": [],
   "source": [
    "test_data =test_data.set_index(['news_number'])"
   ]
  },
  {
   "cell_type": "code",
   "execution_count": 20,
   "metadata": {},
   "outputs": [],
   "source": [
    "test_data = test_data.drop(['news_type'],axis =1)"
   ]
  },
  {
   "cell_type": "code",
   "execution_count": 21,
   "metadata": {},
   "outputs": [
    {
     "data": {
      "text/html": [
       "<div>\n",
       "<style scoped>\n",
       "    .dataframe tbody tr th:only-of-type {\n",
       "        vertical-align: middle;\n",
       "    }\n",
       "\n",
       "    .dataframe tbody tr th {\n",
       "        vertical-align: top;\n",
       "    }\n",
       "\n",
       "    .dataframe thead th {\n",
       "        text-align: right;\n",
       "    }\n",
       "</style>\n",
       "<table border=\"1\" class=\"dataframe\">\n",
       "  <thead>\n",
       "    <tr style=\"text-align: right;\">\n",
       "      <th></th>\n",
       "      <th>news_text</th>\n",
       "    </tr>\n",
       "    <tr>\n",
       "      <th>news_number</th>\n",
       "      <th></th>\n",
       "    </tr>\n",
       "  </thead>\n",
       "  <tbody>\n",
       "    <tr>\n",
       "      <th>100013</th>\n",
       "      <td>Chicago police are seeking the publicâ€™s help...</td>\n",
       "    </tr>\n",
       "    <tr>\n",
       "      <th>100015</th>\n",
       "      <td>Moment of silence at Palestine Pavilion during...</td>\n",
       "    </tr>\n",
       "    <tr>\n",
       "      <th>100024</th>\n",
       "      <td>The Organization of Islamic Cooperation (OIC) ...</td>\n",
       "    </tr>\n",
       "    <tr>\n",
       "      <th>100031</th>\n",
       "      <td>The chairman of the House Oversight and Govern...</td>\n",
       "    </tr>\n",
       "    <tr>\n",
       "      <th>100040</th>\n",
       "      <td>A judge in the United Kingdom has sentenced a ...</td>\n",
       "    </tr>\n",
       "  </tbody>\n",
       "</table>\n",
       "</div>"
      ],
      "text/plain": [
       "                                                     news_text\n",
       "news_number                                                   \n",
       "100013       Chicago police are seeking the publicâ€™s help...\n",
       "100015       Moment of silence at Palestine Pavilion during...\n",
       "100024       The Organization of Islamic Cooperation (OIC) ...\n",
       "100031       The chairman of the House Oversight and Govern...\n",
       "100040       A judge in the United Kingdom has sentenced a ..."
      ]
     },
     "execution_count": 21,
     "metadata": {},
     "output_type": "execute_result"
    }
   ],
   "source": [
    "test_data.head()"
   ]
  },
  {
   "cell_type": "code",
   "execution_count": 32,
   "metadata": {},
   "outputs": [
    {
     "data": {
      "text/plain": [
       "(10150, 1)"
      ]
     },
     "execution_count": 32,
     "metadata": {},
     "output_type": "execute_result"
    }
   ],
   "source": [
    "test_data.shape"
   ]
  },
  {
   "cell_type": "code",
   "execution_count": null,
   "metadata": {},
   "outputs": [],
   "source": [
    "## selected final model is Multinomial NB"
   ]
  },
  {
   "cell_type": "markdown",
   "metadata": {},
   "source": [
    "## TF IDF Vector"
   ]
  },
  {
   "cell_type": "code",
   "execution_count": 22,
   "metadata": {},
   "outputs": [],
   "source": [
    "tf = TfidfVectorizer(smooth_idf=False, sublinear_tf=False, norm=None, analyzer='word')\n",
    "tf.fit(train_x)\n",
    "tdf_train = tf.transform(train_x)\n",
    "tdf_test = tf.transform(test_x)"
   ]
  },
  {
   "cell_type": "code",
   "execution_count": 23,
   "metadata": {},
   "outputs": [],
   "source": [
    "tdf_test_data = tf.transform(test_data)"
   ]
  },
  {
   "cell_type": "code",
   "execution_count": 24,
   "metadata": {},
   "outputs": [
    {
     "name": "stdout",
     "output_type": "stream",
     "text": [
      "(25168, 177939)\n",
      "(10787, 177939)\n",
      "(1, 177939)\n"
     ]
    }
   ],
   "source": [
    "print(tdf_train.shape)\n",
    "print(tdf_test.shape)\n",
    "print(tdf_test_data.shape)"
   ]
  },
  {
   "cell_type": "code",
   "execution_count": null,
   "metadata": {},
   "outputs": [],
   "source": [
    "model = MultinomialNB()\n",
    "model.fit(tdf_train, train_y)\n",
    "pred_test = model.predict(tdf_test)\n",
    "pred = model.predict(test_data)\n",
    "tn, fp, fn, tp = confusion_matrix(test_y, pred_test).ravel()\n",
    "accuracy = accuracy_score(test_y, pred_test) * 100\n",
    "sensitivity = tp / (tp + fn) * 100\n",
    "specificity = tn / (tn + fp) * 100\n",
    "f1 = (2*sensitivity*specificity)/(sensitivity+specificity)\n"
   ]
  },
  {
   "cell_type": "code",
   "execution_count": null,
   "metadata": {},
   "outputs": [],
   "source": []
  },
  {
   "cell_type": "code",
   "execution_count": 16,
   "metadata": {},
   "outputs": [],
   "source": [
    "news_tfidf_df = pd.DataFrame(columns=['Decision Tree', 'Random Forest', 'AdaBoost', 'KNN','PassiveAggressive','MultinomialNB','MLPClassifier','svm','XGBClassifier'], \n",
    "                       index=['True Positive', 'True Negative', 'False Positive', 'False Negative', 'Accuracy', 'Sensitivity', 'Specificity','F1 score'])"
   ]
  },
  {
   "cell_type": "code",
   "execution_count": 17,
   "metadata": {},
   "outputs": [
    {
     "name": "stderr",
     "output_type": "stream",
     "text": [
      "C:\\Users\\Aditya\\Anaconda3\\lib\\site-packages\\sklearn\\linear_model\\stochastic_gradient.py:117: DeprecationWarning: n_iter parameter is deprecated in 0.19 and will be removed in 0.21. Use max_iter and tol instead.\n",
      "  DeprecationWarning)\n",
      "C:\\Users\\Aditya\\Anaconda3\\lib\\site-packages\\sklearn\\preprocessing\\label.py:151: DeprecationWarning: The truth value of an empty array is ambiguous. Returning False, but in future this will result in an error. Use `array.size > 0` to check that an array is not empty.\n",
      "  if diff:\n"
     ]
    },
    {
     "data": {
      "text/html": [
       "<div>\n",
       "<style scoped>\n",
       "    .dataframe tbody tr th:only-of-type {\n",
       "        vertical-align: middle;\n",
       "    }\n",
       "\n",
       "    .dataframe tbody tr th {\n",
       "        vertical-align: top;\n",
       "    }\n",
       "\n",
       "    .dataframe thead th {\n",
       "        text-align: right;\n",
       "    }\n",
       "</style>\n",
       "<table border=\"1\" class=\"dataframe\">\n",
       "  <thead>\n",
       "    <tr style=\"text-align: right;\">\n",
       "      <th></th>\n",
       "      <th>Decision Tree</th>\n",
       "      <th>Random Forest</th>\n",
       "      <th>AdaBoost</th>\n",
       "      <th>KNN</th>\n",
       "      <th>PassiveAggressive</th>\n",
       "      <th>MultinomialNB</th>\n",
       "      <th>MLPClassifier</th>\n",
       "      <th>svm</th>\n",
       "      <th>XGBClassifier</th>\n",
       "    </tr>\n",
       "  </thead>\n",
       "  <tbody>\n",
       "    <tr>\n",
       "      <th>True Positive</th>\n",
       "      <td>376.000000</td>\n",
       "      <td>245.000000</td>\n",
       "      <td>888.000000</td>\n",
       "      <td>205.000000</td>\n",
       "      <td>862.000000</td>\n",
       "      <td>967.000000</td>\n",
       "      <td>803.000000</td>\n",
       "      <td>517.000000</td>\n",
       "      <td>622.000000</td>\n",
       "    </tr>\n",
       "    <tr>\n",
       "      <th>True Negative</th>\n",
       "      <td>9584.000000</td>\n",
       "      <td>9589.000000</td>\n",
       "      <td>9433.000000</td>\n",
       "      <td>9571.000000</td>\n",
       "      <td>9399.000000</td>\n",
       "      <td>8937.000000</td>\n",
       "      <td>9513.000000</td>\n",
       "      <td>9569.000000</td>\n",
       "      <td>9550.000000</td>\n",
       "    </tr>\n",
       "    <tr>\n",
       "      <th>False Positive</th>\n",
       "      <td>9.000000</td>\n",
       "      <td>4.000000</td>\n",
       "      <td>160.000000</td>\n",
       "      <td>22.000000</td>\n",
       "      <td>194.000000</td>\n",
       "      <td>656.000000</td>\n",
       "      <td>80.000000</td>\n",
       "      <td>24.000000</td>\n",
       "      <td>43.000000</td>\n",
       "    </tr>\n",
       "    <tr>\n",
       "      <th>False Negative</th>\n",
       "      <td>818.000000</td>\n",
       "      <td>949.000000</td>\n",
       "      <td>306.000000</td>\n",
       "      <td>989.000000</td>\n",
       "      <td>332.000000</td>\n",
       "      <td>227.000000</td>\n",
       "      <td>391.000000</td>\n",
       "      <td>677.000000</td>\n",
       "      <td>572.000000</td>\n",
       "    </tr>\n",
       "    <tr>\n",
       "      <th>Accuracy</th>\n",
       "      <td>92.333364</td>\n",
       "      <td>91.165292</td>\n",
       "      <td>95.679985</td>\n",
       "      <td>90.627607</td>\n",
       "      <td>95.123760</td>\n",
       "      <td>91.814221</td>\n",
       "      <td>95.633633</td>\n",
       "      <td>93.501437</td>\n",
       "      <td>94.298693</td>\n",
       "    </tr>\n",
       "    <tr>\n",
       "      <th>Sensitivity</th>\n",
       "      <td>31.490787</td>\n",
       "      <td>20.519263</td>\n",
       "      <td>74.371859</td>\n",
       "      <td>17.169179</td>\n",
       "      <td>72.194305</td>\n",
       "      <td>80.988275</td>\n",
       "      <td>67.252931</td>\n",
       "      <td>43.299832</td>\n",
       "      <td>52.093802</td>\n",
       "    </tr>\n",
       "    <tr>\n",
       "      <th>Specificity</th>\n",
       "      <td>99.906182</td>\n",
       "      <td>99.958303</td>\n",
       "      <td>98.332117</td>\n",
       "      <td>99.770666</td>\n",
       "      <td>97.977692</td>\n",
       "      <td>93.161680</td>\n",
       "      <td>99.166059</td>\n",
       "      <td>99.749818</td>\n",
       "      <td>99.551756</td>\n",
       "    </tr>\n",
       "    <tr>\n",
       "      <th>F1 score</th>\n",
       "      <td>47.887319</td>\n",
       "      <td>34.049006</td>\n",
       "      <td>84.689913</td>\n",
       "      <td>29.296780</td>\n",
       "      <td>83.132730</td>\n",
       "      <td>86.649506</td>\n",
       "      <td>80.149605</td>\n",
       "      <td>60.386731</td>\n",
       "      <td>68.396721</td>\n",
       "    </tr>\n",
       "  </tbody>\n",
       "</table>\n",
       "</div>"
      ],
      "text/plain": [
       "                Decision Tree  Random Forest     AdaBoost          KNN  \\\n",
       "True Positive      376.000000     245.000000   888.000000   205.000000   \n",
       "True Negative     9584.000000    9589.000000  9433.000000  9571.000000   \n",
       "False Positive       9.000000       4.000000   160.000000    22.000000   \n",
       "False Negative     818.000000     949.000000   306.000000   989.000000   \n",
       "Accuracy            92.333364      91.165292    95.679985    90.627607   \n",
       "Sensitivity         31.490787      20.519263    74.371859    17.169179   \n",
       "Specificity         99.906182      99.958303    98.332117    99.770666   \n",
       "F1 score            47.887319      34.049006    84.689913    29.296780   \n",
       "\n",
       "                PassiveAggressive  MultinomialNB  MLPClassifier          svm  \\\n",
       "True Positive          862.000000     967.000000     803.000000   517.000000   \n",
       "True Negative         9399.000000    8937.000000    9513.000000  9569.000000   \n",
       "False Positive         194.000000     656.000000      80.000000    24.000000   \n",
       "False Negative         332.000000     227.000000     391.000000   677.000000   \n",
       "Accuracy                95.123760      91.814221      95.633633    93.501437   \n",
       "Sensitivity             72.194305      80.988275      67.252931    43.299832   \n",
       "Specificity             97.977692      93.161680      99.166059    99.749818   \n",
       "F1 score                83.132730      86.649506      80.149605    60.386731   \n",
       "\n",
       "                XGBClassifier  \n",
       "True Positive      622.000000  \n",
       "True Negative     9550.000000  \n",
       "False Positive      43.000000  \n",
       "False Negative     572.000000  \n",
       "Accuracy            94.298693  \n",
       "Sensitivity         52.093802  \n",
       "Specificity         99.551756  \n",
       "F1 score            68.396721  "
      ]
     },
     "execution_count": 17,
     "metadata": {},
     "output_type": "execute_result"
    }
   ],
   "source": [
    "count = 0\n",
    "while count<9:\n",
    "    if count == 0:\n",
    "        model = DecisionTreeClassifier(random_state = 100, max_depth = 5)\n",
    "    elif count == 1:\n",
    "        model = RandomForestClassifier(random_state=100, n_estimators=300)\n",
    "    elif count == 2:\n",
    "        model = AdaBoostClassifier(random_state=100,n_estimators=300)\n",
    "    elif count == 3:\n",
    "        model = KNeighborsClassifier(n_neighbors = 5)\n",
    "    elif count == 4:\n",
    "        model = PassiveAggressiveClassifier(n_iter=50)\n",
    "    elif count == 5:\n",
    "        model = MultinomialNB()\n",
    "    elif count == 6:\n",
    "        model = MLPClassifier(hidden_layer_sizes=(30))\n",
    "    elif count == 7:\n",
    "        model = SVC()\n",
    "    else:\n",
    "        model = XGBClassifier()\n",
    "    model.fit(tdf_train, train_y)\n",
    "    pred_test = model.predict(tdf_test)\n",
    "    tn, fp, fn, tp = confusion_matrix(test_y, pred_test).ravel()\n",
    "    accuracy = accuracy_score(test_y, pred_test) * 100\n",
    "    sensitivity = tp / (tp + fn) * 100\n",
    "    specificity = tn / (tn + fp) * 100\n",
    "    f1 = (2*sensitivity*specificity)/(sensitivity+specificity)\n",
    "    news_tfidf_df.iloc[:,count] = [tp,tn,fp,fn,accuracy,sensitivity,specificity,f1]\n",
    "    count = count + 1\n",
    "news_tfidf_df"
   ]
  },
  {
   "cell_type": "code",
   "execution_count": 18,
   "metadata": {},
   "outputs": [],
   "source": [
    "news_tfidf_df.to_csv(\"tf_idf.csv\")"
   ]
  },
  {
   "cell_type": "code",
   "execution_count": null,
   "metadata": {},
   "outputs": [],
   "source": []
  }
 ],
 "metadata": {
  "kernelspec": {
   "display_name": "Python 3",
   "language": "python",
   "name": "python3"
  },
  "language_info": {
   "codemirror_mode": {
    "name": "ipython",
    "version": 3
   },
   "file_extension": ".py",
   "mimetype": "text/x-python",
   "name": "python",
   "nbconvert_exporter": "python",
   "pygments_lexer": "ipython3",
   "version": "3.7.0"
  }
 },
 "nbformat": 4,
 "nbformat_minor": 2
}
