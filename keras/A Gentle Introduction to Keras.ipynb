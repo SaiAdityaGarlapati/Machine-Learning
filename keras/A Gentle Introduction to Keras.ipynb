{
 "cells": [
  {
   "cell_type": "markdown",
   "metadata": {},
   "source": [
    "# Welcome to A Gentle Introduction to Keras "
   ]
  },
  {
   "cell_type": "markdown",
   "metadata": {},
   "source": [
    "This course focuses on a specific sub-field of machine learning called **predictive modeling.**\n",
    "\n",
    "Within predicitve modeling is a speciality or another sub-field called **deep learning.**\n",
    "\n",
    "We will be crafting deep learning models with a library called Keras. \n",
    "\n",
    ">**Predictive modeling** is focused on developing models that make accurate predictions at the expense of explaining why predictions are made. \n",
    "\n",
    "You and I don't need to be able to write a binary classification model. We need to know how to use and interpret the results of the model. "
   ]
  },
  {
   "cell_type": "markdown",
   "metadata": {},
   "source": [
    "**Where does machine learning fit into data science?**\n",
    "\n",
    "Data science is a much broader discipline. \n",
    "\n",
    "> Data Scientists take the raw data, analyse it, connect the dots and tell a story often via several visualizations. They usually have a broader range of skill-set and may not have too much depth into more than one or two. They are more on the creative side. Like an Artist. An Engineer, on the other hand, is someone who looks at the data as something they have to take in and churn out an output in some appropriate form in the most efficient way possible. The implementation details and other efficiency hacks are usually on the tip of their fingers. There can be a lot of overlap between the two but it is more like A Data Scientist is a Machine Learning Engineer but not the other way round. -- Ria Chakraborty, Data Scientist\n",
    "\n",
    "\n",
    "\n"
   ]
  },
  {
   "cell_type": "markdown",
   "metadata": {},
   "source": [
    "# Step 1. Import our modules\n",
    "\n",
    "Two important points here. Firstly, the **from** means we aren't importing the entire library, only a specific module. Secondly, notice we **are** imporing the entire numpy library. \n",
    "\n",
    "> If you get a message that states: WARNING (theano.configdefaults): g++ not detected, blah... blah. Run this in your Anaconda prompt. \n",
    "\n",
    "conda install mingw libpython\n",
    "\n"
   ]
  },
  {
   "cell_type": "code",
   "execution_count": 3,
   "metadata": {},
   "outputs": [
    {
     "name": "stdout",
     "output_type": "stream",
     "text": [
      "Collecting tensorflow\n",
      "  Downloading https://files.pythonhosted.org/packages/05/cd/c171d2e33c0192b04560ce864c26eba83fed888fe5cd9ded661b2702f2ae/tensorflow-1.12.0-cp36-cp36m-win_amd64.whl (45.9MB)\n",
      "Collecting tensorboard<1.13.0,>=1.12.0 (from tensorflow)\n",
      "  Using cached https://files.pythonhosted.org/packages/07/53/8d32ce9471c18f8d99028b7cef2e5b39ea8765bd7ef250ca05b490880971/tensorboard-1.12.2-py3-none-any.whl\n",
      "Requirement already satisfied, skipping upgrade: grpcio>=1.8.6 in c:\\users\\aditya\\anaconda3\\envs\\tensor_flow\\lib\\site-packages (from tensorflow) (1.16.0)\n",
      "Collecting keras-applications>=1.0.6 (from tensorflow)\n",
      "  Downloading https://files.pythonhosted.org/packages/90/85/64c82949765cfb246bbdaf5aca2d55f400f792655927a017710a78445def/Keras_Applications-1.0.7-py2.py3-none-any.whl (51kB)\n",
      "Requirement already satisfied, skipping upgrade: protobuf>=3.6.1 in c:\\users\\aditya\\anaconda3\\envs\\tensor_flow\\lib\\site-packages (from tensorflow) (3.6.1)\n",
      "Requirement already satisfied, skipping upgrade: astor>=0.6.0 in c:\\users\\aditya\\anaconda3\\envs\\tensor_flow\\lib\\site-packages (from tensorflow) (0.7.1)\n",
      "Requirement already satisfied, skipping upgrade: gast>=0.2.0 in c:\\users\\aditya\\anaconda3\\envs\\tensor_flow\\lib\\site-packages (from tensorflow) (0.2.1.post0)\n",
      "Requirement already satisfied, skipping upgrade: six>=1.10.0 in c:\\users\\aditya\\anaconda3\\envs\\tensor_flow\\lib\\site-packages (from tensorflow) (1.12.0)\n",
      "Requirement already satisfied, skipping upgrade: numpy>=1.13.3 in c:\\users\\aditya\\anaconda3\\envs\\tensor_flow\\lib\\site-packages (from tensorflow) (1.15.4)\n",
      "Requirement already satisfied, skipping upgrade: termcolor>=1.1.0 in c:\\users\\aditya\\anaconda3\\envs\\tensor_flow\\lib\\site-packages (from tensorflow) (1.1.0)\n",
      "Requirement already satisfied, skipping upgrade: wheel>=0.26 in c:\\users\\aditya\\anaconda3\\envs\\tensor_flow\\lib\\site-packages (from tensorflow) (0.32.3)\n",
      "Collecting keras-preprocessing>=1.0.5 (from tensorflow)\n",
      "  Downloading https://files.pythonhosted.org/packages/14/8d/443591dd9f42cdde966a14ea2d59e7a781b77a8f09652288af61bec93b81/Keras_Preprocessing-1.0.8-py2.py3-none-any.whl (59kB)\n",
      "Requirement already satisfied, skipping upgrade: absl-py>=0.1.6 in c:\\users\\aditya\\anaconda3\\envs\\tensor_flow\\lib\\site-packages (from tensorflow) (0.6.1)\n",
      "Requirement already satisfied, skipping upgrade: werkzeug>=0.11.10 in c:\\users\\aditya\\anaconda3\\envs\\tensor_flow\\lib\\site-packages (from tensorboard<1.13.0,>=1.12.0->tensorflow) (0.14.1)\n",
      "Requirement already satisfied, skipping upgrade: markdown>=2.6.8 in c:\\users\\aditya\\anaconda3\\envs\\tensor_flow\\lib\\site-packages (from tensorboard<1.13.0,>=1.12.0->tensorflow) (2.6.11)\n",
      "Collecting h5py (from keras-applications>=1.0.6->tensorflow)\n",
      "  Downloading https://files.pythonhosted.org/packages/01/1e/115c4403544a91001d9c618748b2e8786db45544e36b8a6cf3c525e9b57f/h5py-2.9.0-cp36-cp36m-win_amd64.whl (2.4MB)\n",
      "Requirement already satisfied, skipping upgrade: setuptools in c:\\users\\aditya\\anaconda3\\envs\\tensor_flow\\lib\\site-packages (from protobuf>=3.6.1->tensorflow) (40.6.3)\n",
      "Installing collected packages: tensorboard, h5py, keras-applications, keras-preprocessing, tensorflow\n",
      "  Found existing installation: tensorboard 1.10.0\n",
      "    Uninstalling tensorboard-1.10.0:\n",
      "      Successfully uninstalled tensorboard-1.10.0\n",
      "  Found existing installation: tensorflow 1.10.0\n",
      "    Uninstalling tensorflow-1.10.0:\n",
      "      Successfully uninstalled tensorflow-1.10.0\n",
      "Successfully installed h5py-2.9.0 keras-applications-1.0.7 keras-preprocessing-1.0.8 tensorboard-1.12.2 tensorflow-1.12.0\n"
     ]
    }
   ],
   "source": [
    "!pip install --upgrade tensorflow"
   ]
  },
  {
   "cell_type": "code",
   "execution_count": 5,
   "metadata": {},
   "outputs": [
    {
     "name": "stdout",
     "output_type": "stream",
     "text": [
      "Collecting keras\n",
      "  Using cached https://files.pythonhosted.org/packages/5e/10/aa32dad071ce52b5502266b5c659451cfd6ffcbf14e6c8c4f16c0ff5aaab/Keras-2.2.4-py2.py3-none-any.whl\n",
      "Requirement already satisfied: six>=1.9.0 in c:\\users\\aditya\\anaconda3\\envs\\tensor_flow\\lib\\site-packages (from keras) (1.12.0)\n",
      "Requirement already satisfied: h5py in c:\\users\\aditya\\anaconda3\\envs\\tensor_flow\\lib\\site-packages (from keras) (2.9.0)\n",
      "Collecting pyyaml (from keras)\n",
      "  Downloading https://files.pythonhosted.org/packages/4f/ca/5fad249c5032270540c24d2189b0ddf1396aac49b0bdc548162edcf14131/PyYAML-3.13-cp36-cp36m-win_amd64.whl (206kB)\n",
      "Requirement already satisfied: numpy>=1.9.1 in c:\\users\\aditya\\anaconda3\\envs\\tensor_flow\\lib\\site-packages (from keras) (1.15.4)\n",
      "Requirement already satisfied: keras-applications>=1.0.6 in c:\\users\\aditya\\anaconda3\\envs\\tensor_flow\\lib\\site-packages (from keras) (1.0.7)\n",
      "Collecting scipy>=0.14 (from keras)\n",
      "  Downloading https://files.pythonhosted.org/packages/c4/0f/2bdeab43db2b4a75863863bf7eddda8920b031b0a70494fd2665c73c9aec/scipy-1.2.0-cp36-cp36m-win_amd64.whl (31.9MB)\n",
      "Requirement already satisfied: keras-preprocessing>=1.0.5 in c:\\users\\aditya\\anaconda3\\envs\\tensor_flow\\lib\\site-packages (from keras) (1.0.8)\n",
      "Installing collected packages: pyyaml, scipy, keras\n",
      "Successfully installed keras-2.2.4 pyyaml-3.13 scipy-1.2.0\n"
     ]
    }
   ],
   "source": [
    "!pip install keras"
   ]
  },
  {
   "cell_type": "code",
   "execution_count": 6,
   "metadata": {},
   "outputs": [
    {
     "name": "stderr",
     "output_type": "stream",
     "text": [
      "Using TensorFlow backend.\n"
     ]
    }
   ],
   "source": [
    "from keras.models import Sequential\n",
    "from keras.layers import Dense\n",
    "import numpy"
   ]
  },
  {
   "cell_type": "markdown",
   "metadata": {},
   "source": [
    "# Step 2.  Set our random seed\n"
   ]
  },
  {
   "cell_type": "markdown",
   "metadata": {},
   "source": [
    "Run an algorithm on a dataset and you've built a great model. Can you produce the same model again given the same data?\n",
    "You should be able to. It should be a requirement that is high on the list for your modeling project.\n",
    "\n",
    "> We achieve reproducibility in applied machine learning by using the exact same code, data and sequence of random numbers.\n",
    "\n",
    "Random numbers are created using a random number generator. It’s a simple program that generates a sequence of numbers that are random enough for most applications.\n",
    "\n",
    "This math function is deterministic. If it uses the same starting point called a seed number, it will give the same sequence of random numbers.\n",
    "\n",
    "Hold on... what's **deterministic** mean? \n",
    "\n",
    "> \"a deterministic algorithm is an algorithm which, given a particular input, will always produce the same output, with the underlying machine always passing through the same sequence of states\"\n",
    "\n",
    "Let's apply an English translator to this: \n",
    "\n",
    "> The **only purpose of seeding** is to make sure that you get the **exact same result** when you run this code many times on the exact same data."
   ]
  },
  {
   "cell_type": "code",
   "execution_count": 7,
   "metadata": {},
   "outputs": [],
   "source": [
    "seed = 9\n",
    "numpy.random.seed(seed)"
   ]
  },
  {
   "cell_type": "markdown",
   "metadata": {},
   "source": [
    "# Step 3.  Import our data set\n"
   ]
  },
  {
   "cell_type": "markdown",
   "metadata": {},
   "source": [
    "Let's import the object called read_csv. \n",
    "\n",
    "We define a variable called filename and put our data set in it. \n",
    "\n",
    "The last line does the work. It using the function called **read_csv** to put the contents of our data set into a variable called dataframe. "
   ]
  },
  {
   "cell_type": "code",
   "execution_count": 9,
   "metadata": {},
   "outputs": [
    {
     "name": "stdout",
     "output_type": "stream",
     "text": [
      "Collecting pandas\n",
      "  Downloading https://files.pythonhosted.org/packages/7b/5c/51ad4b4f431b5735b2396da44d44bd6f62dbad209e36e0be46311710162b/pandas-0.24.0-cp36-cp36m-win_amd64.whl (8.7MB)\n",
      "Requirement already satisfied: python-dateutil>=2.5.0 in c:\\users\\aditya\\anaconda3\\envs\\tensor_flow\\lib\\site-packages (from pandas) (2.7.5)\n",
      "Collecting pytz>=2011k (from pandas)\n",
      "  Downloading https://files.pythonhosted.org/packages/61/28/1d3920e4d1d50b19bc5d24398a7cd85cc7b9a75a490570d5a30c57622d34/pytz-2018.9-py2.py3-none-any.whl (510kB)\n",
      "Requirement already satisfied: numpy>=1.12.0 in c:\\users\\aditya\\anaconda3\\envs\\tensor_flow\\lib\\site-packages (from pandas) (1.15.4)\n",
      "Requirement already satisfied: six>=1.5 in c:\\users\\aditya\\anaconda3\\envs\\tensor_flow\\lib\\site-packages (from python-dateutil>=2.5.0->pandas) (1.12.0)\n",
      "Installing collected packages: pytz, pandas\n",
      "Successfully installed pandas-0.24.0 pytz-2018.9\n"
     ]
    }
   ],
   "source": [
    "!pip install pandas"
   ]
  },
  {
   "cell_type": "code",
   "execution_count": 10,
   "metadata": {},
   "outputs": [],
   "source": [
    "from pandas import read_csv\n",
    "filename = 'BBCN.csv'\n",
    "dataframe = read_csv(filename)"
   ]
  },
  {
   "cell_type": "markdown",
   "metadata": {},
   "source": [
    "# Step 4.  Split the Output Variables\n"
   ]
  },
  {
   "cell_type": "markdown",
   "metadata": {},
   "source": [
    "The first thing we need to do is put our data in an array. \n",
    "\n",
    "> An array is a data structure that stores values of **same data type**. \n",
    "\n",
    "In Python, this is the main difference between arrays and lists. While python lists can contain values corresponding to different data types, arrays in python can only contain values corresponding to same data type."
   ]
  },
  {
   "cell_type": "code",
   "execution_count": 11,
   "metadata": {},
   "outputs": [],
   "source": [
    "array = dataframe.values"
   ]
  },
  {
   "cell_type": "markdown",
   "metadata": {},
   "source": [
    "The code below is the trickest part of the exercise. Now, we are assinging X and y as output variables.\n",
    "\n",
    "> That looks pretty easy but keep in mind that an array starts at 0. \n",
    "\n",
    "If you take a look at the shape of our dataframe (shape means the number of columns and rows) you can see we have 12 rows. \n",
    "\n",
    "On the X array below we saying... include all items in the array from 0 to 11. \n",
    "\n",
    "On the y array below we are saying... just use the column in the array mapped to the **11th row**. The **BikeBuyer** column. \n",
    "\n",
    "> Before we split X and Y out we are going to put them in an array. \n",
    "\n",
    "\n"
   ]
  },
  {
   "cell_type": "code",
   "execution_count": 12,
   "metadata": {},
   "outputs": [],
   "source": [
    "X = array[:,0:11] \n",
    "Y = array[:,11]"
   ]
  },
  {
   "cell_type": "code",
   "execution_count": 13,
   "metadata": {},
   "outputs": [
    {
     "data": {
      "text/html": [
       "<div>\n",
       "<style scoped>\n",
       "    .dataframe tbody tr th:only-of-type {\n",
       "        vertical-align: middle;\n",
       "    }\n",
       "\n",
       "    .dataframe tbody tr th {\n",
       "        vertical-align: top;\n",
       "    }\n",
       "\n",
       "    .dataframe thead th {\n",
       "        text-align: right;\n",
       "    }\n",
       "</style>\n",
       "<table border=\"1\" class=\"dataframe\">\n",
       "  <thead>\n",
       "    <tr style=\"text-align: right;\">\n",
       "      <th></th>\n",
       "      <th>MaritalStatus</th>\n",
       "      <th>Gender</th>\n",
       "      <th>YearlyIncome</th>\n",
       "      <th>TotalChildren</th>\n",
       "      <th>NumberChildrenAtHome</th>\n",
       "      <th>EnglishEducation</th>\n",
       "      <th>HouseOwnerFlag</th>\n",
       "      <th>NumberCarsOwned</th>\n",
       "      <th>CommuteDistance</th>\n",
       "      <th>Region</th>\n",
       "      <th>Age</th>\n",
       "      <th>BikeBuyer</th>\n",
       "    </tr>\n",
       "  </thead>\n",
       "  <tbody>\n",
       "    <tr>\n",
       "      <th>0</th>\n",
       "      <td>5</td>\n",
       "      <td>1</td>\n",
       "      <td>9.0</td>\n",
       "      <td>2</td>\n",
       "      <td>0</td>\n",
       "      <td>5</td>\n",
       "      <td>1</td>\n",
       "      <td>0</td>\n",
       "      <td>2</td>\n",
       "      <td>2</td>\n",
       "      <td>5</td>\n",
       "      <td>1</td>\n",
       "    </tr>\n",
       "    <tr>\n",
       "      <th>1</th>\n",
       "      <td>5</td>\n",
       "      <td>1</td>\n",
       "      <td>6.0</td>\n",
       "      <td>3</td>\n",
       "      <td>3</td>\n",
       "      <td>5</td>\n",
       "      <td>0</td>\n",
       "      <td>1</td>\n",
       "      <td>1</td>\n",
       "      <td>2</td>\n",
       "      <td>4</td>\n",
       "      <td>1</td>\n",
       "    </tr>\n",
       "    <tr>\n",
       "      <th>2</th>\n",
       "      <td>5</td>\n",
       "      <td>1</td>\n",
       "      <td>6.0</td>\n",
       "      <td>3</td>\n",
       "      <td>3</td>\n",
       "      <td>5</td>\n",
       "      <td>1</td>\n",
       "      <td>1</td>\n",
       "      <td>5</td>\n",
       "      <td>2</td>\n",
       "      <td>4</td>\n",
       "      <td>1</td>\n",
       "    </tr>\n",
       "    <tr>\n",
       "      <th>3</th>\n",
       "      <td>5</td>\n",
       "      <td>2</td>\n",
       "      <td>7.0</td>\n",
       "      <td>0</td>\n",
       "      <td>0</td>\n",
       "      <td>5</td>\n",
       "      <td>0</td>\n",
       "      <td>1</td>\n",
       "      <td>10</td>\n",
       "      <td>2</td>\n",
       "      <td>5</td>\n",
       "      <td>1</td>\n",
       "    </tr>\n",
       "    <tr>\n",
       "      <th>4</th>\n",
       "      <td>5</td>\n",
       "      <td>2</td>\n",
       "      <td>8.0</td>\n",
       "      <td>5</td>\n",
       "      <td>5</td>\n",
       "      <td>5</td>\n",
       "      <td>1</td>\n",
       "      <td>4</td>\n",
       "      <td>2</td>\n",
       "      <td>2</td>\n",
       "      <td>5</td>\n",
       "      <td>1</td>\n",
       "    </tr>\n",
       "  </tbody>\n",
       "</table>\n",
       "</div>"
      ],
      "text/plain": [
       "   MaritalStatus  Gender  YearlyIncome  TotalChildren  NumberChildrenAtHome  \\\n",
       "0              5       1           9.0              2                     0   \n",
       "1              5       1           6.0              3                     3   \n",
       "2              5       1           6.0              3                     3   \n",
       "3              5       2           7.0              0                     0   \n",
       "4              5       2           8.0              5                     5   \n",
       "\n",
       "   EnglishEducation  HouseOwnerFlag  NumberCarsOwned  CommuteDistance  Region  \\\n",
       "0                 5               1                0                2       2   \n",
       "1                 5               0                1                1       2   \n",
       "2                 5               1                1                5       2   \n",
       "3                 5               0                1               10       2   \n",
       "4                 5               1                4                2       2   \n",
       "\n",
       "   Age  BikeBuyer  \n",
       "0    5          1  \n",
       "1    4          1  \n",
       "2    4          1  \n",
       "3    5          1  \n",
       "4    5          1  "
      ]
     },
     "execution_count": 13,
     "metadata": {},
     "output_type": "execute_result"
    }
   ],
   "source": [
    "dataframe.head()"
   ]
  },
  {
   "cell_type": "markdown",
   "metadata": {},
   "source": [
    "# Step 4.  Build the Model\n"
   ]
  },
  {
   "cell_type": "markdown",
   "metadata": {},
   "source": [
    "We can piece it all together by adding each layer. \n",
    "\n",
    "> The first layer has 11 neurons and expects 11 input variables. \n",
    "\n",
    "The second hidden layer has 8 neurons.\n",
    "\n",
    "The third hidden layer has 8 neurons. \n",
    "\n",
    "The output layer has 1 neuron to predict the class. \n",
    "\n",
    "How many hidden layers are in our model? "
   ]
  },
  {
   "cell_type": "code",
   "execution_count": 14,
   "metadata": {},
   "outputs": [
    {
     "name": "stderr",
     "output_type": "stream",
     "text": [
      "C:\\Users\\Aditya\\Anaconda3\\envs\\tensor_flow\\lib\\site-packages\\ipykernel_launcher.py:2: UserWarning: Update your `Dense` call to the Keras 2 API: `Dense(12, input_dim=11, activation=\"relu\", kernel_initializer=\"uniform\")`\n",
      "  \n",
      "C:\\Users\\Aditya\\Anaconda3\\envs\\tensor_flow\\lib\\site-packages\\ipykernel_launcher.py:3: UserWarning: Update your `Dense` call to the Keras 2 API: `Dense(8, activation=\"relu\", kernel_initializer=\"uniform\")`\n",
      "  This is separate from the ipykernel package so we can avoid doing imports until\n",
      "C:\\Users\\Aditya\\Anaconda3\\envs\\tensor_flow\\lib\\site-packages\\ipykernel_launcher.py:4: UserWarning: Update your `Dense` call to the Keras 2 API: `Dense(1, activation=\"sigmoid\", kernel_initializer=\"uniform\")`\n",
      "  after removing the cwd from sys.path.\n"
     ]
    }
   ],
   "source": [
    "model = Sequential()\n",
    "model.add(Dense(12, input_dim=11, init='uniform', activation='relu'))\n",
    "model.add(Dense(8, init='uniform', activation='relu'))\n",
    "model.add(Dense(1, init='uniform', activation='sigmoid'))"
   ]
  },
  {
   "cell_type": "markdown",
   "metadata": {},
   "source": [
    "# Step 5.  Compile the Model"
   ]
  },
  {
   "cell_type": "markdown",
   "metadata": {},
   "source": [
    "A metric is a function that is used to judge the performance of your model. Metric functions are to be supplied in the  metrics parameter when a model is compiled.\n",
    "\n",
    ">  Lastly, we set the cost (or loss) function to categorical_crossentropy. The (binary) cross-entropy is just the technical term for the **cost function** in logistic regression, and the categorical cross-entropy is its generalization for multi-class predictions via softmax"
   ]
  },
  {
   "cell_type": "markdown",
   "metadata": {},
   "source": [
    "Binary learning models are models which just predict one of two outcomes: positive or negative. These models are very well suited to drive decisions, such as whether to administer a patient a certain drug or to include a lead in a targeted marketing campaign.\n",
    "\n",
    "> Accuracy is perhaps the most intuitive performance measure. **It is simply the ratio of correctly predicted observations.**\n",
    "\n",
    "Using accuracy is only good for symmetric data sets where the class distribution is 50/50 and the cost of false positives and false negatives are roughly the same. In our case our classes are balanced. "
   ]
  },
  {
   "cell_type": "markdown",
   "metadata": {},
   "source": [
    "Whenever you train a model with your data, you are actually producing some new values (predicted) for a specific feature. However, that specific feature already has some values which are real values in the dataset. \n",
    "\n",
    "> We know the the closer the predicted values to their corresponding real values, the better the model.\n",
    "\n",
    "We are using cost function to measure **how close the predicted values are to their corresponding real values.**\n",
    "\n",
    "So, for our model we choose binary_crossentropy. "
   ]
  },
  {
   "cell_type": "code",
   "execution_count": 15,
   "metadata": {},
   "outputs": [],
   "source": [
    "model.compile(loss='binary_crossentropy', optimizer='adam', metrics=['accuracy'])"
   ]
  },
  {
   "cell_type": "markdown",
   "metadata": {},
   "source": [
    "# Step 5.  Fit the Model"
   ]
  },
  {
   "cell_type": "markdown",
   "metadata": {},
   "source": [
    "**Epoch:** A full pass over all of your training data.\n",
    "\n",
    "For example, let's say you have 1213 observations. So an epoch concludes when it has finished a training pass over all 1213 of your observations.\n",
    "\n",
    "> What you'd expect to see from running fit on your Keras model, is a decrease in loss over n number of epochs."
   ]
  },
  {
   "cell_type": "markdown",
   "metadata": {},
   "source": [
    "batch_size denotes the subset size of your training sample (e.g. 100 out of 1000) which is going to be used in order to train the network during its learning process. \n",
    "\n",
    "Each batch trains network in a successive order, taking into account the updated weights coming from the appliance of the previous batch. \n",
    "\n",
    ">Example: if you have 1000 training examples, and your batch size is 500, then it will take 2 iterations to complete 1 epoch.\n",
    "\n"
   ]
  },
  {
   "cell_type": "code",
   "execution_count": 16,
   "metadata": {},
   "outputs": [
    {
     "name": "stderr",
     "output_type": "stream",
     "text": [
      "C:\\Users\\Aditya\\Anaconda3\\envs\\tensor_flow\\lib\\site-packages\\ipykernel_launcher.py:1: UserWarning: The `nb_epoch` argument in `fit` has been renamed `epochs`.\n",
      "  \"\"\"Entry point for launching an IPython kernel.\n"
     ]
    },
    {
     "name": "stdout",
     "output_type": "stream",
     "text": [
      "Epoch 1/200\n",
      "500/500 [==============================] - 0s 437us/step - loss: 0.6931 - acc: 0.5260\n",
      "Epoch 2/200\n",
      "500/500 [==============================] - 0s 31us/step - loss: 0.6927 - acc: 0.5340\n",
      "Epoch 3/200\n",
      "500/500 [==============================] - 0s 31us/step - loss: 0.6923 - acc: 0.5340\n",
      "Epoch 4/200\n",
      "500/500 [==============================] - 0s 27us/step - loss: 0.6921 - acc: 0.5340\n",
      "Epoch 5/200\n",
      "500/500 [==============================] - 0s 29us/step - loss: 0.6916 - acc: 0.5340\n",
      "Epoch 6/200\n",
      "500/500 [==============================] - 0s 31us/step - loss: 0.6912 - acc: 0.5340\n",
      "Epoch 7/200\n",
      "500/500 [==============================] - 0s 31us/step - loss: 0.6906 - acc: 0.5340\n",
      "Epoch 8/200\n",
      "500/500 [==============================] - 0s 33us/step - loss: 0.6900 - acc: 0.5340\n",
      "Epoch 9/200\n",
      "500/500 [==============================] - 0s 29us/step - loss: 0.6893 - acc: 0.5340\n",
      "Epoch 10/200\n",
      "500/500 [==============================] - 0s 29us/step - loss: 0.6881 - acc: 0.5340\n",
      "Epoch 11/200\n",
      "500/500 [==============================] - 0s 29us/step - loss: 0.6870 - acc: 0.5380\n",
      "Epoch 12/200\n",
      "500/500 [==============================] - 0s 27us/step - loss: 0.6856 - acc: 0.5400\n",
      "Epoch 13/200\n",
      "500/500 [==============================] - 0s 25us/step - loss: 0.6833 - acc: 0.5700\n",
      "Epoch 14/200\n",
      "500/500 [==============================] - 0s 29us/step - loss: 0.6807 - acc: 0.5820\n",
      "Epoch 15/200\n",
      "500/500 [==============================] - 0s 29us/step - loss: 0.6779 - acc: 0.5800\n",
      "Epoch 16/200\n",
      "500/500 [==============================] - 0s 29us/step - loss: 0.6760 - acc: 0.5660\n",
      "Epoch 17/200\n",
      "500/500 [==============================] - 0s 29us/step - loss: 0.6719 - acc: 0.5980\n",
      "Epoch 18/200\n",
      "500/500 [==============================] - 0s 29us/step - loss: 0.6678 - acc: 0.6140\n",
      "Epoch 19/200\n",
      "500/500 [==============================] - 0s 29us/step - loss: 0.6651 - acc: 0.6020\n",
      "Epoch 20/200\n",
      "500/500 [==============================] - 0s 27us/step - loss: 0.6623 - acc: 0.6080\n",
      "Epoch 21/200\n",
      "500/500 [==============================] - 0s 29us/step - loss: 0.6599 - acc: 0.6100\n",
      "Epoch 22/200\n",
      "500/500 [==============================] - 0s 33us/step - loss: 0.6581 - acc: 0.6220\n",
      "Epoch 23/200\n",
      "500/500 [==============================] - 0s 31us/step - loss: 0.6563 - acc: 0.6000\n",
      "Epoch 24/200\n",
      "500/500 [==============================] - 0s 29us/step - loss: 0.6550 - acc: 0.6140\n",
      "Epoch 25/200\n",
      "500/500 [==============================] - 0s 29us/step - loss: 0.6514 - acc: 0.6260\n",
      "Epoch 26/200\n",
      "500/500 [==============================] - ETA: 0s - loss: 0.6472 - acc: 0.600 - 0s 31us/step - loss: 0.6508 - acc: 0.6200\n",
      "Epoch 27/200\n",
      "500/500 [==============================] - 0s 29us/step - loss: 0.6490 - acc: 0.6140\n",
      "Epoch 28/200\n",
      "500/500 [==============================] - 0s 29us/step - loss: 0.6476 - acc: 0.6280\n",
      "Epoch 29/200\n",
      "500/500 [==============================] - 0s 29us/step - loss: 0.6487 - acc: 0.6220\n",
      "Epoch 30/200\n",
      "500/500 [==============================] - 0s 29us/step - loss: 0.6453 - acc: 0.6180\n",
      "Epoch 31/200\n",
      "500/500 [==============================] - ETA: 0s - loss: 0.6540 - acc: 0.633 - 0s 29us/step - loss: 0.6434 - acc: 0.6240\n",
      "Epoch 32/200\n",
      "500/500 [==============================] - 0s 31us/step - loss: 0.6411 - acc: 0.6220\n",
      "Epoch 33/200\n",
      "500/500 [==============================] - 0s 31us/step - loss: 0.6422 - acc: 0.6300\n",
      "Epoch 34/200\n",
      "500/500 [==============================] - 0s 29us/step - loss: 0.6388 - acc: 0.6240\n",
      "Epoch 35/200\n",
      "500/500 [==============================] - 0s 29us/step - loss: 0.6377 - acc: 0.6300\n",
      "Epoch 36/200\n",
      "500/500 [==============================] - 0s 31us/step - loss: 0.6379 - acc: 0.6280\n",
      "Epoch 37/200\n",
      "500/500 [==============================] - 0s 29us/step - loss: 0.6361 - acc: 0.6340\n",
      "Epoch 38/200\n",
      "500/500 [==============================] - 0s 29us/step - loss: 0.6347 - acc: 0.6340\n",
      "Epoch 39/200\n",
      "500/500 [==============================] - 0s 31us/step - loss: 0.6347 - acc: 0.6260\n",
      "Epoch 40/200\n",
      "500/500 [==============================] - 0s 31us/step - loss: 0.6319 - acc: 0.6360\n",
      "Epoch 41/200\n",
      "500/500 [==============================] - 0s 31us/step - loss: 0.6307 - acc: 0.6400\n",
      "Epoch 42/200\n",
      "500/500 [==============================] - 0s 29us/step - loss: 0.6288 - acc: 0.6380\n",
      "Epoch 43/200\n",
      "500/500 [==============================] - 0s 31us/step - loss: 0.6274 - acc: 0.6380\n",
      "Epoch 44/200\n",
      "500/500 [==============================] - 0s 35us/step - loss: 0.6270 - acc: 0.6440\n",
      "Epoch 45/200\n",
      "500/500 [==============================] - 0s 31us/step - loss: 0.6254 - acc: 0.6460\n",
      "Epoch 46/200\n",
      "500/500 [==============================] - 0s 31us/step - loss: 0.6253 - acc: 0.6460\n",
      "Epoch 47/200\n",
      "500/500 [==============================] - 0s 31us/step - loss: 0.6239 - acc: 0.6460\n",
      "Epoch 48/200\n",
      "500/500 [==============================] - 0s 33us/step - loss: 0.6238 - acc: 0.6420\n",
      "Epoch 49/200\n",
      "500/500 [==============================] - 0s 33us/step - loss: 0.6258 - acc: 0.6520\n",
      "Epoch 50/200\n",
      "500/500 [==============================] - 0s 31us/step - loss: 0.6211 - acc: 0.6480\n",
      "Epoch 51/200\n",
      "500/500 [==============================] - 0s 41us/step - loss: 0.6202 - acc: 0.6440\n",
      "Epoch 52/200\n",
      "500/500 [==============================] - 0s 41us/step - loss: 0.6194 - acc: 0.6480\n",
      "Epoch 53/200\n",
      "500/500 [==============================] - 0s 35us/step - loss: 0.6178 - acc: 0.6560\n",
      "Epoch 54/200\n",
      "500/500 [==============================] - 0s 37us/step - loss: 0.6181 - acc: 0.6480\n",
      "Epoch 55/200\n",
      "500/500 [==============================] - 0s 41us/step - loss: 0.6162 - acc: 0.6540\n",
      "Epoch 56/200\n",
      "500/500 [==============================] - 0s 45us/step - loss: 0.6181 - acc: 0.6560\n",
      "Epoch 57/200\n",
      "500/500 [==============================] - 0s 37us/step - loss: 0.6197 - acc: 0.6620\n",
      "Epoch 58/200\n",
      "500/500 [==============================] - 0s 37us/step - loss: 0.6119 - acc: 0.6520\n",
      "Epoch 59/200\n",
      "500/500 [==============================] - 0s 35us/step - loss: 0.6124 - acc: 0.6520\n",
      "Epoch 60/200\n",
      "500/500 [==============================] - 0s 43us/step - loss: 0.6119 - acc: 0.6620\n",
      "Epoch 61/200\n",
      "500/500 [==============================] - 0s 43us/step - loss: 0.6117 - acc: 0.6540\n",
      "Epoch 62/200\n",
      "500/500 [==============================] - 0s 39us/step - loss: 0.6123 - acc: 0.6640\n",
      "Epoch 63/200\n",
      "500/500 [==============================] - 0s 41us/step - loss: 0.6099 - acc: 0.6620\n",
      "Epoch 64/200\n",
      "500/500 [==============================] - 0s 41us/step - loss: 0.6099 - acc: 0.6560\n",
      "Epoch 65/200\n",
      "500/500 [==============================] - 0s 41us/step - loss: 0.6079 - acc: 0.6680\n",
      "Epoch 66/200\n",
      "500/500 [==============================] - 0s 39us/step - loss: 0.6059 - acc: 0.6700\n",
      "Epoch 67/200\n",
      "500/500 [==============================] - 0s 35us/step - loss: 0.6013 - acc: 0.6820\n",
      "Epoch 68/200\n",
      "500/500 [==============================] - 0s 39us/step - loss: 0.6026 - acc: 0.6740\n",
      "Epoch 69/200\n",
      "500/500 [==============================] - 0s 33us/step - loss: 0.6016 - acc: 0.6760\n",
      "Epoch 70/200\n",
      "500/500 [==============================] - 0s 37us/step - loss: 0.6005 - acc: 0.6760\n",
      "Epoch 71/200\n",
      "500/500 [==============================] - 0s 37us/step - loss: 0.6038 - acc: 0.6460\n",
      "Epoch 72/200\n",
      "500/500 [==============================] - 0s 33us/step - loss: 0.5995 - acc: 0.6760\n",
      "Epoch 73/200\n",
      "500/500 [==============================] - 0s 31us/step - loss: 0.5989 - acc: 0.6720\n",
      "Epoch 74/200\n",
      "500/500 [==============================] - 0s 29us/step - loss: 0.5975 - acc: 0.6700\n",
      "Epoch 75/200\n",
      "500/500 [==============================] - 0s 33us/step - loss: 0.5992 - acc: 0.6840\n",
      "Epoch 76/200\n",
      "500/500 [==============================] - 0s 35us/step - loss: 0.5938 - acc: 0.6860\n",
      "Epoch 77/200\n",
      "500/500 [==============================] - 0s 33us/step - loss: 0.5966 - acc: 0.6760\n",
      "Epoch 78/200\n",
      "500/500 [==============================] - 0s 33us/step - loss: 0.5957 - acc: 0.6780\n",
      "Epoch 79/200\n",
      "500/500 [==============================] - 0s 31us/step - loss: 0.5929 - acc: 0.6840\n",
      "Epoch 80/200\n",
      "500/500 [==============================] - 0s 33us/step - loss: 0.5925 - acc: 0.6720\n",
      "Epoch 81/200\n",
      "500/500 [==============================] - 0s 31us/step - loss: 0.5887 - acc: 0.6740\n",
      "Epoch 82/200\n",
      "500/500 [==============================] - 0s 31us/step - loss: 0.5896 - acc: 0.6760\n",
      "Epoch 83/200\n"
     ]
    },
    {
     "name": "stdout",
     "output_type": "stream",
     "text": [
      "500/500 [==============================] - 0s 29us/step - loss: 0.5883 - acc: 0.6900\n",
      "Epoch 84/200\n",
      "500/500 [==============================] - 0s 33us/step - loss: 0.5878 - acc: 0.6800\n",
      "Epoch 85/200\n",
      "500/500 [==============================] - 0s 35us/step - loss: 0.5868 - acc: 0.6780\n",
      "Epoch 86/200\n",
      "500/500 [==============================] - 0s 33us/step - loss: 0.5875 - acc: 0.6900\n",
      "Epoch 87/200\n",
      "500/500 [==============================] - 0s 31us/step - loss: 0.5855 - acc: 0.6880\n",
      "Epoch 88/200\n",
      "500/500 [==============================] - 0s 31us/step - loss: 0.5832 - acc: 0.6800\n",
      "Epoch 89/200\n",
      "500/500 [==============================] - 0s 33us/step - loss: 0.5839 - acc: 0.6900\n",
      "Epoch 90/200\n",
      "500/500 [==============================] - 0s 33us/step - loss: 0.5853 - acc: 0.6880\n",
      "Epoch 91/200\n",
      "500/500 [==============================] - 0s 35us/step - loss: 0.5935 - acc: 0.6880\n",
      "Epoch 92/200\n",
      "500/500 [==============================] - 0s 33us/step - loss: 0.5838 - acc: 0.6880\n",
      "Epoch 93/200\n",
      "500/500 [==============================] - 0s 33us/step - loss: 0.5857 - acc: 0.6780\n",
      "Epoch 94/200\n",
      "500/500 [==============================] - 0s 33us/step - loss: 0.5823 - acc: 0.6900\n",
      "Epoch 95/200\n",
      "500/500 [==============================] - 0s 33us/step - loss: 0.5817 - acc: 0.6900\n",
      "Epoch 96/200\n",
      "500/500 [==============================] - 0s 33us/step - loss: 0.5807 - acc: 0.6960\n",
      "Epoch 97/200\n",
      "500/500 [==============================] - 0s 29us/step - loss: 0.5811 - acc: 0.6820\n",
      "Epoch 98/200\n",
      "500/500 [==============================] - 0s 33us/step - loss: 0.5801 - acc: 0.6860\n",
      "Epoch 99/200\n",
      "500/500 [==============================] - 0s 31us/step - loss: 0.5776 - acc: 0.6840\n",
      "Epoch 100/200\n",
      "500/500 [==============================] - 0s 33us/step - loss: 0.5782 - acc: 0.6860\n",
      "Epoch 101/200\n",
      "500/500 [==============================] - 0s 29us/step - loss: 0.5782 - acc: 0.6960\n",
      "Epoch 102/200\n",
      "500/500 [==============================] - 0s 31us/step - loss: 0.5766 - acc: 0.6940\n",
      "Epoch 103/200\n",
      "500/500 [==============================] - 0s 29us/step - loss: 0.5731 - acc: 0.6960\n",
      "Epoch 104/200\n",
      "500/500 [==============================] - 0s 31us/step - loss: 0.5771 - acc: 0.6880\n",
      "Epoch 105/200\n",
      "500/500 [==============================] - 0s 29us/step - loss: 0.5766 - acc: 0.6880\n",
      "Epoch 106/200\n",
      "500/500 [==============================] - 0s 31us/step - loss: 0.5742 - acc: 0.6940\n",
      "Epoch 107/200\n",
      "500/500 [==============================] - 0s 31us/step - loss: 0.5711 - acc: 0.6960\n",
      "Epoch 108/200\n",
      "500/500 [==============================] - 0s 31us/step - loss: 0.5712 - acc: 0.6980\n",
      "Epoch 109/200\n",
      "500/500 [==============================] - 0s 29us/step - loss: 0.5712 - acc: 0.6940\n",
      "Epoch 110/200\n",
      "500/500 [==============================] - 0s 29us/step - loss: 0.5700 - acc: 0.6900\n",
      "Epoch 111/200\n",
      "500/500 [==============================] - 0s 29us/step - loss: 0.5700 - acc: 0.7020\n",
      "Epoch 112/200\n",
      "500/500 [==============================] - 0s 29us/step - loss: 0.5703 - acc: 0.7000\n",
      "Epoch 113/200\n",
      "500/500 [==============================] - 0s 31us/step - loss: 0.5690 - acc: 0.6980\n",
      "Epoch 114/200\n",
      "500/500 [==============================] - 0s 31us/step - loss: 0.5689 - acc: 0.6920\n",
      "Epoch 115/200\n",
      "500/500 [==============================] - 0s 29us/step - loss: 0.5708 - acc: 0.6960\n",
      "Epoch 116/200\n",
      "500/500 [==============================] - 0s 29us/step - loss: 0.5681 - acc: 0.6980\n",
      "Epoch 117/200\n",
      "500/500 [==============================] - 0s 31us/step - loss: 0.5779 - acc: 0.6940\n",
      "Epoch 118/200\n",
      "500/500 [==============================] - 0s 31us/step - loss: 0.5702 - acc: 0.6980\n",
      "Epoch 119/200\n",
      "500/500 [==============================] - 0s 29us/step - loss: 0.5713 - acc: 0.7020\n",
      "Epoch 120/200\n",
      "500/500 [==============================] - 0s 31us/step - loss: 0.5644 - acc: 0.7020\n",
      "Epoch 121/200\n",
      "500/500 [==============================] - 0s 31us/step - loss: 0.5707 - acc: 0.6940\n",
      "Epoch 122/200\n",
      "500/500 [==============================] - 0s 31us/step - loss: 0.5687 - acc: 0.6940\n",
      "Epoch 123/200\n",
      "500/500 [==============================] - 0s 31us/step - loss: 0.5694 - acc: 0.6940\n",
      "Epoch 124/200\n",
      "500/500 [==============================] - 0s 27us/step - loss: 0.5689 - acc: 0.6900\n",
      "Epoch 125/200\n",
      "500/500 [==============================] - 0s 31us/step - loss: 0.5678 - acc: 0.6960\n",
      "Epoch 126/200\n",
      "500/500 [==============================] - 0s 29us/step - loss: 0.5633 - acc: 0.7020\n",
      "Epoch 127/200\n",
      "500/500 [==============================] - 0s 29us/step - loss: 0.5653 - acc: 0.7060\n",
      "Epoch 128/200\n",
      "500/500 [==============================] - 0s 31us/step - loss: 0.5616 - acc: 0.6920\n",
      "Epoch 129/200\n",
      "500/500 [==============================] - 0s 29us/step - loss: 0.5628 - acc: 0.7000\n",
      "Epoch 130/200\n",
      "500/500 [==============================] - 0s 29us/step - loss: 0.5608 - acc: 0.7020\n",
      "Epoch 131/200\n",
      "500/500 [==============================] - 0s 31us/step - loss: 0.5654 - acc: 0.6880\n",
      "Epoch 132/200\n",
      "500/500 [==============================] - 0s 29us/step - loss: 0.5591 - acc: 0.7060\n",
      "Epoch 133/200\n",
      "500/500 [==============================] - 0s 29us/step - loss: 0.5687 - acc: 0.7040\n",
      "Epoch 134/200\n",
      "500/500 [==============================] - 0s 29us/step - loss: 0.5616 - acc: 0.7080\n",
      "Epoch 135/200\n",
      "500/500 [==============================] - 0s 29us/step - loss: 0.5626 - acc: 0.7080\n",
      "Epoch 136/200\n",
      "500/500 [==============================] - 0s 29us/step - loss: 0.5634 - acc: 0.7100\n",
      "Epoch 137/200\n",
      "500/500 [==============================] - 0s 35us/step - loss: 0.5599 - acc: 0.7040\n",
      "Epoch 138/200\n",
      "500/500 [==============================] - 0s 27us/step - loss: 0.5578 - acc: 0.7100\n",
      "Epoch 139/200\n",
      "500/500 [==============================] - 0s 27us/step - loss: 0.5637 - acc: 0.7040\n",
      "Epoch 140/200\n",
      "500/500 [==============================] - 0s 29us/step - loss: 0.5625 - acc: 0.7040\n",
      "Epoch 141/200\n",
      "500/500 [==============================] - 0s 29us/step - loss: 0.5587 - acc: 0.7100\n",
      "Epoch 142/200\n",
      "500/500 [==============================] - 0s 31us/step - loss: 0.5582 - acc: 0.7040\n",
      "Epoch 143/200\n",
      "500/500 [==============================] - 0s 33us/step - loss: 0.5559 - acc: 0.7040\n",
      "Epoch 144/200\n",
      "500/500 [==============================] - 0s 29us/step - loss: 0.5563 - acc: 0.7060\n",
      "Epoch 145/200\n",
      "500/500 [==============================] - 0s 33us/step - loss: 0.5572 - acc: 0.7060\n",
      "Epoch 146/200\n",
      "500/500 [==============================] - 0s 33us/step - loss: 0.5572 - acc: 0.6960\n",
      "Epoch 147/200\n",
      "500/500 [==============================] - 0s 29us/step - loss: 0.5550 - acc: 0.7020\n",
      "Epoch 148/200\n",
      "500/500 [==============================] - 0s 31us/step - loss: 0.5562 - acc: 0.7080\n",
      "Epoch 149/200\n",
      "500/500 [==============================] - 0s 29us/step - loss: 0.5561 - acc: 0.7040\n",
      "Epoch 150/200\n",
      "500/500 [==============================] - 0s 31us/step - loss: 0.5545 - acc: 0.7160\n",
      "Epoch 151/200\n",
      "500/500 [==============================] - 0s 31us/step - loss: 0.5627 - acc: 0.7020\n",
      "Epoch 152/200\n",
      "500/500 [==============================] - 0s 35us/step - loss: 0.5607 - acc: 0.7180\n",
      "Epoch 153/200\n",
      "500/500 [==============================] - 0s 35us/step - loss: 0.5597 - acc: 0.6900\n",
      "Epoch 154/200\n",
      "500/500 [==============================] - 0s 33us/step - loss: 0.5526 - acc: 0.7080\n",
      "Epoch 155/200\n",
      "500/500 [==============================] - 0s 33us/step - loss: 0.5534 - acc: 0.7120\n",
      "Epoch 156/200\n",
      "500/500 [==============================] - 0s 33us/step - loss: 0.5568 - acc: 0.7120\n",
      "Epoch 157/200\n",
      "500/500 [==============================] - 0s 33us/step - loss: 0.5600 - acc: 0.7000\n",
      "Epoch 158/200\n",
      "500/500 [==============================] - 0s 31us/step - loss: 0.5594 - acc: 0.7060\n",
      "Epoch 159/200\n",
      "500/500 [==============================] - 0s 31us/step - loss: 0.5551 - acc: 0.7140\n",
      "Epoch 160/200\n",
      "500/500 [==============================] - 0s 33us/step - loss: 0.5493 - acc: 0.7180\n",
      "Epoch 161/200\n",
      "500/500 [==============================] - 0s 29us/step - loss: 0.5507 - acc: 0.7120\n",
      "Epoch 162/200\n",
      "500/500 [==============================] - 0s 29us/step - loss: 0.5505 - acc: 0.7100\n",
      "Epoch 163/200\n",
      "500/500 [==============================] - 0s 29us/step - loss: 0.5493 - acc: 0.7080\n",
      "Epoch 164/200\n",
      "500/500 [==============================] - 0s 33us/step - loss: 0.5499 - acc: 0.7160\n",
      "Epoch 165/200\n",
      "500/500 [==============================] - 0s 35us/step - loss: 0.5477 - acc: 0.7200\n",
      "Epoch 166/200\n"
     ]
    },
    {
     "name": "stdout",
     "output_type": "stream",
     "text": [
      "500/500 [==============================] - 0s 33us/step - loss: 0.5514 - acc: 0.7020\n",
      "Epoch 167/200\n",
      "500/500 [==============================] - 0s 35us/step - loss: 0.5500 - acc: 0.7240\n",
      "Epoch 168/200\n",
      "500/500 [==============================] - 0s 39us/step - loss: 0.5486 - acc: 0.7200\n",
      "Epoch 169/200\n",
      "500/500 [==============================] - 0s 33us/step - loss: 0.5466 - acc: 0.7200\n",
      "Epoch 170/200\n",
      "500/500 [==============================] - 0s 35us/step - loss: 0.5465 - acc: 0.7160\n",
      "Epoch 171/200\n",
      "500/500 [==============================] - 0s 33us/step - loss: 0.5470 - acc: 0.7200\n",
      "Epoch 172/200\n",
      "500/500 [==============================] - 0s 33us/step - loss: 0.5470 - acc: 0.7080\n",
      "Epoch 173/200\n",
      "500/500 [==============================] - 0s 31us/step - loss: 0.5481 - acc: 0.7180\n",
      "Epoch 174/200\n",
      "500/500 [==============================] - 0s 33us/step - loss: 0.5499 - acc: 0.7140\n",
      "Epoch 175/200\n",
      "500/500 [==============================] - 0s 33us/step - loss: 0.5487 - acc: 0.7040\n",
      "Epoch 176/200\n",
      "500/500 [==============================] - 0s 35us/step - loss: 0.5504 - acc: 0.7100\n",
      "Epoch 177/200\n",
      "500/500 [==============================] - 0s 35us/step - loss: 0.5503 - acc: 0.7060\n",
      "Epoch 178/200\n",
      "500/500 [==============================] - 0s 33us/step - loss: 0.5493 - acc: 0.7140\n",
      "Epoch 179/200\n",
      "500/500 [==============================] - 0s 31us/step - loss: 0.5510 - acc: 0.7080\n",
      "Epoch 180/200\n",
      "500/500 [==============================] - 0s 31us/step - loss: 0.5461 - acc: 0.7180\n",
      "Epoch 181/200\n",
      "500/500 [==============================] - 0s 31us/step - loss: 0.5484 - acc: 0.7120\n",
      "Epoch 182/200\n",
      "500/500 [==============================] - 0s 31us/step - loss: 0.5480 - acc: 0.7120\n",
      "Epoch 183/200\n",
      "500/500 [==============================] - 0s 31us/step - loss: 0.5475 - acc: 0.7200\n",
      "Epoch 184/200\n",
      "500/500 [==============================] - 0s 35us/step - loss: 0.5441 - acc: 0.7080\n",
      "Epoch 185/200\n",
      "500/500 [==============================] - 0s 31us/step - loss: 0.5427 - acc: 0.7240\n",
      "Epoch 186/200\n",
      "500/500 [==============================] - 0s 31us/step - loss: 0.5475 - acc: 0.7060\n",
      "Epoch 187/200\n",
      "500/500 [==============================] - 0s 33us/step - loss: 0.5425 - acc: 0.7160\n",
      "Epoch 188/200\n",
      "500/500 [==============================] - 0s 31us/step - loss: 0.5460 - acc: 0.7220\n",
      "Epoch 189/200\n",
      "500/500 [==============================] - 0s 31us/step - loss: 0.5445 - acc: 0.7120\n",
      "Epoch 190/200\n",
      "500/500 [==============================] - 0s 31us/step - loss: 0.5480 - acc: 0.7160\n",
      "Epoch 191/200\n",
      "500/500 [==============================] - 0s 33us/step - loss: 0.5423 - acc: 0.7060\n",
      "Epoch 192/200\n",
      "500/500 [==============================] - 0s 33us/step - loss: 0.5417 - acc: 0.7200\n",
      "Epoch 193/200\n",
      "500/500 [==============================] - 0s 33us/step - loss: 0.5429 - acc: 0.7080\n",
      "Epoch 194/200\n",
      "500/500 [==============================] - 0s 33us/step - loss: 0.5393 - acc: 0.7160\n",
      "Epoch 195/200\n",
      "500/500 [==============================] - 0s 31us/step - loss: 0.5428 - acc: 0.7120\n",
      "Epoch 196/200\n",
      "500/500 [==============================] - 0s 31us/step - loss: 0.5463 - acc: 0.7120\n",
      "Epoch 197/200\n",
      "500/500 [==============================] - 0s 33us/step - loss: 0.5421 - acc: 0.7020\n",
      "Epoch 198/200\n",
      "500/500 [==============================] - 0s 33us/step - loss: 0.5394 - acc: 0.7180\n",
      "Epoch 199/200\n",
      "500/500 [==============================] - 0s 33us/step - loss: 0.5389 - acc: 0.7200\n",
      "Epoch 200/200\n",
      "500/500 [==============================] - 0s 29us/step - loss: 0.5404 - acc: 0.7000\n"
     ]
    },
    {
     "data": {
      "text/plain": [
       "<keras.callbacks.History at 0x2165f164f60>"
      ]
     },
     "execution_count": 16,
     "metadata": {},
     "output_type": "execute_result"
    }
   ],
   "source": [
    "model.fit(X, Y, nb_epoch=200, batch_size=30)"
   ]
  },
  {
   "cell_type": "markdown",
   "metadata": {},
   "source": [
    "# Step 6.  Score the Model"
   ]
  },
  {
   "cell_type": "code",
   "execution_count": 17,
   "metadata": {},
   "outputs": [
    {
     "name": "stdout",
     "output_type": "stream",
     "text": [
      "500/500 [==============================] - 0s 74us/step\n",
      "acc: 71.60%\n"
     ]
    }
   ],
   "source": [
    "scores = model.evaluate(X, Y)\n",
    "print(\"%s: %.2f%%\" % (model.metrics_names[1], scores[1]*100))\n"
   ]
  }
 ],
 "metadata": {
  "kernelspec": {
   "display_name": "Python [conda env:tensor_flow]",
   "language": "python",
   "name": "conda-env-tensor_flow-py"
  },
  "language_info": {
   "codemirror_mode": {
    "name": "ipython",
    "version": 3
   },
   "file_extension": ".py",
   "mimetype": "text/x-python",
   "name": "python",
   "nbconvert_exporter": "python",
   "pygments_lexer": "ipython3",
   "version": "3.6.6"
  }
 },
 "nbformat": 4,
 "nbformat_minor": 2
}
