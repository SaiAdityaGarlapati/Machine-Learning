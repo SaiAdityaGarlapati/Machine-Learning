{
 "cells": [
  {
   "cell_type": "code",
   "execution_count": 13,
   "metadata": {},
   "outputs": [],
   "source": [
    "import pandas as pd\n",
    "import numpy as np\n",
    "import matplotlib.pyplot as plt\n",
    "\n",
    "from sklearn.cluster import KMeans\n",
    "\n"
   ]
  },
  {
   "cell_type": "code",
   "execution_count": 4,
   "metadata": {},
   "outputs": [],
   "source": [
    "vote=pd.read_csv('voting.csv',index_col=0)"
   ]
  },
  {
   "cell_type": "code",
   "execution_count": 5,
   "metadata": {},
   "outputs": [
    {
     "data": {
      "text/html": [
       "<div>\n",
       "<style scoped>\n",
       "    .dataframe tbody tr th:only-of-type {\n",
       "        vertical-align: middle;\n",
       "    }\n",
       "\n",
       "    .dataframe tbody tr th {\n",
       "        vertical-align: top;\n",
       "    }\n",
       "\n",
       "    .dataframe thead th {\n",
       "        text-align: right;\n",
       "    }\n",
       "</style>\n",
       "<table border=\"1\" class=\"dataframe\">\n",
       "  <thead>\n",
       "    <tr style=\"text-align: right;\">\n",
       "      <th></th>\n",
       "      <th>Armenia</th>\n",
       "      <th>Australia</th>\n",
       "      <th>Austria</th>\n",
       "      <th>Azerbaijan</th>\n",
       "      <th>Belgium</th>\n",
       "      <th>Bulgaria</th>\n",
       "      <th>Croatia</th>\n",
       "      <th>Cyprus</th>\n",
       "      <th>Czech Republic</th>\n",
       "      <th>France</th>\n",
       "      <th>...</th>\n",
       "      <th>Lithuania</th>\n",
       "      <th>Malta</th>\n",
       "      <th>Poland</th>\n",
       "      <th>Russia</th>\n",
       "      <th>Serbia</th>\n",
       "      <th>Spain</th>\n",
       "      <th>Sweden</th>\n",
       "      <th>The Netherlands</th>\n",
       "      <th>Ukraine</th>\n",
       "      <th>United Kingdom</th>\n",
       "    </tr>\n",
       "    <tr>\n",
       "      <th>From country</th>\n",
       "      <th></th>\n",
       "      <th></th>\n",
       "      <th></th>\n",
       "      <th></th>\n",
       "      <th></th>\n",
       "      <th></th>\n",
       "      <th></th>\n",
       "      <th></th>\n",
       "      <th></th>\n",
       "      <th></th>\n",
       "      <th></th>\n",
       "      <th></th>\n",
       "      <th></th>\n",
       "      <th></th>\n",
       "      <th></th>\n",
       "      <th></th>\n",
       "      <th></th>\n",
       "      <th></th>\n",
       "      <th></th>\n",
       "      <th></th>\n",
       "      <th></th>\n",
       "    </tr>\n",
       "  </thead>\n",
       "  <tbody>\n",
       "    <tr>\n",
       "      <th>Albania</th>\n",
       "      <td>2.0</td>\n",
       "      <td>12.0</td>\n",
       "      <td>0.0</td>\n",
       "      <td>0.0</td>\n",
       "      <td>0.0</td>\n",
       "      <td>8.0</td>\n",
       "      <td>0.0</td>\n",
       "      <td>0.0</td>\n",
       "      <td>0.0</td>\n",
       "      <td>0.0</td>\n",
       "      <td>...</td>\n",
       "      <td>4.0</td>\n",
       "      <td>0.0</td>\n",
       "      <td>5.0</td>\n",
       "      <td>7.0</td>\n",
       "      <td>0.0</td>\n",
       "      <td>0.0</td>\n",
       "      <td>3.0</td>\n",
       "      <td>0.0</td>\n",
       "      <td>6.0</td>\n",
       "      <td>0.0</td>\n",
       "    </tr>\n",
       "    <tr>\n",
       "      <th>Armenia</th>\n",
       "      <td>NaN</td>\n",
       "      <td>0.0</td>\n",
       "      <td>4.0</td>\n",
       "      <td>0.0</td>\n",
       "      <td>0.0</td>\n",
       "      <td>0.0</td>\n",
       "      <td>0.0</td>\n",
       "      <td>6.0</td>\n",
       "      <td>0.0</td>\n",
       "      <td>7.0</td>\n",
       "      <td>...</td>\n",
       "      <td>0.0</td>\n",
       "      <td>5.0</td>\n",
       "      <td>1.0</td>\n",
       "      <td>12.0</td>\n",
       "      <td>0.0</td>\n",
       "      <td>0.0</td>\n",
       "      <td>2.0</td>\n",
       "      <td>0.0</td>\n",
       "      <td>10.0</td>\n",
       "      <td>0.0</td>\n",
       "    </tr>\n",
       "    <tr>\n",
       "      <th>Australia</th>\n",
       "      <td>0.0</td>\n",
       "      <td>NaN</td>\n",
       "      <td>3.0</td>\n",
       "      <td>0.0</td>\n",
       "      <td>12.0</td>\n",
       "      <td>10.0</td>\n",
       "      <td>0.0</td>\n",
       "      <td>0.0</td>\n",
       "      <td>0.0</td>\n",
       "      <td>7.0</td>\n",
       "      <td>...</td>\n",
       "      <td>1.0</td>\n",
       "      <td>6.0</td>\n",
       "      <td>0.0</td>\n",
       "      <td>5.0</td>\n",
       "      <td>0.0</td>\n",
       "      <td>2.0</td>\n",
       "      <td>0.0</td>\n",
       "      <td>0.0</td>\n",
       "      <td>8.0</td>\n",
       "      <td>4.0</td>\n",
       "    </tr>\n",
       "    <tr>\n",
       "      <th>Austria</th>\n",
       "      <td>0.0</td>\n",
       "      <td>3.0</td>\n",
       "      <td>NaN</td>\n",
       "      <td>0.0</td>\n",
       "      <td>0.0</td>\n",
       "      <td>5.0</td>\n",
       "      <td>0.0</td>\n",
       "      <td>0.0</td>\n",
       "      <td>0.0</td>\n",
       "      <td>1.0</td>\n",
       "      <td>...</td>\n",
       "      <td>0.0</td>\n",
       "      <td>0.0</td>\n",
       "      <td>12.0</td>\n",
       "      <td>8.0</td>\n",
       "      <td>4.0</td>\n",
       "      <td>0.0</td>\n",
       "      <td>7.0</td>\n",
       "      <td>6.0</td>\n",
       "      <td>10.0</td>\n",
       "      <td>0.0</td>\n",
       "    </tr>\n",
       "    <tr>\n",
       "      <th>Azerbaijan</th>\n",
       "      <td>0.0</td>\n",
       "      <td>2.0</td>\n",
       "      <td>0.0</td>\n",
       "      <td>NaN</td>\n",
       "      <td>0.0</td>\n",
       "      <td>8.0</td>\n",
       "      <td>0.0</td>\n",
       "      <td>0.0</td>\n",
       "      <td>0.0</td>\n",
       "      <td>4.0</td>\n",
       "      <td>...</td>\n",
       "      <td>0.0</td>\n",
       "      <td>5.0</td>\n",
       "      <td>3.0</td>\n",
       "      <td>12.0</td>\n",
       "      <td>0.0</td>\n",
       "      <td>0.0</td>\n",
       "      <td>0.0</td>\n",
       "      <td>0.0</td>\n",
       "      <td>10.0</td>\n",
       "      <td>0.0</td>\n",
       "    </tr>\n",
       "  </tbody>\n",
       "</table>\n",
       "<p>5 rows × 26 columns</p>\n",
       "</div>"
      ],
      "text/plain": [
       "              Armenia  Australia  Austria  Azerbaijan  Belgium  Bulgaria  \\\n",
       "From country                                                               \n",
       "Albania           2.0       12.0      0.0         0.0      0.0       8.0   \n",
       "Armenia           NaN        0.0      4.0         0.0      0.0       0.0   \n",
       "Australia         0.0        NaN      3.0         0.0     12.0      10.0   \n",
       "Austria           0.0        3.0      NaN         0.0      0.0       5.0   \n",
       "Azerbaijan        0.0        2.0      0.0         NaN      0.0       8.0   \n",
       "\n",
       "              Croatia  Cyprus  Czech Republic  France       ...        \\\n",
       "From country                                                ...         \n",
       "Albania           0.0     0.0             0.0     0.0       ...         \n",
       "Armenia           0.0     6.0             0.0     7.0       ...         \n",
       "Australia         0.0     0.0             0.0     7.0       ...         \n",
       "Austria           0.0     0.0             0.0     1.0       ...         \n",
       "Azerbaijan        0.0     0.0             0.0     4.0       ...         \n",
       "\n",
       "              Lithuania  Malta  Poland  Russia  Serbia  Spain  Sweden  \\\n",
       "From country                                                            \n",
       "Albania             4.0    0.0     5.0     7.0     0.0    0.0     3.0   \n",
       "Armenia             0.0    5.0     1.0    12.0     0.0    0.0     2.0   \n",
       "Australia           1.0    6.0     0.0     5.0     0.0    2.0     0.0   \n",
       "Austria             0.0    0.0    12.0     8.0     4.0    0.0     7.0   \n",
       "Azerbaijan          0.0    5.0     3.0    12.0     0.0    0.0     0.0   \n",
       "\n",
       "              The Netherlands  Ukraine  United Kingdom  \n",
       "From country                                            \n",
       "Albania                   0.0      6.0             0.0  \n",
       "Armenia                   0.0     10.0             0.0  \n",
       "Australia                 0.0      8.0             4.0  \n",
       "Austria                   6.0     10.0             0.0  \n",
       "Azerbaijan                0.0     10.0             0.0  \n",
       "\n",
       "[5 rows x 26 columns]"
      ]
     },
     "execution_count": 5,
     "metadata": {},
     "output_type": "execute_result"
    }
   ],
   "source": [
    "vote.head()"
   ]
  },
  {
   "cell_type": "code",
   "execution_count": 17,
   "metadata": {},
   "outputs": [],
   "source": [
    "vote = vote.fillna(value=12)"
   ]
  },
  {
   "cell_type": "code",
   "execution_count": 18,
   "metadata": {},
   "outputs": [],
   "source": [
    "kmeans= KMeans(n_clusters=3)"
   ]
  },
  {
   "cell_type": "code",
   "execution_count": 19,
   "metadata": {},
   "outputs": [
    {
     "data": {
      "text/plain": [
       "KMeans(algorithm='auto', copy_x=True, init='k-means++', max_iter=300,\n",
       "    n_clusters=3, n_init=10, n_jobs=1, precompute_distances='auto',\n",
       "    random_state=None, tol=0.0001, verbose=0)"
      ]
     },
     "execution_count": 19,
     "metadata": {},
     "output_type": "execute_result"
    }
   ],
   "source": [
    "kmeans.fit(vote)"
   ]
  },
  {
   "cell_type": "code",
   "execution_count": 20,
   "metadata": {},
   "outputs": [],
   "source": [
    "labels=kmeans.predict(vote)\n",
    "centeroids=kmeans.cluster_centers_"
   ]
  },
  {
   "cell_type": "code",
   "execution_count": 21,
   "metadata": {},
   "outputs": [
    {
     "data": {
      "text/plain": [
       "array([1, 2, 2, 1, 2, 2, 1, 0, 2, 0, 2, 2, 1, 1, 0, 1, 2, 2, 1, 2, 1, 1,\n",
       "       1, 2, 2, 1, 1, 2, 2, 0, 1, 1, 2, 1, 0, 0, 2, 1, 0, 1, 2, 1])"
      ]
     },
     "execution_count": 21,
     "metadata": {},
     "output_type": "execute_result"
    }
   ],
   "source": [
    "labels"
   ]
  },
  {
   "cell_type": "code",
   "execution_count": 22,
   "metadata": {},
   "outputs": [
    {
     "data": {
      "text/plain": [
       "array([[ 1.28571429e+00,  3.00000000e+00,  3.85714286e+00,\n",
       "         2.14285714e+00,  1.28571429e+00,  4.00000000e+00,\n",
       "         6.42857143e+00,  4.28571429e-01,  5.55111512e-17,\n",
       "         1.42857143e+00,  1.11022302e-16,  1.14285714e+00,\n",
       "         2.42857143e+00,  1.11022302e-16,  1.85714286e+00,\n",
       "        -2.22044605e-16,  2.85714286e-01,  0.00000000e+00,\n",
       "         2.14285714e+00,  8.57142857e+00,  1.20000000e+01,\n",
       "         2.85714286e-01,  1.85714286e+00,  0.00000000e+00,\n",
       "         7.00000000e+00, -5.55111512e-17],\n",
       "       [ 1.27777778e+00,  6.44444444e+00,  3.55555556e+00,\n",
       "         2.22222222e-01,  2.05555556e+00,  3.33333333e+00,\n",
       "        -2.22044605e-16,  6.66666667e-01,  5.55111512e-17,\n",
       "         1.83333333e+00,  3.33333333e-01,  7.77777778e-01,\n",
       "         1.22222222e+00,  1.11022302e-16,  6.11111111e-01,\n",
       "         3.16666667e+00,  4.94444444e+00,  1.11022302e-16,\n",
       "         8.22222222e+00,  8.00000000e+00,  2.22222222e-01,\n",
       "         2.77777778e-01,  6.77777778e+00,  2.66666667e+00,\n",
       "         7.22222222e+00,  8.33333333e-01],\n",
       "       [ 6.70588235e+00,  3.88235294e+00,  2.41176471e+00,\n",
       "         3.88235294e+00,  1.00000000e+00,  6.11764706e+00,\n",
       "         0.00000000e+00,  2.94117647e+00,  7.05882353e-01,\n",
       "         4.58823529e+00,  1.76470588e+00,  0.00000000e+00,\n",
       "         1.70588235e+00,  1.35294118e+00,  1.29411765e+00,\n",
       "         1.05882353e+00,  1.00000000e+00,  1.64705882e+00,\n",
       "         4.17647059e+00,  9.94117647e+00,  2.35294118e-01,\n",
       "         8.82352941e-01,  9.41176471e-01,  1.76470588e-01,\n",
       "         9.17647059e+00,  2.94117647e-01]])"
      ]
     },
     "execution_count": 22,
     "metadata": {},
     "output_type": "execute_result"
    }
   ],
   "source": [
    "centeroids"
   ]
  },
  {
   "cell_type": "code",
   "execution_count": null,
   "metadata": {},
   "outputs": [],
   "source": []
  },
  {
   "cell_type": "code",
   "execution_count": null,
   "metadata": {},
   "outputs": [],
   "source": []
  }
 ],
 "metadata": {
  "kernelspec": {
   "display_name": "Python 3",
   "language": "python",
   "name": "python3"
  },
  "language_info": {
   "codemirror_mode": {
    "name": "ipython",
    "version": 3
   },
   "file_extension": ".py",
   "mimetype": "text/x-python",
   "name": "python",
   "nbconvert_exporter": "python",
   "pygments_lexer": "ipython3",
   "version": "3.7.0"
  }
 },
 "nbformat": 4,
 "nbformat_minor": 2
}
