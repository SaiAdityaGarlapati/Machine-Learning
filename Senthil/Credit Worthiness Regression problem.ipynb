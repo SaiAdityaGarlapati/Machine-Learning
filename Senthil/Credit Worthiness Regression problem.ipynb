{
 "cells": [
  {
   "cell_type": "code",
   "execution_count": null,
   "metadata": {},
   "outputs": [],
   "source": [
    "# Import libraries here\n",
    "import numpy as np\n",
    "import pandas as pd\n",
    "import matplotlib\n",
    "matplotlib.use('Agg')\n",
    "import matplotlib.pyplot as plt\n",
    "from sklearn.tree import DecisionTreeClassifier\n",
    "from sklearn.linear_model import LogisticRegression\n",
    "from sklearn.ensemble import RandomForestClassifier\n",
    "# [Example] Read datasets\n",
    "credit_train = pd.read_csv(\"C:/Users/Aditya/Documents/Manipal Sem 2/Machine Learning/Do Select Assignment/Credit Worthiness/credit_train.csv\")\n",
    "credit_test = pd.read_csv(\"C:/Users/Aditya/Documents/Manipal Sem 2/Machine Learning/Do Select Assignment/Credit Worthiness/credit_test.csv\")\n",
    "\n",
    "'''conditions = [\n",
    "    (wine_train['quality'] == 6),\n",
    "    (wine_train['quality'] < 6),\n",
    "    (wine_train['quality'] > 6 )]\n",
    "choices = ['normal', 'bad', 'good']'''\n",
    "\n",
    "#wine_train['taste'] = np.select(conditions, choices)\n",
    "\n",
    "out = credit_train['Class']\n",
    "x= credit_train.drop(['Class'],axis=1)\n",
    "\n",
    "xval= credit_test.drop(['id'],axis=1)\n"
   ]
  },
  {
   "cell_type": "code",
   "execution_count": null,
   "metadata": {},
   "outputs": [],
   "source": [
    "\n",
    "\n",
    "model_rf = RandomForestClassifier(random_state=100,n_estimators=300)\n",
    "model_rf.fit(x, out)\n",
    "\n",
    "pred_test = model_rf.predict(xval)\n",
    "\n",
    "pred_test"
   ]
  },
  {
   "cell_type": "code",
   "execution_count": null,
   "metadata": {},
   "outputs": [],
   "source": [
    "#creating prediction.csv\n",
    "df = pd.DataFrame(columns=['id','taste'])\n",
    "df['class']=pred_test\n",
    "df['id']=credit_test['id']\n",
    "\n",
    "print(df.head())\n",
    "\n",
    "df.to_csv(\"credit_prediction.csv\")"
   ]
  }
 ],
 "metadata": {
  "kernelspec": {
   "display_name": "Python 3",
   "language": "python",
   "name": "python3"
  },
  "language_info": {
   "codemirror_mode": {
    "name": "ipython",
    "version": 3
   },
   "file_extension": ".py",
   "mimetype": "text/x-python",
   "name": "python",
   "nbconvert_exporter": "python",
   "pygments_lexer": "ipython3",
   "version": "3.7.0"
  }
 },
 "nbformat": 4,
 "nbformat_minor": 2
}
